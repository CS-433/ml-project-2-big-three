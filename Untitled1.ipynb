{
 "cells": [
  {
   "cell_type": "code",
   "execution_count": 1,
   "id": "be7110db-1bbd-4495-9f58-2ab455e8a14f",
   "metadata": {},
   "outputs": [],
   "source": [
    "import pandas as pd\n",
    "import numpy as np\n",
    "import matplotlib.pyplot as plt"
   ]
  },
  {
   "cell_type": "code",
   "execution_count": 2,
   "id": "914b0620-63e4-459d-a7f5-350fe3b51841",
   "metadata": {},
   "outputs": [],
   "source": [
    "# Initialize empty lists to store the lines from the files\n",
    "train_neg = []\n",
    "train_pos = []\n",
    "\n",
    "# File paths for the datasets\n",
    "train_neg_file = 'twitter-datasets/train_neg_full.txt'\n",
    "train_pos_file = 'twitter-datasets/train_pos_full.txt'\n",
    "\n",
    "# Read lines from 'train_neg' dataset and store them in train_neg_lines\n",
    "with open(train_neg_file, 'r', encoding='utf-8') as file:\n",
    "    for line in file:\n",
    "        train_neg.append(line.strip())  # Remove newline characters\n",
    "\n",
    "# Read lines from 'train_pos' dataset and store them in train_pos_lines\n",
    "with open(train_pos_file, 'r', encoding='utf-8') as file:\n",
    "    for line in file:\n",
    "        train_pos.append(line.strip())  # Remove newline characters"
   ]
  },
  {
   "cell_type": "code",
   "execution_count": 3,
   "id": "37929933-5b97-4301-9e25-b2817d3ad9dd",
   "metadata": {},
   "outputs": [],
   "source": [
    "# Initialize empty lists to store the lines from the files\n",
    "test = []\n",
    "\n",
    "# File paths for the datasets\n",
    "test_file = 'test_data.txt'\n",
    "\n",
    "# Read lines from 'train_neg' dataset and store them in train_neg_lines\n",
    "with open(test_file, 'r', encoding='utf-8') as file:\n",
    "    for line in file:\n",
    "        test.append(line.strip())  # Remove newline characters"
   ]
  },
  {
   "cell_type": "code",
   "execution_count": 4,
   "id": "eeebb822-0fee-47e2-99e4-15f990848918",
   "metadata": {},
   "outputs": [
    {
     "name": "stdout",
     "output_type": "stream",
     "text": [
      "Number of lines in train_neg: 1250000\n",
      "Number of lines in train_pos: 1250000\n",
      "Number of lines in test: 10000\n"
     ]
    }
   ],
   "source": [
    "# Print the number of lines in each dataset\n",
    "print(\"Number of lines in train_neg:\", len(train_neg))\n",
    "print(\"Number of lines in train_pos:\", len(train_pos))\n",
    "print(\"Number of lines in test:\", len(test))"
   ]
  },
  {
   "cell_type": "code",
   "execution_count": 5,
   "id": "552715ad-abf9-4a86-a717-861ea29f5521",
   "metadata": {},
   "outputs": [],
   "source": [
    "import pandas as pd\n",
    "import re\n",
    "from os import listdir\n",
    "from os.path import isfile, join\n",
    "from random import shuffle"
   ]
  },
  {
   "cell_type": "code",
   "execution_count": 6,
   "id": "4e835ab8-44fe-42d9-b612-5924701c0b58",
   "metadata": {},
   "outputs": [],
   "source": [
    "def create_dataframe(arr_pos, arr_neg):\n",
    "    # Create a DataFrame from arr_pos with \"value\" column set to 1\n",
    "    df_pos = pd.DataFrame({'text': arr_pos, 'label': 1})\n",
    "    \n",
    "    # Create a DataFrame from arr_neg with \"value\" column set to -1\n",
    "    df_neg = pd.DataFrame({'text': arr_neg, 'label': 0})\n",
    "    \n",
    "    # Concatenate the two DataFrames\n",
    "    result_df = pd.concat([df_pos, df_neg], ignore_index=True)\n",
    "    \n",
    "    return result_df"
   ]
  },
  {
   "cell_type": "code",
   "execution_count": 7,
   "id": "5a1058dd-ce8f-4f5d-9abf-c34c884a0e8a",
   "metadata": {},
   "outputs": [],
   "source": [
    "data_train = create_dataframe(train_pos, train_neg)"
   ]
  },
  {
   "cell_type": "code",
   "execution_count": 8,
   "id": "5f8268e6-bc70-4825-b92d-d99711224f74",
   "metadata": {},
   "outputs": [
    {
     "name": "stdout",
     "output_type": "stream",
     "text": [
      "Number of line before droping duplicates: 2500000\n",
      "Number of line after droping duplicates: 2270482\n"
     ]
    }
   ],
   "source": [
    "print(\"Number of line before droping duplicates:\", len(data_train))\n",
    "\n",
    "data_train = data_train.drop_duplicates()\n",
    "\n",
    "print(\"Number of line after droping duplicates:\", len(data_train))"
   ]
  },
  {
   "cell_type": "code",
   "execution_count": 9,
   "id": "f00e02c6-9055-46fd-86c0-6cc440b52bea",
   "metadata": {},
   "outputs": [
    {
     "data": {
      "text/plain": [
       "0.5033459855660605"
      ]
     },
     "execution_count": 9,
     "metadata": {},
     "output_type": "execute_result"
    }
   ],
   "source": [
    "# Check if the dataset is still balanced after removing duplicates\n",
    "len(data_train[data_train[\"label\"] == 0])/len(data_train)"
   ]
  },
  {
   "cell_type": "code",
   "execution_count": 10,
   "id": "eca537a9-aeb7-4225-ae22-04d205384df6",
   "metadata": {},
   "outputs": [],
   "source": [
    "from sklearn.feature_extraction.text import CountVectorizer, TfidfTransformer\n",
    "from sklearn.linear_model import LogisticRegression\n",
    "from sklearn.model_selection import train_test_split\n",
    "from sklearn.metrics import accuracy_score\n",
    "\n",
    "# Split the data into training and testing sets\n",
    "X_train, X_test, y_train, y_test = train_test_split(data_train[\"text\"], data_train['label'], test_size=0.2, random_state=42)"
   ]
  },
  {
   "cell_type": "code",
   "execution_count": 11,
   "id": "a23c08f5-9959-4bfe-81e3-ba93e853a775",
   "metadata": {},
   "outputs": [],
   "source": [
    "# Create a Count vectorizer\n",
    "vectorizer = CountVectorizer(ngram_range=(1, 3))\n",
    "\n",
    "# Transform the text data into features\n",
    "X_train_tfidf = vectorizer.fit_transform(X_train)\n",
    "X_test_tfidf = vectorizer.transform(X_test)"
   ]
  },
  {
   "cell_type": "markdown",
   "id": "3e4aba7f-3d25-4923-a456-ba1d9db0e143",
   "metadata": {},
   "source": [
    "Manual grid search ngram_range gave me the best result for ngram_range = (1, 3). Actually, the bigger is the range, the more time it takes to vectorize (exponentially)."
   ]
  },
  {
   "cell_type": "markdown",
   "id": "898c2993-6f0e-4594-979f-6a83de628c77",
   "metadata": {
    "jp-MarkdownHeadingCollapsed": true,
    "tags": []
   },
   "source": [
    "### Logistic regression (doesn't work for entire dataset)"
   ]
  },
  {
   "cell_type": "code",
   "execution_count": 50,
   "id": "6e1f32e5-5d5b-4256-bb6a-49d7e55fe2a8",
   "metadata": {
    "tags": []
   },
   "outputs": [],
   "source": [
    "# Train a logistic regression model\n",
    "model = LogisticRegression(max_iter=1000)\n",
    "model.fit(X_train_tfidf, y_train)\n",
    "\n",
    "# Predict probabilities for the test set\n",
    "y_pred_proba = model.predict_proba(X_test_tfidf)"
   ]
  },
  {
   "cell_type": "code",
   "execution_count": 51,
   "id": "94ae0976-348b-4d0b-9d40-226b047650d7",
   "metadata": {
    "tags": []
   },
   "outputs": [],
   "source": [
    "# Range of thresholds from 0.0 to 1.0\n",
    "thresholds = np.arange(0.1, 0.9, 0.05)\n",
    "\n",
    "# Calculate accuracy for each threshold\n",
    "accuracies = []\n",
    "for threshold in thresholds:\n",
    "    # Apply the threshold\n",
    "    predictions = (y_pred_proba[:, 1] >= threshold).astype(int)\n",
    "    # Calculate accuracy\n",
    "    accuracy = accuracy_score(y_test, predictions)\n",
    "    accuracies.append(accuracy)\n"
   ]
  },
  {
   "cell_type": "code",
   "execution_count": 52,
   "id": "eefb713e-5b25-4853-bad0-e6b84bd7b27d",
   "metadata": {
    "tags": []
   },
   "outputs": [
    {
     "data": {
      "image/png": "[encoded data removed]",
      "text/plain": [
       "<Figure size 720x432 with 1 Axes>"
      ]
     },
     "metadata": {
      "needs_background": "light"
     },
     "output_type": "display_data"
    }
   ],
   "source": [
    "# Plotting the accuracies\n",
    "plt.figure(figsize=(10, 6))\n",
    "plt.plot(thresholds, accuracies, marker='o')\n",
    "plt.title('Accuracy vs. Decision Threshold')\n",
    "plt.xlabel('Threshold')\n",
    "plt.ylabel('Accuracy')\n",
    "plt.grid(True)\n",
    "plt.xticks(thresholds)\n",
    "plt.show()"
   ]
  },
  {
   "cell_type": "code",
   "execution_count": 53,
   "id": "032fa05c-b576-4549-965b-5e26c417156a",
   "metadata": {
    "tags": []
   },
   "outputs": [
    {
     "name": "stdout",
     "output_type": "stream",
     "text": [
      "Accuracy with custom threshold: 0.8171239487108782\n"
     ]
    }
   ],
   "source": [
    "# Apply the threshold\n",
    "# Assuming the positive class is the second one (index 1)\n",
    "y_pred_custom_threshold = (y_pred_proba[:, 1] >= 0.5).astype(int)\n",
    "\n",
    "# Calculate accuracy with the custom threshold\n",
    "accuracy_custom = accuracy_score(y_test, y_pred_custom_threshold)\n",
    "print(\"Accuracy with custom threshold:\", accuracy_custom)"
   ]
  },
  {
   "cell_type": "markdown",
   "id": "06ce1a7f-349f-42c5-922f-2c3ff3f9656d",
   "metadata": {
    "tags": []
   },
   "source": [
    "### SGD"
   ]
  },
  {
   "cell_type": "markdown",
   "id": "f9cb6cff-b5dd-41ad-a743-1585ecfc0555",
   "metadata": {},
   "source": [
    "Logistic Regression doesn't finish with the full dataset. But SGD is pretty fast and has the same score as the Logistic regression on the 10000 samples"
   ]
  },
  {
   "cell_type": "code",
   "execution_count": 12,
   "id": "9a1e7397-115f-4c9d-a5b9-982ee3684e6a",
   "metadata": {},
   "outputs": [
    {
     "name": "stdout",
     "output_type": "stream",
     "text": [
      "Training Metrics:\n",
      "  Accuracy: 0.8487688458118736\n",
      "\n",
      "Validation Metrics:\n",
      "  Accuracy: 0.8283032039410082\n"
     ]
    }
   ],
   "source": [
    "from sklearn.linear_model import SGDClassifier\n",
    "from sklearn.metrics import precision_score, recall_score, f1_score\n",
    "\n",
    "# Your existing code\n",
    "clf = SGDClassifier()\n",
    "clf.fit(X_train_tfidf, y_train)\n",
    "\n",
    "# Predictions for training and validation sets\n",
    "y_train_pred = clf.predict(X_train_tfidf)\n",
    "y_test_pred = clf.predict(X_test_tfidf)\n",
    "\n",
    "# Accuracy\n",
    "train_accuracy = clf.score(X_train_tfidf, y_train)\n",
    "valid_accuracy = clf.score(X_test_tfidf, y_test)\n",
    "\n",
    "# Display metrics\n",
    "print(f\"Training Metrics:\\n  Accuracy: {train_accuracy}\")\n",
    "print()\n",
    "print(f\"Validation Metrics:\\n  Accuracy: {valid_accuracy}\")"
   ]
  },
  {
   "cell_type": "code",
   "execution_count": 13,
   "id": "b23c6a64-ee62-46a1-8805-0ce2d1a24c98",
   "metadata": {},
   "outputs": [],
   "source": [
    "from sklearn.linear_model import SGDClassifier\n",
    "from sklearn.metrics import precision_score, recall_score, f1_score\n",
    "import numpy as np\n",
    "\n",
    "# Your existing code\n",
    "clf = SGDClassifier()\n",
    "clf.fit(X_train_tfidf, y_train)\n",
    "\n",
    "# Get decision scores for training and validation sets\n",
    "# Use decision_function or predict_proba based on your classifier\n",
    "y_train_scores = clf.decision_function(X_train_tfidf)\n",
    "y_test_scores = clf.decision_function(X_test_tfidf)"
   ]
  },
  {
   "cell_type": "code",
   "execution_count": 32,
   "id": "4d89dda3-dfeb-4095-87ab-5710738b42fa",
   "metadata": {},
   "outputs": [
    {
     "name": "stdout",
     "output_type": "stream",
     "text": [
      "Training Metrics:\n",
      "  Accuracy: 0.8513173143358924\n",
      "\n",
      "Validation Metrics:\n",
      "  Accuracy: 0.8300671442445117\n"
     ]
    }
   ],
   "source": [
    "# Set your custom threshold\n",
    "threshold = 0.2 # Replace 0.5 with your custom threshold\n",
    "\n",
    "# Apply threshold to decision scores to get custom predictions\n",
    "y_train_pred = np.where(y_train_scores > threshold, 1, 0)\n",
    "y_test_pred = np.where(y_test_scores > threshold, 1, 0)\n",
    "\n",
    "# Calculate metrics using custom predictions\n",
    "train_accuracy = np.mean(y_train_pred == y_train)\n",
    "valid_accuracy = np.mean(y_test_pred == y_test)\n",
    "train_precision = precision_score(y_train, y_train_pred, average='weighted')\n",
    "valid_precision = precision_score(y_test, y_test_pred, average='weighted')\n",
    "train_recall = recall_score(y_train, y_train_pred, average='weighted')\n",
    "valid_recall = recall_score(y_test, y_test_pred, average='weighted')\n",
    "train_f1 = f1_score(y_train, y_train_pred, average='weighted')\n",
    "valid_f1 = f1_score(y_test, y_test_pred, average='weighted')\n",
    "\n",
    "# Display metrics\n",
    "print(f\"Training Metrics:\\n  Accuracy: {train_accuracy}\")\n",
    "print()\n",
    "print(f\"Validation Metrics:\\n  Accuracy: {valid_accuracy}\")"
   ]
  },
  {
   "cell_type": "code",
   "execution_count": 29,
   "id": "b317f85a-26e7-4e71-a5ac-7eb1995263ef",
   "metadata": {},
   "outputs": [],
   "source": [
    "def evaluate_thresholds(y_true, y_scores, thresholds):\n",
    "    \"\"\"\n",
    "    Evaluate various metrics over a range of thresholds.\n",
    "    \"\"\"\n",
    "    accuracies, precisions, recalls, f1_scores = [], [], [], []\n",
    "\n",
    "    for threshold in thresholds:\n",
    "        # Apply threshold\n",
    "        y_pred = np.where(y_scores > threshold/10, 1, 0)\n",
    "\n",
    "        # Calculate metrics\n",
    "        accuracy = np.mean(y_pred == y_true)\n",
    "\n",
    "        accuracies.append(accuracy)\n",
    "\n",
    "    return accuracies"
   ]
  },
  {
   "cell_type": "code",
   "execution_count": 31,
   "id": "c5b45947-3a85-4314-af34-f85568c57936",
   "metadata": {},
   "outputs": [
    {
     "data": {
      "image/png": "[encoded data removed]",
      "text/plain": [
       "<Figure size 864x576 with 1 Axes>"
      ]
     },
     "metadata": {
      "needs_background": "light"
     },
     "output_type": "display_data"
    }
   ],
   "source": [
    "# Define a range of thresholds to evaluate\n",
    "thresholds = range(0, 10, 1)\n",
    "\n",
    "# Evaluate thresholds for training data\n",
    "train_accuracies = evaluate_thresholds(y_train, y_train_scores, thresholds)\n",
    "\n",
    "# Evaluate thresholds for test data\n",
    "valid_accuracies = evaluate_thresholds(y_test, y_test_scores, thresholds)\n",
    "\n",
    "\n",
    "plt.figure(figsize=(12, 8))\n",
    "\n",
    "plt.plot(thresholds, train_accuracies, label='Train Accuracy')\n",
    "plt.plot(thresholds, valid_accuracies, label='Validation Accuracy')\n",
    "\n",
    "plt.title('Metrics at Various Thresholds')\n",
    "plt.xlabel('Threshold')\n",
    "plt.ylabel('Metric Value')\n",
    "plt.legend()\n",
    "plt.grid(True)"
   ]
  },
  {
   "cell_type": "code",
   "execution_count": 49,
   "id": "656a0038-2b4c-474a-9208-72d418adf267",
   "metadata": {
    "collapsed": true,
    "jupyter": {
     "outputs_hidden": true,
     "source_hidden": true
    },
    "tags": []
   },
   "outputs": [
    {
     "name": "stdout",
     "output_type": "stream",
     "text": [
      "Fitting 5 folds for each of 36 candidates, totalling 180 fits\n",
      "Best parameters found:  {'alpha': 0.0001, 'loss': 'hinge', 'penalty': 'l2'}\n",
      "              precision    recall  f1-score   support\n",
      "\n",
      "           0       0.84      0.78      0.81     18313\n",
      "           1       0.79      0.85      0.82     17952\n",
      "\n",
      "    accuracy                           0.82     36265\n",
      "   macro avg       0.82      0.82      0.82     36265\n",
      "weighted avg       0.82      0.82      0.82     36265\n",
      "\n"
     ]
    }
   ],
   "source": [
    "from sklearn.model_selection import GridSearchCV\n",
    "from sklearn.linear_model import SGDClassifier\n",
    "from sklearn.metrics import classification_report\n",
    "\n",
    "# Define your model\n",
    "clf = SGDClassifier()\n",
    "\n",
    "# Set up the parameter grid\n",
    "param_grid = {\n",
    "    'alpha': [0.0001, 0.001, 0.01, 0.1],  # Regularization term\n",
    "    'loss': ['hinge', 'log', 'modified_huber'],  # Loss functions\n",
    "    'penalty': ['l2', 'l1', 'elasticnet'],  # Regularization type\n",
    "    # Add more parameters here if needed\n",
    "}\n",
    "\n",
    "# Setup the grid search\n",
    "grid_search = GridSearchCV(clf, param_grid, cv=5, verbose=1, n_jobs=-1)\n",
    "\n",
    "# Perform grid search\n",
    "grid_search.fit(X_train_tfidf, y_train)\n",
    "\n",
    "# Best parameters\n",
    "print(\"Best parameters found: \", grid_search.best_params_)\n",
    "\n",
    "# Predictions and report\n",
    "y_pred = grid_search.predict(X_test_tfidf)\n",
    "print(classification_report(y_test, y_pred))"
   ]
  },
  {
   "cell_type": "markdown",
   "id": "cc2515b3-2f34-483c-9529-14fa49fece10",
   "metadata": {},
   "source": [
    "### Submission with SGD on the full dataset"
   ]
  },
  {
   "cell_type": "code",
   "execution_count": 38,
   "id": "e2cee707-3367-42fe-8049-71887849d78a",
   "metadata": {},
   "outputs": [],
   "source": [
    "test_data = []\n",
    "with open(\"test_data.txt\", 'r', encoding='utf-8') as file:\n",
    "    for line in file:\n",
    "        test_data.append(line.strip())  # Remove newline characters\n",
    "\n",
    "test_data = pd.DataFrame({'text': test_data})"
   ]
  },
  {
   "cell_type": "code",
   "execution_count": 63,
   "id": "376a940d-a1a1-4f4b-976b-b2c775e7cedb",
   "metadata": {},
   "outputs": [],
   "source": [
    "# Create a TF-IDF vectorizer\n",
    "vectorizer_submission = CountVectorizer(ngram_range=(1, 3))\n",
    "\n",
    "# Transform the text data into TF-IDF features\n",
    "X_train_full_tfidf = vectorizer_submission.fit_transform(data_train[\"text\"])\n",
    "X_test_submission_tfidf = vectorizer_submission.transform(test_data[\"text\"])"
   ]
  },
  {
   "cell_type": "code",
   "execution_count": 64,
   "id": "546ace50-167f-42eb-ac5d-adaf74e9abad",
   "metadata": {},
   "outputs": [],
   "source": [
    "clf_submission = SGDClassifier()\n",
    "clf.fit(X_train_full_tfidf, data_train[\"label\"])\n",
    "train_score_full = clf.score(X_train_full_tfidf, data_train[\"label\"])"
   ]
  },
  {
   "cell_type": "code",
   "execution_count": 65,
   "id": "0b7a17e5-e04b-4455-a1a5-5713d18d7a13",
   "metadata": {},
   "outputs": [],
   "source": [
    "y_test_pred_submission = clf.predict(X_test_submission_tfidf)"
   ]
  },
  {
   "cell_type": "code",
   "execution_count": 72,
   "id": "cbb4ec5c-99c4-4909-8562-c220d1d8bf2f",
   "metadata": {},
   "outputs": [],
   "source": [
    "indexes = np.arange(1, len(y_test_pred_submission)+1)  \n",
    "\n",
    "y_test_pred_submission_2 = np.where(y_test_pred_submission == 0, -1, y_test_pred_submission)\n",
    "\n",
    "submission = pd.DataFrame({'Id':indexes,'Prediction': y_test_pred_submission_2})\n",
    "\n",
    "submission.to_csv('test_predictions.csv', index=False)"
   ]
  }
 ],
 "metadata": {
  "kernelspec": {
   "display_name": "Python 3 (ipykernel)",
   "language": "python",
   "name": "python3"
  },
  "language_info": {
   "codemirror_mode": {
    "name": "ipython",
    "version": 3
   },
   "file_extension": ".py",
   "mimetype": "text/x-python",
   "name": "python",
   "nbconvert_exporter": "python",
   "pygments_lexer": "ipython3",
   "version": "3.9.5"
  }
 },
 "nbformat": 4,
 "nbformat_minor": 5
}

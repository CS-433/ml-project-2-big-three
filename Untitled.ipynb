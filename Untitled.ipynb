{
 "cells": [
  {
   "cell_type": "code",
   "execution_count": 1,
   "id": "48c1475b-915b-4ba5-a37f-3e6cdc268863",
   "metadata": {},
   "outputs": [
    {
     "name": "stderr",
     "output_type": "stream",
     "text": [
      "2023-12-18 09:11:59.458954: I tensorflow/core/platform/cpu_feature_guard.cc:182] This TensorFlow binary is optimized to use available CPU instructions in performance-critical operations.\n",
      "To enable the following instructions: AVX2 FMA, in other operations, rebuild TensorFlow with the appropriate compiler flags.\n",
      "[nltk_data] Downloading package averaged_perceptron_tagger to\n",
      "[nltk_data]     /Users/thainamhoang/nltk_data...\n",
      "[nltk_data]   Package averaged_perceptron_tagger is already up-to-\n",
      "[nltk_data]       date!\n",
      "[nltk_data] Downloading package stopwords to\n",
      "[nltk_data]     /Users/thainamhoang/nltk_data...\n",
      "[nltk_data]   Package stopwords is already up-to-date!\n",
      "[nltk_data] Downloading package wordnet to\n",
      "[nltk_data]     /Users/thainamhoang/nltk_data...\n",
      "[nltk_data]   Package wordnet is already up-to-date!\n",
      "[nltk_data] Downloading package omw-1.4 to\n",
      "[nltk_data]     /Users/thainamhoang/nltk_data...\n",
      "[nltk_data]   Package omw-1.4 is already up-to-date!\n"
     ]
    }
   ],
   "source": [
    "from models.gru import GRU\n",
    "from preprocessing import Preprocessing\n",
    "from utility.paths import DataPath\n",
    "\n",
    "import pandas as pd\n",
    "import numpy as np\n",
    "from tqdm.auto import tqdm"
   ]
  },
  {
   "cell_type": "code",
   "execution_count": 2,
   "id": "863e9f3b-6675-41da-bd8b-82d0ccd6aa44",
   "metadata": {},
   "outputs": [],
   "source": [
    "# Create training and testing preprocessing object.\n",
    "train_prep = Preprocessing([DataPath.TRAIN_NEG_FULL, DataPath.TRAIN_POS_FULL])\n",
    "test_prep = Preprocessing([DataPath.TEST], is_test=True)"
   ]
  },
  {
   "cell_type": "code",
   "execution_count": 3,
   "id": "af900ce8-14c0-42c7-b37e-d73cb168e688",
   "metadata": {},
   "outputs": [],
   "source": [
    "# Declare params for GRU.\n",
    "MAX_LEN = 120\n",
    "BATCH_SIZE = 128\n",
    "EPOCHS = 10\n",
    "EMBEDDING_DIM = 100 # Since we're using GLoVe"
   ]
  },
  {
   "cell_type": "code",
   "execution_count": 4,
   "id": "cc27180b-e761-4f99-a139-a64a8b2997b3",
   "metadata": {},
   "outputs": [],
   "source": [
    "# Declare GRU model.\n",
    "gru = GRU(weight_path=DataPath.GRU_WEIGHT,\n",
    "          submission_path=DataPath.GRU_SUBMISSION,\n",
    "          max_length=MAX_LEN)"
   ]
  },
  {
   "cell_type": "code",
   "execution_count": 5,
   "id": "0c3126df-15de-43f7-ae59-0525445ee4d5",
   "metadata": {},
   "outputs": [
    {
     "data": {
      "application/vnd.jupyter.widget-view+json": {
       "model_id": "ea398a82a6414d95980338a0eb9e4fd9",
       "version_major": 2,
       "version_minor": 0
      },
      "text/plain": [
       "Preprocessing train data:   0%|          | 0/12 [00:00<?, ?it/s]"
      ]
     },
     "metadata": {},
     "output_type": "display_data"
    },
    {
     "name": "stdout",
     "output_type": "stream",
     "text": [
      "Executing: `drop_duplicates`\n",
      "Executing: `remove_ending`\n",
      "Executing: `remove_extra_space`\n"
     ]
    },
    {
     "name": "stderr",
     "output_type": "stream",
     "text": [
      "100%|█████████████████████████████████████████████████████████████████████| 2268591/2268591 [00:03<00:00, 575771.10it/s]\n"
     ]
    },
    {
     "name": "stdout",
     "output_type": "stream",
     "text": [
      "Executing: `remove_space_before_symbol`\n"
     ]
    },
    {
     "name": "stderr",
     "output_type": "stream",
     "text": [
      "100%|█████████████████████████████████████████████████████████████████████| 2268591/2268591 [00:08<00:00, 255542.41it/s]\n"
     ]
    },
    {
     "name": "stdout",
     "output_type": "stream",
     "text": [
      "Executing: `remove_extra_space`\n"
     ]
    },
    {
     "name": "stderr",
     "output_type": "stream",
     "text": [
      "100%|█████████████████████████████████████████████████████████████████████| 2268591/2268591 [00:04<00:00, 564294.26it/s]\n"
     ]
    },
    {
     "name": "stdout",
     "output_type": "stream",
     "text": [
      "Executing: `reconstruct_last_emoji`\n",
      "Executing: `emoji_to_tag`\n"
     ]
    },
    {
     "name": "stderr",
     "output_type": "stream",
     "text": [
      "100%|██████████████████████████████████████████████████████████████████████| 2268591/2268591 [00:26<00:00, 85703.19it/s]\n"
     ]
    },
    {
     "name": "stdout",
     "output_type": "stream",
     "text": [
      "Executing: `num_to_tag`\n",
      "Executing: `hashtag_to_tag`\n",
      "Executing: `repeat_symbols_to_tag`\n",
      "Executing: `elongate_to_tag`\n",
      "Executing: `remove_extra_space`\n"
     ]
    },
    {
     "name": "stderr",
     "output_type": "stream",
     "text": [
      "100%|█████████████████████████████████████████████████████████████████████| 2268591/2268591 [00:04<00:00, 524206.35it/s]\n"
     ]
    },
    {
     "data": {
      "application/vnd.jupyter.widget-view+json": {
       "model_id": "612cca4b33fe46ba98cc717a54c77ecc",
       "version_major": 2,
       "version_minor": 0
      },
      "text/plain": [
       "Preprocessing test data:   0%|          | 0/11 [00:00<?, ?it/s]"
      ]
     },
     "metadata": {},
     "output_type": "display_data"
    },
    {
     "name": "stdout",
     "output_type": "stream",
     "text": [
      "Executing: `remove_ending`\n",
      "Executing: `remove_extra_space`\n"
     ]
    },
    {
     "name": "stderr",
     "output_type": "stream",
     "text": [
      "100%|█████████████████████████████████████████████████████████████████████████| 10000/10000 [00:00<00:00, 396556.99it/s]\n"
     ]
    },
    {
     "name": "stdout",
     "output_type": "stream",
     "text": [
      "Executing: `remove_space_before_symbol`\n"
     ]
    },
    {
     "name": "stderr",
     "output_type": "stream",
     "text": [
      "100%|█████████████████████████████████████████████████████████████████████████| 10000/10000 [00:00<00:00, 223453.10it/s]\n"
     ]
    },
    {
     "name": "stdout",
     "output_type": "stream",
     "text": [
      "Executing: `remove_extra_space`\n"
     ]
    },
    {
     "name": "stderr",
     "output_type": "stream",
     "text": [
      "100%|█████████████████████████████████████████████████████████████████████████| 10000/10000 [00:00<00:00, 526532.34it/s]\n"
     ]
    },
    {
     "name": "stdout",
     "output_type": "stream",
     "text": [
      "Executing: `reconstruct_last_emoji`\n",
      "Executing: `emoji_to_tag`\n"
     ]
    },
    {
     "name": "stderr",
     "output_type": "stream",
     "text": [
      "100%|██████████████████████████████████████████████████████████████████████████| 10000/10000 [00:00<00:00, 80297.58it/s]\n"
     ]
    },
    {
     "name": "stdout",
     "output_type": "stream",
     "text": [
      "Executing: `num_to_tag`\n",
      "Executing: `hashtag_to_tag`\n",
      "Executing: `repeat_symbols_to_tag`\n",
      "Executing: `elongate_to_tag`\n",
      "Executing: `remove_extra_space`\n"
     ]
    },
    {
     "name": "stderr",
     "output_type": "stream",
     "text": [
      "100%|█████████████████████████████████████████████████████████████████████████| 10000/10000 [00:00<00:00, 400174.03it/s]\n"
     ]
    }
   ],
   "source": [
    "# Retrieve preprocessing steps declared in GRU class for both train and test data.\n",
    "for step in tqdm(gru.preprocessing(), desc=\"Preprocessing train data\"):\n",
    "    getattr(train_prep, step)()\n",
    "\n",
    "for step in tqdm(gru.preprocessing(is_train=False), desc=\"Preprocessing test data\"):\n",
    "    getattr(test_prep, step)()"
   ]
  },
  {
   "cell_type": "code",
   "execution_count": 6,
   "id": "f8c357ce-171e-425c-9922-ebddf04442e2",
   "metadata": {},
   "outputs": [],
   "source": [
    "# Retrieve the preprocessed df.\n",
    "train_data = train_prep.__get__()\n",
    "test_data = test_prep.__get__()"
   ]
  },
  {
   "cell_type": "code",
   "execution_count": 7,
   "id": "16e6b49b-3f34-4bc5-8a79-838f89c8a70b",
   "metadata": {},
   "outputs": [],
   "source": [
    "# Export the dataframes. For training frames, shuffles.\n",
    "train_data = train_data.reset_index(drop=True)\n",
    "train_data.to_csv(DataPath.GRU_TRAIN, index=False)\n",
    "\n",
    "test_data.to_csv(DataPath.GRU_TEST, index=False)"
   ]
  },
  {
   "cell_type": "code",
   "execution_count": 8,
   "id": "beb5f568-ebfd-47cc-96e7-61d8301bebb4",
   "metadata": {},
   "outputs": [],
   "source": [
    "prep_train = pd.read_csv(\"data/preprocessed/gru/train_preprocessed.csv\")"
   ]
  },
  {
   "cell_type": "code",
   "execution_count": 9,
   "id": "262fe99c-f664-4c72-a6cf-ed8823d1f4ff",
   "metadata": {},
   "outputs": [],
   "source": [
    "train_data.dropna(inplace=True)\n",
    "prep_train.dropna(inplace=True)"
   ]
  },
  {
   "cell_type": "code",
   "execution_count": 10,
   "id": "e27ff7a4-2a4d-4483-b089-d8bb34faf598",
   "metadata": {},
   "outputs": [
    {
     "name": "stdout",
     "output_type": "stream",
     "text": [
      "<class 'pandas.core.frame.DataFrame'>\n",
      "RangeIndex: 2268591 entries, 0 to 2268590\n",
      "Data columns (total 2 columns):\n",
      " #   Column  Dtype \n",
      "---  ------  ----- \n",
      " 0   text    object\n",
      " 1   label   int64 \n",
      "dtypes: int64(1), object(1)\n",
      "memory usage: 34.6+ MB\n"
     ]
    }
   ],
   "source": [
    "train_data.info()"
   ]
  },
  {
   "cell_type": "code",
   "execution_count": 11,
   "id": "490fa51f-4f3d-4b8c-ab9a-6fe37e9b9a0d",
   "metadata": {
    "scrolled": true
   },
   "outputs": [
    {
     "name": "stdout",
     "output_type": "stream",
     "text": [
      "<class 'pandas.core.frame.DataFrame'>\n",
      "RangeIndex: 2268591 entries, 0 to 2268590\n",
      "Data columns (total 2 columns):\n",
      " #   Column  Dtype  \n",
      "---  ------  -----  \n",
      " 0   text    object \n",
      " 1   label   float64\n",
      "dtypes: float64(1), object(1)\n",
      "memory usage: 34.6+ MB\n"
     ]
    }
   ],
   "source": [
    "prep_train.info()"
   ]
  },
  {
   "cell_type": "code",
   "execution_count": 12,
   "id": "baa4b712-2b83-4f8c-93be-a8754580d8f5",
   "metadata": {},
   "outputs": [
    {
     "name": "stdout",
     "output_type": "stream",
     "text": [
      "<class 'pandas.core.frame.DataFrame'>\n",
      "RangeIndex: 2500000 entries, 0 to 2499999\n",
      "Data columns (total 2 columns):\n",
      " #   Column  Dtype \n",
      "---  ------  ----- \n",
      " 0   text    object\n",
      " 1   label   int64 \n",
      "dtypes: int64(1), object(1)\n",
      "memory usage: 38.1+ MB\n"
     ]
    }
   ],
   "source": [
    "og = Preprocessing([DataPath.TRAIN_NEG_FULL, DataPath.TRAIN_POS_FULL])\n",
    "og = og.__get__()\n",
    "og.dropna(inplace=True)\n",
    "og.info()"
   ]
  },
  {
   "cell_type": "code",
   "execution_count": 15,
   "id": "b0def0ae-4cd7-4950-8f0a-b06e993ba7cd",
   "metadata": {},
   "outputs": [
    {
     "name": "stdout",
     "output_type": "stream",
     "text": [
      "<url> more than this ( vevo lift brought to you by mcdonald's\n",
      "<url> more than this ( vevo lift brought to you by mcdonald's\n",
      "i want to grow bigger ( fatter ) like so so badly\n",
      "i want to grow bigger ( fatter ) like so so badly\n",
      "i just woke up so <elong> sad <user>\n",
      "i just woke up so <elong> sad <user>\n",
      "everyday i had to bring food for my mates\n",
      "everyday i had to bring food for my mates\n",
      "palm lifedrive directsync - wall charger bundle ( uk outlet plug this sync and charge bundle includes one wall\n",
      "palm lifedrive directsync - wall charger bundle ( uk outlet plug this sync and charge bundle includes one wall\n",
      "am i not faithful enough to you . i don't deserve this !\n",
      "am i not faithful enough to you . i don't deserve this !\n",
      "<user> <user> <user> hahah you already got someone in our group already ! still want me ?\n",
      "<user> <user> <user> hahah you already got someone in our group already ! still want me ?\n",
      "my best friend <user> has another best friend\n",
      "my best friend <user> has another best friend\n",
      "i hate the fact that pampanga is so <elong> far from manila <elong> . i want a giveaway . ( ( <sadface>\n",
      "i hate the fact that pampanga is so <elong> far from manila <elong> . i want a giveaway . ( ( <sadface>\n",
      "energy drinks don't give me much energy\n",
      "energy drinks don't give me much energy\n",
      "<number>x<number> custom picture frame / poster frame <number> \" wide complete black wood frame ( <number>bk this frame is manufactu\n",
      "<number>x<number> custom picture frame / poster frame <number> \" wide complete black wood frame ( <number>bk this frame is manufactu\n",
      "maybe i should just be a music composer , it's the only thing i can get full marks in <sadface>\n",
      "maybe i should just be a music composer , it's the only thing i can get full marks in <sadface>\n",
      "<user> i haven't got a bbm ? ? ? i reply every time to everyone !\n",
      "<user> i haven't got a bbm ? ? ? i reply every time to everyone !\n",
      "<user> just lost all of my signal in washington state . phone isn't able to get signal from the towers at all . dead .\n",
      "<user> just lost all of my signal in washington state . phone isn't able to get signal from the towers at all . dead .\n",
      "sylvania lc<number>sl<number> <number> - inch lcd edtv with built in tuner ( electronics sylvania lc<number>sl<number> <number> inch lcd tv . <number> inch\n",
      "sylvania lc<number>sl<number> <number> - inch lcd edtv with built in tuner ( electronics sylvania lc<number>sl<number> <number> inch lcd tv . <number> inch\n",
      "for sale : ~ ~ new <number> pc . bedroom with queen mattress set - only $ <number> ! ~ ~ ( springfield this brand ne <hashtag> spfldforsale\n",
      "for sale : ~ ~ new <number> pc . bedroom with queen mattress set - only $ <number> ! ~ ~ ( springfield this brand ne . <repeat> <url> <hashtag> spfldforsale\n",
      "i hate this behaviour\n",
      "i hate this behaviour\n",
      "oh no someone got stabbed outside my building , how tragic\n",
      "oh no someone got stabbed outside my building , how tragic\n",
      "the next time we see the wolves manager i bet he will be in a straight jacket\n",
      "the next time we see the wolves manager i bet he will be in a straight jacket\n",
      "<user> they dropped <number> dollars lol but i know its sucks so bad . <repeat>\n",
      "<user> they dropped <number> dollars lol but i know its sucks so bad . <repeat>\n",
      "<user> k <elong> ok ah you bitch i'll have to leave now only comes when you have to leave glitter kisses\n",
      "<user> k <elong> ok ah you bitch i'll have to leave now only comes when you have to leave glitter kisses\n",
      "<user> i dont think i am\n",
      "<user> i dont think i am\n",
      "fed with <user> <user> leslie , rukhma but no <user>\n",
      "fed with <user> <user> leslie , rukhma but no <user>\n",
      "lol shit happens rt <user> really wanna leave this social network thingy but boredom keeps bringing me back\n",
      "lol shit happens rt <user> really wanna leave this social network thingy but boredom keeps bringing me back\n",
      "dawwwg ( it have a vid showing jesus sign to man citty weey ahahaha kicks\n",
      "dawwwg ( it have a vid showing jesus sign to man citty weey ahahaha kicks\n",
      "drink hand sanitizer rt <user> i feel sad\n",
      "drink hand sanitizer rt <user> i feel sad\n",
      "deceived by the light ( paperback deceived by the light ( paperback ) by douglas groothuis <number>\n",
      "deceived by the light ( paperback deceived by the light ( paperback ) by douglas groothuis <number>\n",
      "wanna buy another phone cover . nobody's free to pei me go nex . <sadface>\n",
      "wanna buy another phone cover . nobody's free to pei me go nex . <sadface>\n",
      "<user> omg that's not even long at all i could cry gah ! yeaaah budddy <smile> x\n",
      "<user> omg that's not even long at all i could cry gah ! yeaaah budddy <smile> x\n",
      "i missed my <number> and i was so careful in not doing so ( <hashtag> thisalwayshappens\n",
      "i missed my <number> and i was so careful in not doing so ( <hashtag> thisalwayshappens\n",
      "ive been spending most of my time warming up the toilet seat\n",
      "ive been spending most of my time warming up the toilet seat\n",
      "<number> pieces of <number>b lead .\n",
      "<number> pieces of <number>b lead .\n",
      "why am i feeling so sleepy ? that's not good\n",
      "why am i feeling so sleepy ? that's not good\n",
      "oil below $ <number> as china manufacturing improves ( the arizona republic share with friends : | | top news - busi\n",
      "oil below $ <number> as china manufacturing improves ( the arizona republic share with friends <neutralface> | top news - busi\n",
      "didn't win the lottery last night\n",
      "didn't win the lottery last night\n",
      "coffee doesn't keep me awake anymore\n",
      "coffee doesn't keep me awake anymore\n",
      "actually so annoyed , keep forgetting she's given the cookies away and im proper craving one im going to have to make a trip to asda !\n",
      "actually so annoyed , keep forgetting she's given the cookies away and im proper craving one im going to have to make a trip to asda !\n",
      "so jell moms off t sugar hutt tnight hope she has a good night though <smile> x\n",
      "so jell moms off t sugar hutt tnight hope she has a good night though <smile> x\n",
      "` jgh from a place where a lot of couples are present i just missed having a girlfriend t . t tag-senti ako ngayon <smile>\n",
      "` jgh from a place where a lot of couples are present i just missed having a girlfriend t . t tag-senti ako ngayon <smile>\n",
      "taking care of the sick <user>\n",
      "taking care of the sick <user>\n",
      "<user> oh <elong> that really sucks i had to do the same for drama ! <sadface>\n",
      "<user> oh <elong> that really sucks i had to do the same for drama ! <sadface>\n",
      "deluxe casino roulette set ( toy <number> - bakelite roulette wheel with metal cylinder and cross . - includes <number> pl\n",
      "deluxe casino roulette set ( toy <number> - bakelite roulette wheel with metal cylinder and cross . - includes <number> pl\n",
      "<user> <user> it really is , i don't like to spam reece bit that's how people are getting noticed !\n",
      "<user> <user> it really is , i don't like to spam reece bit that's how people are getting noticed !\n",
      "really want an iphone\n",
      "really want an iphone\n",
      "tonight's events ( pt . i <elong> addison , houston & terrell , tx ; madison , wi . overseas : nicosia , cy ; skedsmokorset ; no ; singapore ; & london , uk !\n",
      "tonight's events ( pt . i <elong> addison , houston & terrell , tx ; madison , wi . overseas : nicosia , cy ; skedsmokorset ; no ; singapore ; & london , uk !\n",
      "<user> it would be nice if you called\n",
      "<user> it would be nice if you called\n",
      "<user> i'm sorry seems like its not a good night for anyone !\n",
      "<user> i'm sorry seems like its not a good night for anyone !\n",
      "<user> yeah i'm sorry ( i hope you didn't get ready\n",
      "<user> yeah i'm sorry ( i hope you didn't get ready\n",
      "<number>x<number> picture frame / poster frame <number> \" wide complete coffee bean brown frame ( <number>co this frame is manufactured\n",
      "<number>x<number> picture frame / poster frame <number> \" wide complete coffee bean brown frame ( <number>co this frame is manufactured\n",
      "who am i ? the <number> basic desires that motivate our actions and define our personalities ( paperback sex ? social s\n",
      "who am i ? the <number> basic desires that motivate our actions and define our personalities ( paperback sex ? social s\n",
      "stylecraft <number> \" x <number> \" joined board and batten cedar exterior shutters ( pair custom-made . southern styling . auth\n",
      "stylecraft <number> \" x <number> \" joined board and batten cedar exterior shutters ( pair custom-made . southern styling . auth\n",
      "wouldnt have thought you were this shitty .\n",
      "wouldnt have thought you were this shitty .\n",
      "olde thompson <number> <number>/<number>- inch metal peppermill and salt shaker set ( kitchen stainless peppermill & matching salt sh\n",
      "olde thompson <number> <number>/<number>- inch metal peppermill and salt shaker set ( kitchen stainless peppermill & matching salt sh\n",
      "<user> sorry i thought i followed you x\n",
      "<user> sorry i thought i followed you x\n",
      "<number>x<number> custom picture frame / poster frame <number> \" wide complete black with ornate gold wood frame (<number> <number> this fram\n",
      "<number>x<number> custom picture frame / poster frame <number> \" wide complete black with ornate gold wood frame (<number> <number> this fram\n",
      "omg i miss aiden so <elong> much ! i'm getting him tomorrow morning but i hate being away from my baby\n",
      "omg i miss aiden so <elong> much ! i'm getting him tomorrow morning but i hate being away from my baby\n",
      "it's been over a week that i haven't seen my boyfriend and i really miss him\n",
      "it's been over a week that i haven't seen my boyfriend and i really miss him\n",
      "takedown masters : classic championship wrestling ( dvd <url>\n",
      "takedown masters <sadface> lassic championship wrestling ( dvd <url>\n",
      "i just ate my last chocolate and carmel egg depressing . <repeat> <user> <user>\n",
      "i just ate my last chocolate and carmel egg depressing . <repeat> <user> <user>\n",
      "why does it have to be raining\n",
      "why does it have to be raining\n",
      "bow bow bow bow wise - <number> assassin ( produced by <user> <url> via <user>\n",
      "bow bow bow bow wise - <number> assassin ( produced by <user> <url> via <user>\n",
      "read my response to \" one direction random spam ( requested do you think its fair to compare them to the beatles ? \" : <url>\n",
      "read my response to \" one direction random spam ( requested do you think its fair to compare them to the beatles ? \" <sadface> url>\n",
      "when you run out of justin bieber perfume < < <\n",
      "when you run out of justin bieber perfume < < <\n",
      "didnt get the <number> followers before sleep <hashtag> bye goodnightt\n",
      "didnt get the <number> followers before sleep <hashtag> bye goodnightt\n",
      "<user> i haven't slept yet and you won't notice me\n",
      "<user> i haven't slept yet and you won't notice me\n",
      "chelsea quintet in d major : for clarinet , horn , violin , cello and piano ( piano score and parts quintet in d is\n",
      "chelsea quintet in d major : for clarinet , horn , violin , cello and piano ( piano score and parts quintet in d is\n",
      "those <number> holidays things are shit . they're all in caravans\n",
      "those <number> holidays things are shit . they're all in caravans\n",
      "<user> oww ! i want a dog ! but i can't have it . <repeat> is so pretty ! !\n",
      "<user> oww ! i want a dog ! but i can't have it . <repeat> is so pretty ! !\n",
      "contacts so fucking annoying tho\n",
      "contacts so fucking annoying tho\n",
      "<user> i still didn't get to complain to you\n",
      "<user> i still didn't get to complain to you\n",
      "ain't talked to rashaud in a long time\n",
      "ain't talked to rashaud in a long time\n",
      "have fun doing antigone . <repeat> im bout to give my pillow some head \" <user> want to nap but can't \"\n",
      "have fun doing antigone . <repeat> im bout to give my pillow some head \" <user> want to nap but can't \"\n",
      "this neighborhood is scary to walk in at night\n",
      "this neighborhood is scary to walk in at night\n",
      "god , guide my grandmother home to you . going to see her now\n",
      "god , guide my grandmother home to you . going to see her now\n",
      "esok . <repeat> last day training . lepastu exam . pastu citrawarna ~ pastu , no more band pmr pulak . sadlife\n",
      "esok . <repeat> last day training . lepastu exam . pastu citrawarna ~ pastu , no more band pmr pulak . sadlife\n",
      "craving those red velvet cupackes <user>\n",
      "craving those red velvet cupackes <user>\n",
      "chrissy left and now we got rain and tornado warnings\n",
      "chrissy left and now we got rain and tornado warnings\n",
      "oh . <repeat> i think my dad hates all my interests . <repeat>\n",
      "oh . <repeat> i think my dad hates all my interests . <repeat>\n",
      "<user> i can't rap it though so i don't like it anymore\n",
      "<user> i can't rap it though so i don't like it anymore\n",
      "<user> no , i don't think <user> gets tweets to his phone\n",
      "<user> no , i don't think <user> gets tweets to his phone\n",
      "<user> <user> how i wish that was me\n",
      "<user> <user> how i wish that was me\n",
      "vmp w<number> - b small crt television wall mount for <number> to <number> - inch tvs ( black the w - <number>b is the perfect way to wall mou\n",
      "vmp w<number> - b small crt television wall mount for <number> to <number> - inch tvs ( black the w - <number>b is the perfect way to wall mou\n",
      "omg feet feel like ive walked across glass <hashtag> shouldofstayedathome\n",
      "omg feet feel like ive walked across glass <hashtag> shouldofstayedathome\n",
      "lying in bed feeling like death . someone come take it away from me feel horrible !\n",
      "lying in bed feeling like death . someone come take it away from me feel horrible !\n",
      "i want a study partner it would be better to study with someone than being alone\n",
      "i want a study partner it would be better to study with someone than being alone\n",
      "the <number>th wife : a novel ( audio cd faith , i tell them , is a mystery , elusive to many , and never easy to explain\n",
      "the <number>th wife : a novel ( audio cd faith , i tell them , is a mystery , elusive to many , and never easy to explain\n",
      "image excellence ctg <number>ap ctg <number>ap compatible remanufactured toner , <number> page-yield , black ( <number> each - specially e\n",
      "image excellence ctg <number>ap ctg <number>ap compatible remanufactured toner , <number> page-yield , black ( <number> each - specially e\n",
      "im like a drug ! ! rt <user> <user> i'm having pinky-withdrawal symptoms again\n",
      "im like a drug ! ! rt <user> <user> i'm having pinky-withdrawal symptoms again\n",
      "sheffield united and ched evans trending worldwide for all the wrong reasons <url>\n",
      "sheffield united and ched evans trending worldwide for all the wrong reasons <url>\n",
      "<user> dm me for justin ? tell justin to follow me .\n",
      "<user> dm me for justin ? tell justin to follow me .\n",
      "jouef hj<number> loco + dummy + <number>intermediate coaches from duplex . locos from : suitable for the following scale ( s ho scale <url>\n",
      "jouef hj<number> loco + dummy + <number>intermediate coaches from duplex . locos from : suitable for the following scale ( s ho scale <url>\n",
      "budapest ( blue guides this is a guide to the city of budapest . for <number> years up to world war ii , it was one of\n",
      "budapest ( blue guides this is a guide to the city of budapest . for <number> years up to world war ii , it was one of\n",
      "<user> aww that's not good ! when you next coming over ?\n",
      "<user> aww that's not good ! when you next coming over ?\n",
      "hate knowing i'm gonna be up past <number> . <hashtag> hateschool <hashtag> needcoffee\n",
      "hate knowing i'm gonna be up past <number> . <hashtag> hateschool <hashtag> needcoffee\n",
      "<number>x<number> custom picture frame / poster frame <number> \" wide complete light distressed brown frame ( <number> this frame\n",
      "<number>x<number> custom picture frame / poster frame <number> \" wide complete light distressed brown frame ( <number> this frame\n",
      "life : season one ( dvd life was his sentence . life is what he got back . damian lewis ( band of brothers ) stars a\n",
      "life : season one ( dvd life was his sentence . life is what he got back . damian lewis ( band of brothers ) stars a\n",
      "takara kabuto single speed road bike ( <number>cm frame ) ( sports the kabuto is all about keeping things simple and ge\n",
      "takara kabuto single speed road bike ( <number>cm frame ) ( sports the kabuto is all about keeping things simple and ge\n",
      "<user> doesn't work . <repeat> i called the main hotline and three individual company numbers\n",
      "<user> doesn't work . <repeat> i called the main hotline and three individual company numbers\n",
      "my daddy must be busy , bc he haven't texted me back\n",
      "my daddy must be busy , bc he haven't texted me back\n",
      "<user> tara was like my big sister in the dream . i want it to come true !\n",
      "<user> tara was like my big sister in the dream . i want it to come true !\n",
      "<user> yeaa you're in form <number> or <number> ? haha\n",
      "<user> yeaa you're in form <number> or <number> ? haha\n",
      "rt <user> elizabet's twitter is <user>\n",
      "rt <user> elizabet's twitter is <user>\n",
      "leaving school . <repeat> going to get stitches #\n",
      "leaving school . <repeat> going to get stitches #\n",
      "cheap monday - women's goldie dress ( black loose fitted empire-waist cotton dress with twisted shoulder straps\n",
      "cheap monday - women's goldie dress ( black loose fitted empire-waist cotton dress with twisted shoulder straps\n",
      "taking a nap and waking up at three\n",
      "taking a nap and waking up at three\n",
      "<user> that's all my dog does\n",
      "<user> that's all my dog does\n",
      "<user> lmao ! ! i'm just making a collage , lol big mistake leaving this crap til the last day\n",
      "<user> lmao ! ! i'm just making a collage , lol big mistake leaving this crap til the last day\n",
      "i cried when my dad sold his silver bmw miss you shelia <lolface>\n",
      "i cried when my dad sold his silver bmw miss you shelia <lolface>\n",
      "i actually hate college too much so boring im going to fail .\n",
      "i actually hate college too much so boring im going to fail .\n",
      "dont leave me hangging will you\n",
      "dont leave me hangging will you\n",
      "please stop counting i can't let him to be alone\n",
      "please stop counting i can't let him to be alone\n",
      "<user> have you got a costa machine at work you lucky devil\n",
      "<user> have you got a costa machine at work you lucky devil\n",
      "lexerd - pioneer avic-x <number> truevue anti-glare in-dash screen protector ( dual pack bundle the lexerd truevue is\n",
      "lexerd - pioneer avic-x <number> truevue anti-glare in-dash screen protector ( dual pack bundle the lexerd truevue is\n",
      "<user> every time i see your profile picture i think it's a dog's butt . i'm sorry\n",
      "<user> every time i see your profile picture i think it's a dog's butt . i'm sorry\n",
      "<user> ur right . but she is really scary when she gets mad . im scared\n",
      "<user> ur right . but she is really scary when she gets mad . im scared\n",
      "<number>x<number> custom picture frame / poster frame <number> \" wide complete brown executive leather frame ( <number> this frame i\n",
      "<number>x<number> custom picture frame / poster frame <number> \" wide complete brown executive leather frame ( <number> this frame i\n",
      "he gonna be at his dad huse today i wanted to see ' em\n",
      "he gonna be at his dad huse today i wanted to see ' em\n",
      "fuck . my cold air won't turn off i'm so damn cold . i guess i should go hibernate under <number> layers of blankets before i drift off .\n",
      "fuck . my cold air won't turn off i'm so damn cold . i guess i should go hibernate under <number> layers of blankets before i drift off .\n",
      "guitar capo gp<number> - trigger action for acoustic / electric guitar ( curved guitar capo for acoustic and electric\n",
      "guitar capo gp<number> - trigger action for acoustic / electric guitar ( curved guitar capo for acoustic and electric\n",
      "<user> she well and know is she maah talk bout <neutralface> walks away with my head down\n",
      "<user> she well and know is she maah talk bout <neutralface> walks away with my head down\n",
      "<user> yes you are too sexy but i'm too sexy to not be offered cookies . smh\n",
      "<user> yes you are too sexy but i'm too sexy to not be offered cookies . smh\n",
      "<user> <user> i cried while reading it . the best yet saddest fanfic i have ever read thanks for the link hazza\n",
      "<user> <user> i cried while reading it . the best yet saddest fanfic i have ever read thanks for the link hazza\n",
      "cut <number> inch of my hair no make up so baby face hehe <url>\n",
      "cut <number> inch of my hair no make up so baby face hehe <url>\n",
      "pelican <number> case w / foam ( black pelican protector cases are made with copolymer polypropylene , using an open c\n",
      "pelican <number> case w / foam ( black pelican protector cases are made with copolymer polypropylene , using an open c\n",
      "didn't know <user> was following me ! she never mentioned me . but i'm <hashtag> nfback\n",
      "didn't know <user> was following me ! she never mentioned me . but i'm <hashtag> nfback\n",
      "i just updated twitter for my ipod , and it's all on norwegian ! ! ! it sucks\n",
      "i just updated twitter for my ipod , and it's all on norwegian ! ! ! it sucks\n",
      "i'm tired of you acting like you like me <hashtag> itsnotokaytoleadmeon\n",
      "i'm tired of you acting like you like me <hashtag> itsnotokaytoleadmeon\n",
      "bad romance best video of all time . <repeat> y'all spelled toxic wrong\n",
      "bad romance best video of all time . <repeat> y'all spelled toxic wrong\n",
      "come and see with tinky winky ( teletubbies ) ( library binding in april <number> , the teletubbies made their debut i\n",
      "come and see with tinky winky ( teletubbies ) ( library binding in april <number> , the teletubbies made their debut i\n",
      "stuck at home studying for bio . but good luck to all the coffeehouse performers !\n",
      "stuck at home studying for bio . but good luck to all the coffeehouse performers !\n",
      "when you lose someone that you love there is no words for the pain\n",
      "when you lose someone that you love there is no words for the pain\n",
      "<number>x<number> custom picture frame / poster frame <number> \" wide complete white satin mica frame ( <number> this frame is manu\n",
      "<number>x<number> custom picture frame / poster frame <number> \" wide complete white satin mica frame ( <number> this frame is manu\n",
      "<user> i give up on henry co . hoes\n",
      "<user> i give up on henry co . hoes\n",
      "<user> i'm going to miss you in a twins jersey but i hope you kick some ass in oakland\n",
      "<user> i'm going to miss you in a twins jersey but i hope you kick some ass in oakland\n",
      "<user> ast ! omg am i going to get any love of you today i love you loads <smile>\n",
      "<user> ast ! omg am i going to get any love of you today i love you loads <smile>\n",
      "my mouth <elong> hurtss fromm thesee rubberbandss . <repeat> ! . <repeat> imaa call it a night and text my bestfriend until i fall asleep ! if he got the same #\n",
      "my mouth <elong> hurtss fromm thesee rubberbandss . <repeat> ! . <repeat> imaa call it a night and text my bestfriend until i fall asleep ! if he got the same #\n",
      "trying to get <user> to follow you back is so hard\n",
      "trying to get <user> to follow you back is so hard\n",
      "ft wayne , in ( deluxe city flip map <url>\n",
      "ft wayne , in ( deluxe city flip map <url>\n",
      "crazy creek b . a . tarp lite ( forest green crazy tarps are some of the most useful and versatile pieces of gear\n",
      "crazy creek b . a . tarp lite ( forest green crazy tarps are some of the most useful and versatile pieces of gear\n",
      "im not doing this project\n",
      "im not doing this project\n",
      "precision brand <number> \" i . d . x <number> \" o . d . x <number> \" shoulder screw ( stripper bolt ) shortening shim ( pack of <number> <url>\n",
      "precision brand <number> \" i . d . x <number> \" o . d . x <number> \" shoulder screw ( stripper bolt ) shortening shim ( pack of <number> <url>\n",
      "el tordo musico y otros cuentos para volar / the musical thrush and other stories to fly ( spanish edition <url>\n",
      "el tordo musico y otros cuentos para volar / the musical thrush and other stories to fly ( spanish edition <url>\n",
      "want to go casino\n",
      "want to go casino\n",
      "ibm thinkpad r<number> <number> - <smile> x <number>mb memory ram kit ( <number>x<number>mb ) ( a-tech brand <number>mb ddr - <number> ( pc<number> ) so-dimm kit ( <number>x<number>\n",
      "ibm thinkpad r<number> <number> - <smile> x <number>mb memory ram kit ( <number>x<number>mb ) ( a-tech brand <number>mb ddr - <number> ( pc<number> ) so-dimm kit ( <number>x<number>\n",
      "i left my juice in the car .\n",
      "i left my juice in the car .\n",
      "<user> is in the philippines again ( ! ! i live in narnia place ! ! they're so lucky ! i'm so unlucky ! ! !\n",
      "<user> is in the philippines again ( ! ! i live in narnia place ! ! they're so lucky ! i'm so unlucky ! ! !\n",
      "asus e <elong> pc seashell <number>n - pu<number> - sl <number>- inch silver netbook - <number> hours of battery life ( personal computers asus\n",
      "asus e <elong> pc seashell <number>n - pu<number> - sl <number>- inch silver netbook - <number> hours of battery life ( personal computers asus\n",
      "<user> even though you can't spell , you illiterate fuck . hahaha imy <heart>\n",
      "<user> even though you can't spell , you illiterate fuck . hahaha imy <heart>\n",
      "<user> yeah , but you have the choice to go there through college whereas i don't you want what you can't have\n",
      "<user> yeah , but you have the choice to go there through college whereas i don't you want what you can't have\n",
      "the under the belly twill cargos by olian ( x-large , black the under the belly twill cargos by olian <url>\n",
      "the under the belly twill cargos by olian ( x-large , black the under the belly twill cargos by olian <url>\n",
      "data driven : profiting from your most important business asset ( hardcover your company's data has the potentia\n",
      "data driven <lolface> rofiting from your most important business asset ( hardcover your company's data has the potentia\n",
      "in desperate need of some more gatorade\n",
      "in desperate need of some more gatorade\n",
      "i just sat on my teddy bear , merrrp poor thing\n",
      "i just sat on my teddy bear , merrrp poor thing\n",
      "<user> lmao , yeah me too , until i had this dream i was up to my knees in them & ever since i've hated them\n",
      "<user> lmao , yeah me too , until i had this dream i was up to my knees in them & ever since i've hated them\n",
      "<user> loool same ! <hashtag> waveygang naahh last night was good uno . i apoligise <number>anything * covers eyes * im trying <elong> ! x\n",
      "<user> loool same ! <hashtag> waveygang naahh last night was good uno . i apoligise <number>anything * covers eyes * im trying <elong> ! x\n",
      "burn me if you can ( <number> night stand series ) ( kindle edition working for the wichita tribune is the best thing th\n",
      "burn me if you can ( <number> night stand series ) ( kindle edition working for the wichita tribune is the best thing th\n",
      "idk what i did ?\n",
      "idk what i did ?\n",
      "lenovo thinkpad t<number> <number> - <smile> x <number>gb memory ram kit ( <number>x<number>mb ) ( a-tech brand <number>gb ddr <number><number> ( pc<number> - <number> ) so-dimm kit ( <number>\n",
      "lenovo thinkpad t<number> <number> - <smile> x <number>gb memory ram kit ( <number>x<number>mb ) ( a-tech brand <number>gb ddr <number><number> ( pc<number> - <number> ) so-dimm kit ( <number>\n",
      "i can't believe how out of it i have been in regards to the time . i can't even keep my bills straight . fuck .\n",
      "i can't believe how out of it i have been in regards to the time . i can't even keep my bills straight . fuck .\n",
      "<user> the films so sad ! !\n",
      "<user> the films so sad ! !\n",
      "child large <number><number> - hip punk pirate costume ( sword not included , and see color notes on pants this pirate is t\n",
      "child large <number><number> - hip punk pirate costume ( sword not included , and see color notes on pants this pirate is t\n",
      "<user> ah that looks cool , i miss snow in ny . this was <number> days ago in ca mountains , but too far away <url>\n",
      "<user> ah that looks cool , i miss snow in ny . this was <number> days ago in ca mountains , but too far away <url>\n",
      "it's cold & rainy outside , and i can't even wear pants thanks to my full leg brace . <hashtag> cripplegirlprobz .\n",
      "it's cold & rainy outside , and i can't even wear pants thanks to my full leg brace . <hashtag> cripplegirlprobz .\n",
      "door chest by kincaid - natural wood ( <number><number> american journal invites you to create your home's very own story\n",
      "door chest by kincaid - natural wood ( <number><number> american journal invites you to create your home's very own story\n",
      "<user> <user> dissapointed <user> isn't going anymore\n",
      "<user> <user> dissapointed <user> isn't going anymore\n",
      "<user> i with i had lunch with you today\n",
      "<user> i with i had lunch with you today\n",
      "<user> so <elong> annoyin when people get annoyed when i mumble , i can mumble if i wana\n",
      "<user> so <elong> annoyin when people get annoyed when i mumble , i can mumble if i wana\n",
      "<user> bummer yep a lot of the prs are quitting , or getting fired , my contact for ' phantom breaker ' quit recently\n",
      "<user> bummer yep a lot of the prs are quitting , or getting fired , my contact for ' phantom breaker ' quit recently\n",
      "chinese cuisine beijing style ( chinese edition ) ( paperback how is beijing cuisine different from szechwan , sha\n",
      "chinese cuisine beijing style ( chinese edition ) ( paperback how is beijing cuisine different from szechwan , sha\n",
      "ha ! aren't i a joy to have around right now . <repeat> * sarcasm * . oh they didnt fix it and they even messed up the paint job ! <hashtag> mypoorcar\n",
      "ha ! aren't i a joy to have around right now . <repeat> * sarcasm * . oh they didnt fix it and they even messed up the paint job ! <hashtag> mypoorcar\n",
      "merit powerlock abrasive disc , cloth backing , type ii , silicon carbide , <number> \" diameter , grit <number> ( box of <number> merit\n",
      "merit powerlock abrasive disc , cloth backing , type ii , silicon carbide , <number> \" diameter , grit <number> ( box of <number> merit\n",
      "take five ( kindle edition rene pawlish , author of the reed ferguson mystery series , and nephilim genesis of e\n",
      "take five ( kindle edition rene pawlish , author of the reed ferguson mystery series , and nephilim genesis of e\n",
      "<number>x<number> custom picture frame / poster frame <number> \" wide complete matte black frame ( wb<number> this frame is manufactur\n",
      "<number>x<number> custom picture frame / poster frame <number> \" wide complete matte black frame ( wb<number> this frame is manufactur\n",
      "it hurts to sit\n",
      "it hurts to sit\n",
      "insaniquarium ( cd-rom dive into wild arcade action as you feed fish and fight aliens in the craziest aquarium\n",
      "insaniquarium ( cd-rom dive into wild arcade action as you feed fish and fight aliens in the craziest aquarium\n",
      "insight map jamaica : fleximap plus travel information ( insight fleximaps fleximaps are innovative maps that co\n",
      "insight map jamaica : fleximap plus travel information ( insight fleximaps fleximaps are innovative maps that co\n",
      "<user> sorry for abandoning you tell me what you are having for dinner okay ? ? <url>\n",
      "<user> sorry for abandoning you tell me what you are having for dinner okay ? ? <url>\n",
      "haven't seen <user> on ustreme in a while cause every friday its cancelled and i'm always busy saturdays\n",
      "haven't seen <user> on ustreme in a while cause every friday its cancelled and i'm always busy saturdays\n",
      "<user> lol id love to help you ! lol i want one so bad .\n",
      "<user> lol id love to help you ! lol i want one so bad .\n",
      "rt <user> rn - l & d - pool (<number> <number> ) - <number>a to <number>p at broward health ( coral springs , fl coral springs medical\n",
      "rt <user> rn - l & d - pool (<number> <number> ) - <number>a to <number>p at broward health ( coral springs , fl coral springs medical\n",
      "i'm not allowed to give blood ! ! please make sure you go to medrus this week if you are able to donate ! ! !\n",
      "i'm not allowed to give blood ! ! please make sure you go to medrus this week if you are able to donate ! ! !\n",
      "own your time : <number> time management secrets for the digital age ( own your time series what would your life be li\n",
      "own your time : <number> time management secrets for the digital age ( own your time series what would your life be li\n",
      "<user> pleas follow back u and <user> mean the world to meand u don't know that i really want a follow but know it wnt hppen\n",
      "<user> pleas follow back u and <user> mean the world to meand u don't know that i really want a follow but know it wnt hppen\n",
      "saying plz for a follow bk is long still loool i can't run with that\n",
      "saying plz for a follow bk is long still loool i can't run with that\n",
      "the bellmaker ( redwall books ( prebound ) it has been four seasons since mariel , the warrior-mouse daughter of j\n",
      "the bellmaker ( redwall books ( prebound ) it has been four seasons since mariel , the warrior-mouse daughter of j\n",
      "sensual distress - art of steve o . reno ( perfect paperback let's face it - getting real flesh and blood girls\n",
      "sensual distress - art of steve o . reno ( perfect paperback let's face it - getting real flesh and blood girls\n",
      "<user> lmaoo oh <elong> gawd i pray it gets better i know my kids aren't about to be like that lol\n",
      "<user> lmaoo oh <elong> gawd i pray it gets better i know my kids aren't about to be like that lol\n",
      "i met someone real cool last night and we didn't get to finish our conversation i don't even remember his name .\n",
      "i met someone real cool last night and we didn't get to finish our conversation i don't even remember his name .\n",
      "good deal - bones atf rock babe ii <number>mm black skateboard wheels ( set of <number> this is for a set of four bones <number>mm\n",
      "good deal - bones atf rock babe ii <number>mm black skateboard wheels ( set of <number> this is for a set of four bones <number>mm\n",
      "i am here yet no one else has arrived , holly crap ! my lecture starts at <number> not at <number>\n",
      "i am here yet no one else has arrived , holly crap ! my lecture starts at <number> not at <number>\n",
      "<user> i'll definitely be lousier .\n",
      "<user> i'll definitely be lousier .\n",
      "<user> we can only hope ! but with summer coming im sure its going to go back up gotta take advantage now ! lol\n",
      "<user> we can only hope ! but with summer coming im sure its going to go back up gotta take advantage now ! lol\n",
      "illustrated history of furniture ( with chapter navigation this fully illustrated digital edition is special in\n",
      "illustrated history of furniture ( with chapter navigation this fully illustrated digital edition is special in\n",
      "need a shower & then my bed ! so knackered & got jabs tomorrow\n",
      "need a shower & then my bed ! so knackered & got jabs tomorrow\n",
      "i miss being called bae & baby that shit makes me happy !\n",
      "i miss being called bae & baby that shit makes me happy !\n",
      "its something wrong . <repeat> i dont even know why im crying right now tho ( fuck !\n",
      "its something wrong . <repeat> i dont even know why im crying right now tho ( fuck !\n",
      "as much as i try <user> will never reply to my tweets <hashtag> areyouseriousbro <hashtag> teamcobro\n",
      "as much as i try <user> will never reply to my tweets <hashtag> areyouseriousbro <hashtag> teamcobro\n",
      "<user> said i have to study * le sigh * i never get to have an fun ! ! ! * pouts *\n",
      "<user> said i have to study * le sigh * i never get to have an fun ! ! ! * pouts *\n",
      "<user> i was cold & wet , he shouldn't have annoyed me lool\n",
      "<user> i was cold & wet , he shouldn't have annoyed me lool\n",
      "come home and baby is asleep . o well maybe i'll have a decent supper\n",
      "come home and baby is asleep . o well maybe i'll have a decent supper\n"
     ]
    }
   ],
   "source": [
    "for i in range(len(train_data[\"text\"][1000:1200])):\n",
    "    # print(og[\"text\"][i])\n",
    "    print(train_data[\"text\"][i + 1000])\n",
    "    print(prep_train[\"text\"][i + 1000])"
   ]
  },
  {
   "cell_type": "code",
   "execution_count": 17,
   "id": "f4a1cffd-141c-4278-9e9b-d72171c35d67",
   "metadata": {},
   "outputs": [
    {
     "data": {
      "text/plain": [
       "array([0., 1.])"
      ]
     },
     "execution_count": 17,
     "metadata": {},
     "output_type": "execute_result"
    }
   ],
   "source": [
    "prep_train[\"label\"].unique()"
   ]
  },
  {
   "cell_type": "code",
   "execution_count": 18,
   "id": "b0815e7a-f364-4855-8a88-76d2378d785a",
   "metadata": {},
   "outputs": [],
   "source": [
    "import tensorflow as tf"
   ]
  },
  {
   "cell_type": "code",
   "execution_count": 20,
   "id": "20e8ae8e-acda-4d3c-b324-8919465546c3",
   "metadata": {},
   "outputs": [
    {
     "name": "stderr",
     "output_type": "stream",
     "text": [
      "2023-12-18 14:15:32.592294: W tensorflow/core/common_runtime/graph_constructor.cc:840] Node 'cond/while' has 13 outputs but the _output_shapes attribute specifies shapes for 40 outputs. Output shapes may be inaccurate.\n",
      "2023-12-18 14:15:32.882486: W tensorflow/core/common_runtime/graph_constructor.cc:840] Node 'cond/while' has 13 outputs but the _output_shapes attribute specifies shapes for 40 outputs. Output shapes may be inaccurate.\n",
      "2023-12-18 14:15:32.893682: W tensorflow/core/common_runtime/graph_constructor.cc:840] Node 'cond' has 4 outputs but the _output_shapes attribute specifies shapes for 40 outputs. Output shapes may be inaccurate.\n",
      "2023-12-18 14:15:33.144558: W tensorflow/core/common_runtime/graph_constructor.cc:840] Node 'cond/while' has 13 outputs but the _output_shapes attribute specifies shapes for 40 outputs. Output shapes may be inaccurate.\n",
      "2023-12-18 14:15:33.156132: W tensorflow/core/common_runtime/graph_constructor.cc:840] Node 'cond' has 4 outputs but the _output_shapes attribute specifies shapes for 40 outputs. Output shapes may be inaccurate.\n",
      "2023-12-18 14:15:33.172362: W tensorflow/core/common_runtime/graph_constructor.cc:840] Node 'cond' has 4 outputs but the _output_shapes attribute specifies shapes for 40 outputs. Output shapes may be inaccurate.\n",
      "2023-12-18 14:15:33.397673: W tensorflow/core/common_runtime/graph_constructor.cc:840] Node 'cond/while' has 13 outputs but the _output_shapes attribute specifies shapes for 40 outputs. Output shapes may be inaccurate.\n",
      "2023-12-18 14:15:33.408320: W tensorflow/core/common_runtime/graph_constructor.cc:840] Node 'cond' has 4 outputs but the _output_shapes attribute specifies shapes for 40 outputs. Output shapes may be inaccurate.\n",
      "2023-12-18 14:15:33.599060: W tensorflow/core/common_runtime/graph_constructor.cc:840] Node 'cond/while' has 13 outputs but the _output_shapes attribute specifies shapes for 40 outputs. Output shapes may be inaccurate.\n",
      "2023-12-18 14:15:33.700747: W tensorflow/core/common_runtime/graph_constructor.cc:840] Node 'cond/while' has 13 outputs but the _output_shapes attribute specifies shapes for 40 outputs. Output shapes may be inaccurate.\n",
      "2023-12-18 14:15:33.712433: W tensorflow/core/common_runtime/graph_constructor.cc:840] Node 'cond' has 4 outputs but the _output_shapes attribute specifies shapes for 40 outputs. Output shapes may be inaccurate.\n",
      "2023-12-18 14:15:34.002954: W tensorflow/core/common_runtime/graph_constructor.cc:840] Node 'cond/while' has 13 outputs but the _output_shapes attribute specifies shapes for 40 outputs. Output shapes may be inaccurate.\n",
      "2023-12-18 14:15:34.015055: W tensorflow/core/common_runtime/graph_constructor.cc:840] Node 'cond' has 4 outputs but the _output_shapes attribute specifies shapes for 40 outputs. Output shapes may be inaccurate.\n",
      "2023-12-18 14:15:34.160045: W tensorflow/core/common_runtime/graph_constructor.cc:840] Node 'cond/while' has 13 outputs but the _output_shapes attribute specifies shapes for 40 outputs. Output shapes may be inaccurate.\n",
      "2023-12-18 14:15:34.170755: W tensorflow/core/common_runtime/graph_constructor.cc:840] Node 'cond' has 4 outputs but the _output_shapes attribute specifies shapes for 40 outputs. Output shapes may be inaccurate.\n",
      "2023-12-18 14:15:34.183039: W tensorflow/core/common_runtime/graph_constructor.cc:840] Node 'cond/while' has 13 outputs but the _output_shapes attribute specifies shapes for 40 outputs. Output shapes may be inaccurate.\n",
      "2023-12-18 14:15:34.194102: W tensorflow/core/common_runtime/graph_constructor.cc:840] Node 'cond' has 4 outputs but the _output_shapes attribute specifies shapes for 40 outputs. Output shapes may be inaccurate.\n",
      "2023-12-18 14:15:34.576353: W tensorflow/core/common_runtime/graph_constructor.cc:840] Node 'cond/while' has 13 outputs but the _output_shapes attribute specifies shapes for 40 outputs. Output shapes may be inaccurate.\n",
      "2023-12-18 14:15:34.586559: W tensorflow/core/common_runtime/graph_constructor.cc:840] Node 'cond' has 4 outputs but the _output_shapes attribute specifies shapes for 40 outputs. Output shapes may be inaccurate.\n",
      "2023-12-18 14:15:35.294919: W tensorflow/core/common_runtime/graph_constructor.cc:840] Node 'cond' has 4 outputs but the _output_shapes attribute specifies shapes for 40 outputs. Output shapes may be inaccurate.\n"
     ]
    },
    {
     "ename": "KeyboardInterrupt",
     "evalue": "",
     "output_type": "error",
     "traceback": [
      "\u001b[0;31m---------------------------------------------------------------------------\u001b[0m",
      "\u001b[0;31mKeyboardInterrupt\u001b[0m                         Traceback (most recent call last)",
      "Cell \u001b[0;32mIn[20], line 1\u001b[0m\n\u001b[0;32m----> 1\u001b[0m model \u001b[38;5;241m=\u001b[39m \u001b[43mtf\u001b[49m\u001b[38;5;241;43m.\u001b[39;49m\u001b[43mkeras\u001b[49m\u001b[38;5;241;43m.\u001b[39;49m\u001b[43msaving\u001b[49m\u001b[38;5;241;43m.\u001b[39;49m\u001b[43mload_model\u001b[49m\u001b[43m(\u001b[49m\u001b[38;5;124;43m\"\u001b[39;49m\u001b[38;5;124;43m./weights/gru_1\u001b[39;49m\u001b[38;5;124;43m\"\u001b[39;49m\u001b[43m)\u001b[49m\n",
      "File \u001b[0;32m~/mambaforge/envs/epfl/lib/python3.10/site-packages/keras/src/saving/saving_api.py:262\u001b[0m, in \u001b[0;36mload_model\u001b[0;34m(filepath, custom_objects, compile, safe_mode, **kwargs)\u001b[0m\n\u001b[1;32m    254\u001b[0m     \u001b[38;5;28;01mreturn\u001b[39;00m saving_lib\u001b[38;5;241m.\u001b[39mload_model(\n\u001b[1;32m    255\u001b[0m         filepath,\n\u001b[1;32m    256\u001b[0m         custom_objects\u001b[38;5;241m=\u001b[39mcustom_objects,\n\u001b[1;32m    257\u001b[0m         \u001b[38;5;28mcompile\u001b[39m\u001b[38;5;241m=\u001b[39m\u001b[38;5;28mcompile\u001b[39m,\n\u001b[1;32m    258\u001b[0m         safe_mode\u001b[38;5;241m=\u001b[39msafe_mode,\n\u001b[1;32m    259\u001b[0m     )\n\u001b[1;32m    261\u001b[0m \u001b[38;5;66;03m# Legacy case.\u001b[39;00m\n\u001b[0;32m--> 262\u001b[0m \u001b[38;5;28;01mreturn\u001b[39;00m \u001b[43mlegacy_sm_saving_lib\u001b[49m\u001b[38;5;241;43m.\u001b[39;49m\u001b[43mload_model\u001b[49m\u001b[43m(\u001b[49m\n\u001b[1;32m    263\u001b[0m \u001b[43m    \u001b[49m\u001b[43mfilepath\u001b[49m\u001b[43m,\u001b[49m\u001b[43m \u001b[49m\u001b[43mcustom_objects\u001b[49m\u001b[38;5;241;43m=\u001b[39;49m\u001b[43mcustom_objects\u001b[49m\u001b[43m,\u001b[49m\u001b[43m \u001b[49m\u001b[38;5;28;43mcompile\u001b[39;49m\u001b[38;5;241;43m=\u001b[39;49m\u001b[38;5;28;43mcompile\u001b[39;49m\u001b[43m,\u001b[49m\u001b[43m \u001b[49m\u001b[38;5;241;43m*\u001b[39;49m\u001b[38;5;241;43m*\u001b[39;49m\u001b[43mkwargs\u001b[49m\n\u001b[1;32m    264\u001b[0m \u001b[43m\u001b[49m\u001b[43m)\u001b[49m\n",
      "File \u001b[0;32m~/mambaforge/envs/epfl/lib/python3.10/site-packages/keras/src/utils/traceback_utils.py:65\u001b[0m, in \u001b[0;36mfilter_traceback.<locals>.error_handler\u001b[0;34m(*args, **kwargs)\u001b[0m\n\u001b[1;32m     63\u001b[0m filtered_tb \u001b[38;5;241m=\u001b[39m \u001b[38;5;28;01mNone\u001b[39;00m\n\u001b[1;32m     64\u001b[0m \u001b[38;5;28;01mtry\u001b[39;00m:\n\u001b[0;32m---> 65\u001b[0m     \u001b[38;5;28;01mreturn\u001b[39;00m \u001b[43mfn\u001b[49m\u001b[43m(\u001b[49m\u001b[38;5;241;43m*\u001b[39;49m\u001b[43margs\u001b[49m\u001b[43m,\u001b[49m\u001b[43m \u001b[49m\u001b[38;5;241;43m*\u001b[39;49m\u001b[38;5;241;43m*\u001b[39;49m\u001b[43mkwargs\u001b[49m\u001b[43m)\u001b[49m\n\u001b[1;32m     66\u001b[0m \u001b[38;5;28;01mexcept\u001b[39;00m \u001b[38;5;167;01mException\u001b[39;00m \u001b[38;5;28;01mas\u001b[39;00m e:\n\u001b[1;32m     67\u001b[0m     filtered_tb \u001b[38;5;241m=\u001b[39m _process_traceback_frames(e\u001b[38;5;241m.\u001b[39m__traceback__)\n",
      "File \u001b[0;32m~/mambaforge/envs/epfl/lib/python3.10/site-packages/keras/src/saving/legacy/save.py:239\u001b[0m, in \u001b[0;36mload_model\u001b[0;34m(filepath, custom_objects, compile, options)\u001b[0m\n\u001b[1;32m    234\u001b[0m     \u001b[38;5;28;01mraise\u001b[39;00m \u001b[38;5;167;01mIOError\u001b[39;00m(\n\u001b[1;32m    235\u001b[0m         \u001b[38;5;124mf\u001b[39m\u001b[38;5;124m\"\u001b[39m\u001b[38;5;124mNo file or directory found at \u001b[39m\u001b[38;5;132;01m{\u001b[39;00mfilepath_str\u001b[38;5;132;01m}\u001b[39;00m\u001b[38;5;124m\"\u001b[39m\n\u001b[1;32m    236\u001b[0m     )\n\u001b[1;32m    238\u001b[0m \u001b[38;5;28;01mif\u001b[39;00m tf\u001b[38;5;241m.\u001b[39mio\u001b[38;5;241m.\u001b[39mgfile\u001b[38;5;241m.\u001b[39misdir(filepath_str):\n\u001b[0;32m--> 239\u001b[0m     \u001b[38;5;28;01mreturn\u001b[39;00m \u001b[43msaved_model_load\u001b[49m\u001b[38;5;241;43m.\u001b[39;49m\u001b[43mload\u001b[49m\u001b[43m(\u001b[49m\n\u001b[1;32m    240\u001b[0m \u001b[43m        \u001b[49m\u001b[43mfilepath_str\u001b[49m\u001b[43m,\u001b[49m\u001b[43m \u001b[49m\u001b[38;5;28;43mcompile\u001b[39;49m\u001b[43m,\u001b[49m\u001b[43m \u001b[49m\u001b[43moptions\u001b[49m\n\u001b[1;32m    241\u001b[0m \u001b[43m    \u001b[49m\u001b[43m)\u001b[49m\n\u001b[1;32m    242\u001b[0m \u001b[38;5;28;01melse\u001b[39;00m:\n\u001b[1;32m    243\u001b[0m     \u001b[38;5;28;01mif\u001b[39;00m h5py \u001b[38;5;129;01mis\u001b[39;00m \u001b[38;5;28;01mNone\u001b[39;00m:\n",
      "File \u001b[0;32m~/mambaforge/envs/epfl/lib/python3.10/site-packages/keras/src/saving/legacy/saved_model/load.py:150\u001b[0m, in \u001b[0;36mload\u001b[0;34m(path, compile, options)\u001b[0m\n\u001b[1;32m    145\u001b[0m     loaded \u001b[38;5;241m=\u001b[39m tf\u001b[38;5;241m.\u001b[39m__internal__\u001b[38;5;241m.\u001b[39msaved_model\u001b[38;5;241m.\u001b[39mload_partial(\n\u001b[1;32m    146\u001b[0m         path, nodes_to_load, options\u001b[38;5;241m=\u001b[39moptions\n\u001b[1;32m    147\u001b[0m     )\n\u001b[1;32m    149\u001b[0m \u001b[38;5;66;03m# Finalize the loaded layers and remove the extra tracked dependencies.\u001b[39;00m\n\u001b[0;32m--> 150\u001b[0m \u001b[43mkeras_loader\u001b[49m\u001b[38;5;241;43m.\u001b[39;49m\u001b[43mfinalize_objects\u001b[49m\u001b[43m(\u001b[49m\u001b[43m)\u001b[49m\n\u001b[1;32m    151\u001b[0m keras_loader\u001b[38;5;241m.\u001b[39mdel_tracking()\n\u001b[1;32m    153\u001b[0m model \u001b[38;5;241m=\u001b[39m loaded[\u001b[38;5;124m\"\u001b[39m\u001b[38;5;124mroot\u001b[39m\u001b[38;5;124m\"\u001b[39m]\n",
      "File \u001b[0;32m~/mambaforge/envs/epfl/lib/python3.10/site-packages/keras/src/saving/legacy/saved_model/load.py:736\u001b[0m, in \u001b[0;36mKerasObjectLoader.finalize_objects\u001b[0;34m(self)\u001b[0m\n\u001b[1;32m    732\u001b[0m _finalize_config_layers(layers_revived_from_config)\n\u001b[1;32m    734\u001b[0m \u001b[38;5;66;03m# Initialize graph networks, now that layer dependencies have been\u001b[39;00m\n\u001b[1;32m    735\u001b[0m \u001b[38;5;66;03m# resolved.\u001b[39;00m\n\u001b[0;32m--> 736\u001b[0m \u001b[38;5;28;43mself\u001b[39;49m\u001b[38;5;241;43m.\u001b[39;49m\u001b[43m_reconstruct_all_models\u001b[49m\u001b[43m(\u001b[49m\u001b[43m)\u001b[49m\n",
      "File \u001b[0;32m~/mambaforge/envs/epfl/lib/python3.10/site-packages/keras/src/saving/legacy/saved_model/load.py:755\u001b[0m, in \u001b[0;36mKerasObjectLoader._reconstruct_all_models\u001b[0;34m(self)\u001b[0m\n\u001b[1;32m    753\u001b[0m     all_initialized_models\u001b[38;5;241m.\u001b[39madd(model_id)\n\u001b[1;32m    754\u001b[0m     model, layers \u001b[38;5;241m=\u001b[39m \u001b[38;5;28mself\u001b[39m\u001b[38;5;241m.\u001b[39mmodel_layer_dependencies[model_id]\n\u001b[0;32m--> 755\u001b[0m     \u001b[38;5;28;43mself\u001b[39;49m\u001b[38;5;241;43m.\u001b[39;49m\u001b[43m_reconstruct_model\u001b[49m\u001b[43m(\u001b[49m\u001b[43mmodel_id\u001b[49m\u001b[43m,\u001b[49m\u001b[43m \u001b[49m\u001b[43mmodel\u001b[49m\u001b[43m,\u001b[49m\u001b[43m \u001b[49m\u001b[43mlayers\u001b[49m\u001b[43m)\u001b[49m\n\u001b[1;32m    756\u001b[0m     _finalize_config_layers([model])\n\u001b[1;32m    758\u001b[0m \u001b[38;5;28;01mif\u001b[39;00m all_initialized_models \u001b[38;5;241m!=\u001b[39m \u001b[38;5;28mset\u001b[39m(\u001b[38;5;28mself\u001b[39m\u001b[38;5;241m.\u001b[39mmodel_layer_dependencies\u001b[38;5;241m.\u001b[39mkeys()):\n\u001b[1;32m    759\u001b[0m     \u001b[38;5;66;03m# This should not happen.\u001b[39;00m\n",
      "File \u001b[0;32m~/mambaforge/envs/epfl/lib/python3.10/site-packages/keras/src/saving/legacy/saved_model/load.py:776\u001b[0m, in \u001b[0;36mKerasObjectLoader._reconstruct_model\u001b[0;34m(self, model_id, model, layers)\u001b[0m\n\u001b[1;32m    774\u001b[0m \u001b[38;5;28;01mdef\u001b[39;00m \u001b[38;5;21m_reconstruct_model\u001b[39m(\u001b[38;5;28mself\u001b[39m, model_id, model, layers):\n\u001b[1;32m    775\u001b[0m \u001b[38;5;250m    \u001b[39m\u001b[38;5;124;03m\"\"\"Reconstructs the network structure.\"\"\"\u001b[39;00m\n\u001b[0;32m--> 776\u001b[0m     config \u001b[38;5;241m=\u001b[39m \u001b[43mjson_utils\u001b[49m\u001b[38;5;241;43m.\u001b[39;49m\u001b[43mdecode\u001b[49m\u001b[43m(\u001b[49m\u001b[38;5;28;43mself\u001b[39;49m\u001b[38;5;241;43m.\u001b[39;49m\u001b[43m_metadata\u001b[49m\u001b[43m[\u001b[49m\u001b[43mmodel_id\u001b[49m\u001b[43m]\u001b[49m\u001b[38;5;241;43m.\u001b[39;49m\u001b[43mmetadata\u001b[49m\u001b[43m)\u001b[49m[\u001b[38;5;124m\"\u001b[39m\u001b[38;5;124mconfig\u001b[39m\u001b[38;5;124m\"\u001b[39m]\n\u001b[1;32m    778\u001b[0m     \u001b[38;5;66;03m# Set up model inputs\u001b[39;00m\n\u001b[1;32m    779\u001b[0m     \u001b[38;5;28;01mif\u001b[39;00m model\u001b[38;5;241m.\u001b[39minputs:\n\u001b[1;32m    780\u001b[0m         \u001b[38;5;66;03m# Inputs may already be created if the model is instantiated in\u001b[39;00m\n\u001b[1;32m    781\u001b[0m         \u001b[38;5;66;03m# another object's __init__.\u001b[39;00m\n",
      "File \u001b[0;32m~/mambaforge/envs/epfl/lib/python3.10/site-packages/keras/src/saving/legacy/saved_model/json_utils.py:73\u001b[0m, in \u001b[0;36mdecode\u001b[0;34m(json_string)\u001b[0m\n\u001b[1;32m     72\u001b[0m \u001b[38;5;28;01mdef\u001b[39;00m \u001b[38;5;21mdecode\u001b[39m(json_string):\n\u001b[0;32m---> 73\u001b[0m     \u001b[38;5;28;01mreturn\u001b[39;00m \u001b[43mjson\u001b[49m\u001b[38;5;241;43m.\u001b[39;49m\u001b[43mloads\u001b[49m\u001b[43m(\u001b[49m\u001b[43mjson_string\u001b[49m\u001b[43m,\u001b[49m\u001b[43m \u001b[49m\u001b[43mobject_hook\u001b[49m\u001b[38;5;241;43m=\u001b[39;49m\u001b[43m_decode_helper\u001b[49m\u001b[43m)\u001b[49m\n",
      "File \u001b[0;32m~/mambaforge/envs/epfl/lib/python3.10/json/__init__.py:359\u001b[0m, in \u001b[0;36mloads\u001b[0;34m(s, cls, object_hook, parse_float, parse_int, parse_constant, object_pairs_hook, **kw)\u001b[0m\n\u001b[1;32m    357\u001b[0m \u001b[38;5;28;01mif\u001b[39;00m parse_constant \u001b[38;5;129;01mis\u001b[39;00m \u001b[38;5;129;01mnot\u001b[39;00m \u001b[38;5;28;01mNone\u001b[39;00m:\n\u001b[1;32m    358\u001b[0m     kw[\u001b[38;5;124m'\u001b[39m\u001b[38;5;124mparse_constant\u001b[39m\u001b[38;5;124m'\u001b[39m] \u001b[38;5;241m=\u001b[39m parse_constant\n\u001b[0;32m--> 359\u001b[0m \u001b[38;5;28;01mreturn\u001b[39;00m \u001b[38;5;28;43mcls\u001b[39;49m\u001b[43m(\u001b[49m\u001b[38;5;241;43m*\u001b[39;49m\u001b[38;5;241;43m*\u001b[39;49m\u001b[43mkw\u001b[49m\u001b[43m)\u001b[49m\u001b[38;5;241;43m.\u001b[39;49m\u001b[43mdecode\u001b[49m\u001b[43m(\u001b[49m\u001b[43ms\u001b[49m\u001b[43m)\u001b[49m\n",
      "File \u001b[0;32m~/mambaforge/envs/epfl/lib/python3.10/json/decoder.py:337\u001b[0m, in \u001b[0;36mJSONDecoder.decode\u001b[0;34m(self, s, _w)\u001b[0m\n\u001b[1;32m    332\u001b[0m \u001b[38;5;28;01mdef\u001b[39;00m \u001b[38;5;21mdecode\u001b[39m(\u001b[38;5;28mself\u001b[39m, s, _w\u001b[38;5;241m=\u001b[39mWHITESPACE\u001b[38;5;241m.\u001b[39mmatch):\n\u001b[1;32m    333\u001b[0m \u001b[38;5;250m    \u001b[39m\u001b[38;5;124;03m\"\"\"Return the Python representation of ``s`` (a ``str`` instance\u001b[39;00m\n\u001b[1;32m    334\u001b[0m \u001b[38;5;124;03m    containing a JSON document).\u001b[39;00m\n\u001b[1;32m    335\u001b[0m \n\u001b[1;32m    336\u001b[0m \u001b[38;5;124;03m    \"\"\"\u001b[39;00m\n\u001b[0;32m--> 337\u001b[0m     obj, end \u001b[38;5;241m=\u001b[39m \u001b[38;5;28;43mself\u001b[39;49m\u001b[38;5;241;43m.\u001b[39;49m\u001b[43mraw_decode\u001b[49m\u001b[43m(\u001b[49m\u001b[43ms\u001b[49m\u001b[43m,\u001b[49m\u001b[43m \u001b[49m\u001b[43midx\u001b[49m\u001b[38;5;241;43m=\u001b[39;49m\u001b[43m_w\u001b[49m\u001b[43m(\u001b[49m\u001b[43ms\u001b[49m\u001b[43m,\u001b[49m\u001b[43m \u001b[49m\u001b[38;5;241;43m0\u001b[39;49m\u001b[43m)\u001b[49m\u001b[38;5;241;43m.\u001b[39;49m\u001b[43mend\u001b[49m\u001b[43m(\u001b[49m\u001b[43m)\u001b[49m\u001b[43m)\u001b[49m\n\u001b[1;32m    338\u001b[0m     end \u001b[38;5;241m=\u001b[39m _w(s, end)\u001b[38;5;241m.\u001b[39mend()\n\u001b[1;32m    339\u001b[0m     \u001b[38;5;28;01mif\u001b[39;00m end \u001b[38;5;241m!=\u001b[39m \u001b[38;5;28mlen\u001b[39m(s):\n",
      "File \u001b[0;32m~/mambaforge/envs/epfl/lib/python3.10/json/decoder.py:353\u001b[0m, in \u001b[0;36mJSONDecoder.raw_decode\u001b[0;34m(self, s, idx)\u001b[0m\n\u001b[1;32m    344\u001b[0m \u001b[38;5;250m\u001b[39m\u001b[38;5;124;03m\"\"\"Decode a JSON document from ``s`` (a ``str`` beginning with\u001b[39;00m\n\u001b[1;32m    345\u001b[0m \u001b[38;5;124;03ma JSON document) and return a 2-tuple of the Python\u001b[39;00m\n\u001b[1;32m    346\u001b[0m \u001b[38;5;124;03mrepresentation and the index in ``s`` where the document ended.\u001b[39;00m\n\u001b[0;32m   (...)\u001b[0m\n\u001b[1;32m    350\u001b[0m \n\u001b[1;32m    351\u001b[0m \u001b[38;5;124;03m\"\"\"\u001b[39;00m\n\u001b[1;32m    352\u001b[0m \u001b[38;5;28;01mtry\u001b[39;00m:\n\u001b[0;32m--> 353\u001b[0m     obj, end \u001b[38;5;241m=\u001b[39m \u001b[38;5;28;43mself\u001b[39;49m\u001b[38;5;241;43m.\u001b[39;49m\u001b[43mscan_once\u001b[49m\u001b[43m(\u001b[49m\u001b[43ms\u001b[49m\u001b[43m,\u001b[49m\u001b[43m \u001b[49m\u001b[43midx\u001b[49m\u001b[43m)\u001b[49m\n\u001b[1;32m    354\u001b[0m \u001b[38;5;28;01mexcept\u001b[39;00m \u001b[38;5;167;01mStopIteration\u001b[39;00m \u001b[38;5;28;01mas\u001b[39;00m err:\n\u001b[1;32m    355\u001b[0m     \u001b[38;5;28;01mraise\u001b[39;00m JSONDecodeError(\u001b[38;5;124m\"\u001b[39m\u001b[38;5;124mExpecting value\u001b[39m\u001b[38;5;124m\"\u001b[39m, s, err\u001b[38;5;241m.\u001b[39mvalue) \u001b[38;5;28;01mfrom\u001b[39;00m \u001b[38;5;28;01mNone\u001b[39;00m\n",
      "File \u001b[0;32m~/mambaforge/envs/epfl/lib/python3.10/site-packages/keras/src/saving/legacy/saved_model/json_utils.py:91\u001b[0m, in \u001b[0;36m_decode_helper\u001b[0;34m(obj, deserialize, module_objects, custom_objects)\u001b[0m\n\u001b[1;32m     79\u001b[0m \u001b[38;5;250m    \u001b[39m\u001b[38;5;124;03m\"\"\"Decodes the JSON and deserializes any Keras objects found in the dict.\"\"\"\u001b[39;00m\n\u001b[1;32m     80\u001b[0m     \u001b[38;5;28;01mreturn\u001b[39;00m json\u001b[38;5;241m.\u001b[39mloads(\n\u001b[1;32m     81\u001b[0m         json_string,\n\u001b[1;32m     82\u001b[0m         object_hook\u001b[38;5;241m=\u001b[39mfunctools\u001b[38;5;241m.\u001b[39mpartial(\n\u001b[0;32m   (...)\u001b[0m\n\u001b[1;32m     87\u001b[0m         ),\n\u001b[1;32m     88\u001b[0m     )\n\u001b[0;32m---> 91\u001b[0m \u001b[38;5;28;01mdef\u001b[39;00m \u001b[38;5;21m_decode_helper\u001b[39m(\n\u001b[1;32m     92\u001b[0m     obj, deserialize\u001b[38;5;241m=\u001b[39m\u001b[38;5;28;01mFalse\u001b[39;00m, module_objects\u001b[38;5;241m=\u001b[39m\u001b[38;5;28;01mNone\u001b[39;00m, custom_objects\u001b[38;5;241m=\u001b[39m\u001b[38;5;28;01mNone\u001b[39;00m\n\u001b[1;32m     93\u001b[0m ):\n\u001b[1;32m     94\u001b[0m \u001b[38;5;250m    \u001b[39m\u001b[38;5;124;03m\"\"\"A decoding helper that is TF-object aware.\u001b[39;00m\n\u001b[1;32m     95\u001b[0m \n\u001b[1;32m     96\u001b[0m \u001b[38;5;124;03m    Args:\u001b[39;00m\n\u001b[0;32m   (...)\u001b[0m\n\u001b[1;32m    107\u001b[0m \u001b[38;5;124;03m      The decoded object.\u001b[39;00m\n\u001b[1;32m    108\u001b[0m \u001b[38;5;124;03m    \"\"\"\u001b[39;00m\n\u001b[1;32m    109\u001b[0m     \u001b[38;5;28;01mif\u001b[39;00m \u001b[38;5;28misinstance\u001b[39m(obj, \u001b[38;5;28mdict\u001b[39m) \u001b[38;5;129;01mand\u001b[39;00m \u001b[38;5;124m\"\u001b[39m\u001b[38;5;124mclass_name\u001b[39m\u001b[38;5;124m\"\u001b[39m \u001b[38;5;129;01min\u001b[39;00m obj:\n",
      "\u001b[0;31mKeyboardInterrupt\u001b[0m: "
     ]
    }
   ],
   "source": [
    "model = tf.keras.saving.load_model(\"./weights/gru_1\")"
   ]
  },
  {
   "cell_type": "code",
   "execution_count": 2,
   "id": "1011f209-9136-4a92-abf3-7df19df5d89c",
   "metadata": {},
   "outputs": [
    {
     "data": {
      "text/html": [
       "<div>\n",
       "<style scoped>\n",
       "    .dataframe tbody tr th:only-of-type {\n",
       "        vertical-align: middle;\n",
       "    }\n",
       "\n",
       "    .dataframe tbody tr th {\n",
       "        vertical-align: top;\n",
       "    }\n",
       "\n",
       "    .dataframe thead th {\n",
       "        text-align: right;\n",
       "    }\n",
       "</style>\n",
       "<table border=\"1\" class=\"dataframe\">\n",
       "  <thead>\n",
       "    <tr style=\"text-align: right;\">\n",
       "      <th></th>\n",
       "      <th>Id</th>\n",
       "      <th>Prediction</th>\n",
       "    </tr>\n",
       "  </thead>\n",
       "  <tbody>\n",
       "    <tr>\n",
       "      <th>0</th>\n",
       "      <td>0</td>\n",
       "      <td>-1</td>\n",
       "    </tr>\n",
       "    <tr>\n",
       "      <th>1</th>\n",
       "      <td>1</td>\n",
       "      <td>-1</td>\n",
       "    </tr>\n",
       "    <tr>\n",
       "      <th>2</th>\n",
       "      <td>2</td>\n",
       "      <td>-1</td>\n",
       "    </tr>\n",
       "    <tr>\n",
       "      <th>3</th>\n",
       "      <td>3</td>\n",
       "      <td>1</td>\n",
       "    </tr>\n",
       "    <tr>\n",
       "      <th>4</th>\n",
       "      <td>4</td>\n",
       "      <td>-1</td>\n",
       "    </tr>\n",
       "  </tbody>\n",
       "</table>\n",
       "</div>"
      ],
      "text/plain": [
       "   Id  Prediction\n",
       "0   0          -1\n",
       "1   1          -1\n",
       "2   2          -1\n",
       "3   3           1\n",
       "4   4          -1"
      ]
     },
     "execution_count": 2,
     "metadata": {},
     "output_type": "execute_result"
    }
   ],
   "source": [
    "import pandas as pd\n",
    "sub = pd.read_csv(\"submissions/gru/submission_2023-12-18_14_04_34.csv\")\n",
    "sub.head()"
   ]
  },
  {
   "cell_type": "code",
   "execution_count": 3,
   "id": "2b5bf6d5-1707-42dd-ba5b-794d4143afcd",
   "metadata": {},
   "outputs": [
    {
     "data": {
      "text/html": [
       "<div>\n",
       "<style scoped>\n",
       "    .dataframe tbody tr th:only-of-type {\n",
       "        vertical-align: middle;\n",
       "    }\n",
       "\n",
       "    .dataframe tbody tr th {\n",
       "        vertical-align: top;\n",
       "    }\n",
       "\n",
       "    .dataframe thead th {\n",
       "        text-align: right;\n",
       "    }\n",
       "</style>\n",
       "<table border=\"1\" class=\"dataframe\">\n",
       "  <thead>\n",
       "    <tr style=\"text-align: right;\">\n",
       "      <th></th>\n",
       "      <th>Id</th>\n",
       "      <th>Prediction</th>\n",
       "    </tr>\n",
       "  </thead>\n",
       "  <tbody>\n",
       "    <tr>\n",
       "      <th>0</th>\n",
       "      <td>1</td>\n",
       "      <td>-1</td>\n",
       "    </tr>\n",
       "    <tr>\n",
       "      <th>1</th>\n",
       "      <td>2</td>\n",
       "      <td>-1</td>\n",
       "    </tr>\n",
       "    <tr>\n",
       "      <th>2</th>\n",
       "      <td>3</td>\n",
       "      <td>-1</td>\n",
       "    </tr>\n",
       "    <tr>\n",
       "      <th>3</th>\n",
       "      <td>4</td>\n",
       "      <td>1</td>\n",
       "    </tr>\n",
       "    <tr>\n",
       "      <th>4</th>\n",
       "      <td>5</td>\n",
       "      <td>-1</td>\n",
       "    </tr>\n",
       "  </tbody>\n",
       "</table>\n",
       "</div>"
      ],
      "text/plain": [
       "   Id  Prediction\n",
       "0   1          -1\n",
       "1   2          -1\n",
       "2   3          -1\n",
       "3   4           1\n",
       "4   5          -1"
      ]
     },
     "execution_count": 3,
     "metadata": {},
     "output_type": "execute_result"
    }
   ],
   "source": [
    "sub[\"Id\"] = sub[\"Id\"] + 1\n",
    "sub.head()"
   ]
  },
  {
   "cell_type": "code",
   "execution_count": 4,
   "id": "d985af4d-0cb5-4b57-bb63-3d4e23566878",
   "metadata": {},
   "outputs": [],
   "source": [
    "sub.to_csv(\"submissions/gru/submission_2023-12-18_14_04_34.csv\", index=False)"
   ]
  },
  {
   "cell_type": "code",
   "execution_count": null,
   "id": "0898dda9-0a4e-42cb-bdac-c159565433cf",
   "metadata": {},
   "outputs": [],
   "source": []
  }
 ],
 "metadata": {
  "kernelspec": {
   "display_name": "Python 3 (ipykernel)",
   "language": "python",
   "name": "python3"
  },
  "language_info": {
   "codemirror_mode": {
    "name": "ipython",
    "version": 3
   },
   "file_extension": ".py",
   "mimetype": "text/x-python",
   "name": "python",
   "nbconvert_exporter": "python",
   "pygments_lexer": "ipython3",
   "version": "3.10.12"
  }
 },
 "nbformat": 4,
 "nbformat_minor": 5
}

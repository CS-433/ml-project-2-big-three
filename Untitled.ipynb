{
 "cells": [
  {
   "cell_type": "code",
   "execution_count": 1,
   "id": "f41708fc-b3b0-4072-b90d-8b0346b36339",
   "metadata": {},
   "outputs": [],
   "source": [
    "import pandas as pd"
   ]
  },
  {
   "cell_type": "code",
   "execution_count": 3,
   "id": "73bc6838-6305-4303-9afc-2676c9e2e73a",
   "metadata": {},
   "outputs": [],
   "source": [
    "# Initialize empty lists to store the lines from the files\n",
    "train_neg = []\n",
    "train_pos = []\n",
    "\n",
    "# File paths for the datasets\n",
    "train_neg_file = 'twitter-datasets/train_neg.txt'\n",
    "train_pos_file = 'twitter-datasets/train_pos.txt'\n",
    "\n",
    "# Read lines from 'train_neg' dataset and store them in train_neg_lines\n",
    "with open(train_neg_file, 'r', encoding='utf-8') as file:\n",
    "    for line in file:\n",
    "        train_neg.append(line.strip())  # Remove newline characters\n",
    "\n",
    "# Read lines from 'train_pos' dataset and store them in train_pos_lines\n",
    "with open(train_pos_file, 'r', encoding='utf-8') as file:\n",
    "    for line in file:\n",
    "        train_pos.append(line.strip())  # Remove newline characters"
   ]
  },
  {
   "cell_type": "code",
   "execution_count": 5,
   "id": "e0299500-596b-47af-b694-701de1bb8af8",
   "metadata": {},
   "outputs": [],
   "source": [
    "# Initialize empty lists to store the lines from the files\n",
    "test = []\n",
    "\n",
    "# File paths for the datasets\n",
    "test_file = 'test_data.txt'\n",
    "\n",
    "# Read lines from 'train_neg' dataset and store them in train_neg_lines\n",
    "with open(test_file, 'r', encoding='utf-8') as file:\n",
    "    for line in file:\n",
    "        test.append(line.strip())  # Remove newline characters"
   ]
  },
  {
   "cell_type": "code",
   "execution_count": 6,
   "id": "1154c8a4-4675-412d-a949-bda303e6ad95",
   "metadata": {},
   "outputs": [
    {
     "name": "stdout",
     "output_type": "stream",
     "text": [
      "Number of lines in train_neg: 100000\n",
      "Number of lines in train_pos: 100000\n",
      "Number of lines in test: 10000\n"
     ]
    }
   ],
   "source": [
    "# Print the number of lines in each dataset\n",
    "print(\"Number of lines in train_neg:\", len(train_neg))\n",
    "print(\"Number of lines in train_pos:\", len(train_pos))\n",
    "print(\"Number of lines in test:\", len(test))"
   ]
  },
  {
   "cell_type": "code",
   "execution_count": null,
   "metadata": {},
   "outputs": [],
   "source": []
  }
 ],
 "metadata": {
  "kernelspec": {
   "display_name": "transformers",
   "language": "python",
   "name": "python3"
  },
  "language_info": {
   "codemirror_mode": {
    "name": "ipython",
    "version": 3
   },
   "file_extension": ".py",
   "mimetype": "text/x-python",
   "name": "python",
   "nbconvert_exporter": "python",
   "pygments_lexer": "ipython3",
   "version": "3.11.5"
  }
 },
 "nbformat": 4,
 "nbformat_minor": 5
}

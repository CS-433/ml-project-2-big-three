{
 "cells": [
  {
   "cell_type": "code",
   "execution_count": 16,
   "id": "f41708fc-b3b0-4072-b90d-8b0346b36339",
   "metadata": {},
   "outputs": [],
   "source": [
    "import pandas as pd"
   ]
  },
  {
   "cell_type": "code",
   "execution_count": 41,
   "id": "73bc6838-6305-4303-9afc-2676c9e2e73a",
   "metadata": {},
   "outputs": [],
   "source": [
    "# Initialize empty lists to store the lines from the files\n",
    "train_neg = []\n",
    "train_pos = []\n",
    "\n",
    "# File paths for the datasets\n",
    "train_neg_file = 'twitter-datasets/train_neg_full.txt'\n",
    "train_pos_file = 'twitter-datasets/train_pos_full.txt'\n",
    "\n",
    "# Read lines from 'train_neg' dataset and store them in train_neg_lines\n",
    "with open(train_neg_file, 'r', encoding='utf-8') as file:\n",
    "    for line in file:\n",
    "        train_neg.append(line.strip())  # Remove newline characters\n",
    "\n",
    "# Read lines from 'train_pos' dataset and store them in train_pos_lines\n",
    "with open(train_pos_file, 'r', encoding='utf-8') as file:\n",
    "    for line in file:\n",
    "        train_pos.append(line.strip())  # Remove newline characters"
   ]
  },
  {
   "cell_type": "code",
   "execution_count": 42,
   "id": "e0299500-596b-47af-b694-701de1bb8af8",
   "metadata": {},
   "outputs": [],
   "source": [
    "# Initialize empty lists to store the lines from the files\n",
    "test = []\n",
    "\n",
    "# File paths for the datasets\n",
    "test_file = 'test_data.txt'\n",
    "\n",
    "# Read lines from 'train_neg' dataset and store them in train_neg_lines\n",
    "with open(test_file, 'r', encoding='utf-8') as file:\n",
    "    for line in file:\n",
    "        test.append(line.strip())  # Remove newline characters"
   ]
  },
  {
   "cell_type": "code",
   "execution_count": 43,
   "id": "1154c8a4-4675-412d-a949-bda303e6ad95",
   "metadata": {},
   "outputs": [
    {
     "name": "stdout",
     "output_type": "stream",
     "text": [
      "Number of lines in train_neg: 1250000\n",
      "Number of lines in train_pos: 1250000\n",
      "Number of lines in test: 10000\n"
     ]
    }
   ],
   "source": [
    "# Print the number of lines in each dataset\n",
    "print(\"Number of lines in train_neg:\", len(train_neg))\n",
    "print(\"Number of lines in train_pos:\", len(train_pos))\n",
    "print(\"Number of lines in test:\", len(test))"
   ]
  },
  {
   "cell_type": "code",
   "execution_count": 44,
   "metadata": {},
   "outputs": [],
   "source": [
    "# Use read_pickle() to open the .pkl file\n",
    "#vocab = pd.read_pickle('vocab.pkl')\n",
    "#cooc_matrix = pd.read_pickle('cooc.pkl')"
   ]
  },
  {
   "cell_type": "code",
   "execution_count": 21,
   "metadata": {},
   "outputs": [
    {
     "ename": "NameError",
     "evalue": "name 'cooc_matrix' is not defined",
     "output_type": "error",
     "traceback": [
      "\u001b[1;31m---------------------------------------------------------------------------\u001b[0m",
      "\u001b[1;31mNameError\u001b[0m                                 Traceback (most recent call last)",
      "\u001b[1;32mc:\\Users\\rayji\\OneDrive\\Documents\\GitHub\\ml-project-2-big-three\\Untitled.ipynb Cell 6\u001b[0m line \u001b[0;36m9\n\u001b[0;32m      <a href='vscode-notebook-cell:/c%3A/Users/rayji/OneDrive/Documents/GitHub/ml-project-2-big-three/Untitled.ipynb#W5sZmlsZQ%3D%3D?line=5'>6</a>\u001b[0m col_index \u001b[39m=\u001b[39m \u001b[39m0\u001b[39m\n\u001b[0;32m      <a href='vscode-notebook-cell:/c%3A/Users/rayji/OneDrive/Documents/GitHub/ml-project-2-big-three/Untitled.ipynb#W5sZmlsZQ%3D%3D?line=7'>8</a>\u001b[0m \u001b[39m# Access the element at the specified row and column indices\u001b[39;00m\n\u001b[1;32m----> <a href='vscode-notebook-cell:/c%3A/Users/rayji/OneDrive/Documents/GitHub/ml-project-2-big-three/Untitled.ipynb#W5sZmlsZQ%3D%3D?line=8'>9</a>\u001b[0m row \u001b[39m=\u001b[39m cooc_matrix\u001b[39m.\u001b[39mgetrow(row_index)\n\u001b[0;32m     <a href='vscode-notebook-cell:/c%3A/Users/rayji/OneDrive/Documents/GitHub/ml-project-2-big-three/Untitled.ipynb#W5sZmlsZQ%3D%3D?line=9'>10</a>\u001b[0m element \u001b[39m=\u001b[39m row[\u001b[39m0\u001b[39m, col_index]\n\u001b[0;32m     <a href='vscode-notebook-cell:/c%3A/Users/rayji/OneDrive/Documents/GitHub/ml-project-2-big-three/Untitled.ipynb#W5sZmlsZQ%3D%3D?line=11'>12</a>\u001b[0m \u001b[39m# 'element' now contains the value at the specified position in the sparse matrix\u001b[39;00m\n",
      "\u001b[1;31mNameError\u001b[0m: name 'cooc_matrix' is not defined"
     ]
    }
   ],
   "source": [
    "import scipy.sparse\n",
    "\n",
    "# Assuming 'sparse_matrix' is your sparse matrix\n",
    "# Replace row_index and col_index with the specific indices you want to access\n",
    "row_index = 0\n",
    "col_index = 0\n",
    "\n",
    "# Access the element at the specified row and column indices\n",
    "row = cooc_matrix.getrow(row_index)\n",
    "element = row[0, col_index]\n",
    "\n",
    "# 'element' now contains the value at the specified position in the sparse matrix\n",
    "element"
   ]
  },
  {
   "cell_type": "code",
   "execution_count": 45,
   "metadata": {},
   "outputs": [],
   "source": [
    "import pandas as pd\n",
    "import re\n",
    "from os import listdir\n",
    "from os.path import isfile, join\n",
    "from random import shuffle"
   ]
  },
  {
   "cell_type": "code",
   "execution_count": 46,
   "metadata": {},
   "outputs": [],
   "source": [
    "def create_dataframe(arr_pos, arr_neg):\n",
    "    # Create a DataFrame from arr_pos with \"value\" column set to 1\n",
    "    df_pos = pd.DataFrame({'text': arr_pos, 'label': 1})\n",
    "    \n",
    "    # Create a DataFrame from arr_neg with \"value\" column set to -1\n",
    "    df_neg = pd.DataFrame({'text': arr_neg, 'label': 0})\n",
    "    \n",
    "    # Concatenate the two DataFrames\n",
    "    result_df = pd.concat([df_pos, df_neg], ignore_index=True)\n",
    "    \n",
    "    return result_df"
   ]
  },
  {
   "cell_type": "code",
   "execution_count": 47,
   "metadata": {},
   "outputs": [],
   "source": [
    "data_train = create_dataframe(train_pos, train_neg)"
   ]
  },
  {
   "cell_type": "code",
   "execution_count": 48,
   "metadata": {},
   "outputs": [
    {
     "data": {
      "text/html": [
       "<div>\n",
       "<style scoped>\n",
       "    .dataframe tbody tr th:only-of-type {\n",
       "        vertical-align: middle;\n",
       "    }\n",
       "\n",
       "    .dataframe tbody tr th {\n",
       "        vertical-align: top;\n",
       "    }\n",
       "\n",
       "    .dataframe thead th {\n",
       "        text-align: right;\n",
       "    }\n",
       "</style>\n",
       "<table border=\"1\" class=\"dataframe\">\n",
       "  <thead>\n",
       "    <tr style=\"text-align: right;\">\n",
       "      <th></th>\n",
       "      <th>text</th>\n",
       "      <th>label</th>\n",
       "    </tr>\n",
       "  </thead>\n",
       "  <tbody>\n",
       "    <tr>\n",
       "      <th>0</th>\n",
       "      <td>&lt;user&gt; i dunno justin read my mention or not ....</td>\n",
       "      <td>1</td>\n",
       "    </tr>\n",
       "    <tr>\n",
       "      <th>1</th>\n",
       "      <td>because your logic is so dumb , i won't even c...</td>\n",
       "      <td>1</td>\n",
       "    </tr>\n",
       "    <tr>\n",
       "      <th>2</th>\n",
       "      <td>\" &lt;user&gt; just put casper in a box ! \" looved t...</td>\n",
       "      <td>1</td>\n",
       "    </tr>\n",
       "    <tr>\n",
       "      <th>3</th>\n",
       "      <td>&lt;user&gt; &lt;user&gt; thanks sir &gt; &gt; don't trip lil ma...</td>\n",
       "      <td>1</td>\n",
       "    </tr>\n",
       "    <tr>\n",
       "      <th>4</th>\n",
       "      <td>visiting my brother tmr is the bestest birthda...</td>\n",
       "      <td>1</td>\n",
       "    </tr>\n",
       "    <tr>\n",
       "      <th>...</th>\n",
       "      <td>...</td>\n",
       "      <td>...</td>\n",
       "    </tr>\n",
       "    <tr>\n",
       "      <th>2499995</th>\n",
       "      <td>im so sorry ! &lt;user&gt; &amp; to &lt;user&gt; &amp; &lt;user&gt; u gu...</td>\n",
       "      <td>0</td>\n",
       "    </tr>\n",
       "    <tr>\n",
       "      <th>2499996</th>\n",
       "      <td>i can't find food coloring anywhere</td>\n",
       "      <td>0</td>\n",
       "    </tr>\n",
       "    <tr>\n",
       "      <th>2499997</th>\n",
       "      <td>&lt;user&gt; same here ! ! but tort ! ! wonder why y...</td>\n",
       "      <td>0</td>\n",
       "    </tr>\n",
       "    <tr>\n",
       "      <th>2499998</th>\n",
       "      <td>keyless entry remote fob clicker for 2005 buic...</td>\n",
       "      <td>0</td>\n",
       "    </tr>\n",
       "    <tr>\n",
       "      <th>2499999</th>\n",
       "      <td>&lt;user&gt; yeap . doctor don't know what's wrong w...</td>\n",
       "      <td>0</td>\n",
       "    </tr>\n",
       "  </tbody>\n",
       "</table>\n",
       "<p>2500000 rows × 2 columns</p>\n",
       "</div>"
      ],
      "text/plain": [
       "                                                      text  label\n",
       "0        <user> i dunno justin read my mention or not ....      1\n",
       "1        because your logic is so dumb , i won't even c...      1\n",
       "2        \" <user> just put casper in a box ! \" looved t...      1\n",
       "3        <user> <user> thanks sir > > don't trip lil ma...      1\n",
       "4        visiting my brother tmr is the bestest birthda...      1\n",
       "...                                                    ...    ...\n",
       "2499995  im so sorry ! <user> & to <user> & <user> u gu...      0\n",
       "2499996                i can't find food coloring anywhere      0\n",
       "2499997  <user> same here ! ! but tort ! ! wonder why y...      0\n",
       "2499998  keyless entry remote fob clicker for 2005 buic...      0\n",
       "2499999  <user> yeap . doctor don't know what's wrong w...      0\n",
       "\n",
       "[2500000 rows x 2 columns]"
      ]
     },
     "execution_count": 48,
     "metadata": {},
     "output_type": "execute_result"
    }
   ],
   "source": [
    "data_train"
   ]
  },
  {
   "cell_type": "code",
   "execution_count": 57,
   "metadata": {},
   "outputs": [
    {
     "name": "stdout",
     "output_type": "stream",
     "text": [
      "Accuracy: 0.81912\n"
     ]
    }
   ],
   "source": [
    "from sklearn.feature_extraction.text import TfidfVectorizer\n",
    "from sklearn.linear_model import LogisticRegression\n",
    "from sklearn.model_selection import train_test_split\n",
    "from sklearn.metrics import accuracy_score\n",
    "\n",
    "# Split the data into training and testing sets\n",
    "X_train, X_test, y_train, y_test = train_test_split(data_train['text'], data_train['label'], test_size=0.01, random_state=42)\n",
    "\n",
    "# Create a TF-IDF vectorizer\n",
    "vectorizer = TfidfVectorizer()\n",
    "\n",
    "# Transform the text data into TF-IDF features\n",
    "X_train_tfidf = vectorizer.fit_transform(X_train)\n",
    "X_test_tfidf = vectorizer.transform(X_test)\n",
    "\n",
    "# Train a logistic regression model\n",
    "model = LogisticRegression(max_iter=5000)\n",
    "model.fit(X_train_tfidf, y_train)\n",
    "\n",
    "# Predict labels for the test set\n",
    "y_pred = model.predict(X_test_tfidf)\n",
    "\n",
    "# Calculate accuracy\n",
    "accuracy = accuracy_score(y_test, y_pred)\n",
    "print(\"Accuracy:\", accuracy)"
   ]
  },
  {
   "cell_type": "code",
   "execution_count": 58,
   "metadata": {},
   "outputs": [],
   "source": [
    "test_data = []\n",
    "with open(\"test_data.txt\", 'r', encoding='utf-8') as file:\n",
    "    for line in file:\n",
    "        test_data.append(line.strip())  # Remove newline characters\n",
    "\n",
    "test_data = pd.DataFrame({'text': test_data})\n",
    "\n",
    "y_test_pred = model.predict(vectorizer.transform(test_data['text']))"
   ]
  },
  {
   "cell_type": "code",
   "execution_count": 59,
   "metadata": {},
   "outputs": [],
   "source": [
    "import numpy as np\n",
    "indexes = np.arange(1, len(y_test_pred)+1)  \n",
    "\n",
    "y_test_pred_2 = np.where(y_test_pred == 0, -1, y_test_pred)\n",
    "\n",
    "submission = pd.DataFrame({'Id':indexes,'Prediction': y_test_pred_2})\n",
    "\n",
    "submission.to_csv('test_predictions.csv', index=False)"
   ]
  },
  {
   "cell_type": "code",
   "execution_count": null,
   "metadata": {},
   "outputs": [],
   "source": []
  },
  {
   "cell_type": "code",
   "execution_count": null,
   "metadata": {},
   "outputs": [],
   "source": []
  }
 ],
 "metadata": {
  "kernelspec": {
   "display_name": "transformers",
   "language": "python",
   "name": "python3"
  },
  "language_info": {
   "codemirror_mode": {
    "name": "ipython",
    "version": 3
   },
   "file_extension": ".py",
   "mimetype": "text/x-python",
   "name": "python",
   "nbconvert_exporter": "python",
   "pygments_lexer": "ipython3",
   "version": "3.11.5"
  }
 },
 "nbformat": 4,
 "nbformat_minor": 5
}

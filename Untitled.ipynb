{
 "cells": [
  {
   "cell_type": "code",
   "execution_count": 1,
   "id": "f41708fc-b3b0-4072-b90d-8b0346b36339",
   "metadata": {},
   "outputs": [],
   "source": [
    "import pandas as pd"
   ]
  },
  {
   "cell_type": "code",
   "execution_count": 2,
   "id": "73bc6838-6305-4303-9afc-2676c9e2e73a",
   "metadata": {},
   "outputs": [
    {
     "ename": "FileNotFoundError",
     "evalue": "[Errno 2] No such file or directory: 'twitter-datasets/train_neg.txt'",
     "output_type": "error",
     "traceback": [
      "\u001b[1;31m---------------------------------------------------------------------------\u001b[0m",
      "\u001b[1;31mFileNotFoundError\u001b[0m                         Traceback (most recent call last)",
      "\u001b[1;32mc:\\Users\\rayji\\OneDrive\\Documents\\GitHub\\ml-project-2-big-three\\Untitled.ipynb Cell 2\u001b[0m line \u001b[0;36m1\n\u001b[0;32m      <a href='vscode-notebook-cell:/c%3A/Users/rayji/OneDrive/Documents/GitHub/ml-project-2-big-three/Untitled.ipynb#W1sZmlsZQ%3D%3D?line=6'>7</a>\u001b[0m train_pos_file \u001b[39m=\u001b[39m \u001b[39m'\u001b[39m\u001b[39mtwitter-datasets/train_pos.txt\u001b[39m\u001b[39m'\u001b[39m\n\u001b[0;32m      <a href='vscode-notebook-cell:/c%3A/Users/rayji/OneDrive/Documents/GitHub/ml-project-2-big-three/Untitled.ipynb#W1sZmlsZQ%3D%3D?line=8'>9</a>\u001b[0m \u001b[39m# Read lines from 'train_neg' dataset and store them in train_neg_lines\u001b[39;00m\n\u001b[1;32m---> <a href='vscode-notebook-cell:/c%3A/Users/rayji/OneDrive/Documents/GitHub/ml-project-2-big-three/Untitled.ipynb#W1sZmlsZQ%3D%3D?line=9'>10</a>\u001b[0m \u001b[39mwith\u001b[39;00m \u001b[39mopen\u001b[39;49m(train_neg_file, \u001b[39m'\u001b[39;49m\u001b[39mr\u001b[39;49m\u001b[39m'\u001b[39;49m, encoding\u001b[39m=\u001b[39;49m\u001b[39m'\u001b[39;49m\u001b[39mutf-8\u001b[39;49m\u001b[39m'\u001b[39;49m) \u001b[39mas\u001b[39;00m file:\n\u001b[0;32m     <a href='vscode-notebook-cell:/c%3A/Users/rayji/OneDrive/Documents/GitHub/ml-project-2-big-three/Untitled.ipynb#W1sZmlsZQ%3D%3D?line=10'>11</a>\u001b[0m     \u001b[39mfor\u001b[39;00m line \u001b[39min\u001b[39;00m file:\n\u001b[0;32m     <a href='vscode-notebook-cell:/c%3A/Users/rayji/OneDrive/Documents/GitHub/ml-project-2-big-three/Untitled.ipynb#W1sZmlsZQ%3D%3D?line=11'>12</a>\u001b[0m         train_neg\u001b[39m.\u001b[39mappend(line\u001b[39m.\u001b[39mstrip())  \u001b[39m# Remove newline characters\u001b[39;00m\n",
      "File \u001b[1;32mc:\\Users\\rayji\\anaconda3\\envs\\transformers\\Lib\\site-packages\\IPython\\core\\interactiveshell.py:286\u001b[0m, in \u001b[0;36m_modified_open\u001b[1;34m(file, *args, **kwargs)\u001b[0m\n\u001b[0;32m    279\u001b[0m \u001b[39mif\u001b[39;00m file \u001b[39min\u001b[39;00m {\u001b[39m0\u001b[39m, \u001b[39m1\u001b[39m, \u001b[39m2\u001b[39m}:\n\u001b[0;32m    280\u001b[0m     \u001b[39mraise\u001b[39;00m \u001b[39mValueError\u001b[39;00m(\n\u001b[0;32m    281\u001b[0m         \u001b[39mf\u001b[39m\u001b[39m\"\u001b[39m\u001b[39mIPython won\u001b[39m\u001b[39m'\u001b[39m\u001b[39mt let you open fd=\u001b[39m\u001b[39m{\u001b[39;00mfile\u001b[39m}\u001b[39;00m\u001b[39m by default \u001b[39m\u001b[39m\"\u001b[39m\n\u001b[0;32m    282\u001b[0m         \u001b[39m\"\u001b[39m\u001b[39mas it is likely to crash IPython. If you know what you are doing, \u001b[39m\u001b[39m\"\u001b[39m\n\u001b[0;32m    283\u001b[0m         \u001b[39m\"\u001b[39m\u001b[39myou can use builtins\u001b[39m\u001b[39m'\u001b[39m\u001b[39m open.\u001b[39m\u001b[39m\"\u001b[39m\n\u001b[0;32m    284\u001b[0m     )\n\u001b[1;32m--> 286\u001b[0m \u001b[39mreturn\u001b[39;00m io_open(file, \u001b[39m*\u001b[39;49margs, \u001b[39m*\u001b[39;49m\u001b[39m*\u001b[39;49mkwargs)\n",
      "\u001b[1;31mFileNotFoundError\u001b[0m: [Errno 2] No such file or directory: 'twitter-datasets/train_neg.txt'"
     ]
    }
   ],
   "source": [
    "# Initialize empty lists to store the lines from the files\n",
    "train_neg = []\n",
    "train_pos = []\n",
    "\n",
    "# File paths for the datasets\n",
    "train_neg_file = 'twitter-datasets/train_neg.txt'\n",
    "train_pos_file = 'twitter-datasets/train_pos.txt'\n",
    "\n",
    "# Read lines from 'train_neg' dataset and store them in train_neg_lines\n",
    "with open(train_neg_file, 'r', encoding='utf-8') as file:\n",
    "    for line in file:\n",
    "        train_neg.append(line.strip())  # Remove newline characters\n",
    "\n",
    "# Read lines from 'train_pos' dataset and store them in train_pos_lines\n",
    "with open(train_pos_file, 'r', encoding='utf-8') as file:\n",
    "    for line in file:\n",
    "        train_pos.append(line.strip())  # Remove newline characters"
   ]
  },
  {
   "cell_type": "code",
   "execution_count": null,
   "id": "e0299500-596b-47af-b694-701de1bb8af8",
   "metadata": {},
   "outputs": [],
   "source": [
    "# Initialize empty lists to store the lines from the files\n",
    "test = []\n",
    "\n",
    "# File paths for the datasets\n",
    "test_file = 'test_data.txt'\n",
    "\n",
    "# Read lines from 'train_neg' dataset and store them in train_neg_lines\n",
    "with open(test_file, 'r', encoding='utf-8') as file:\n",
    "    for line in file:\n",
    "        test.append(line.strip())  # Remove newline characters"
   ]
  },
  {
   "cell_type": "code",
   "execution_count": null,
   "id": "1154c8a4-4675-412d-a949-bda303e6ad95",
   "metadata": {},
   "outputs": [
    {
     "name": "stdout",
     "output_type": "stream",
     "text": [
      "Number of lines in train_neg: 100000\n",
      "Number of lines in train_pos: 100000\n",
      "Number of lines in test: 10000\n"
     ]
    }
   ],
   "source": [
    "# Print the number of lines in each dataset\n",
    "print(\"Number of lines in train_neg:\", len(train_neg))\n",
    "print(\"Number of lines in train_pos:\", len(train_pos))\n",
    "print(\"Number of lines in test:\", len(test))"
   ]
  },
  {
   "cell_type": "code",
   "execution_count": null,
   "metadata": {},
   "outputs": [],
   "source": [
    "import pandas as pd\n",
    "import re\n",
    "from os import listdir\n",
    "from os.path import isfile, join\n",
    "from random import shuffle"
   ]
  },
  {
   "cell_type": "code",
   "execution_count": null,
   "metadata": {},
   "outputs": [],
   "source": [
    "def create_dataframe(arr_pos, arr_neg):\n",
    "    # Create a DataFrame from arr_pos with \"value\" column set to 1\n",
    "    df_pos = pd.DataFrame({'text': arr_pos, 'label': 1})\n",
    "    \n",
    "    # Create a DataFrame from arr_neg with \"value\" column set to -1\n",
    "    df_neg = pd.DataFrame({'text': arr_neg, 'label': 0})\n",
    "    \n",
    "    # Concatenate the two DataFrames\n",
    "    result_df = pd.concat([df_pos, df_neg], ignore_index=True)\n",
    "    \n",
    "    return result_df"
   ]
  },
  {
   "cell_type": "code",
   "execution_count": null,
   "metadata": {},
   "outputs": [],
   "source": [
    "data_train = create_dataframe(train_pos, train_neg)"
   ]
  },
  {
   "cell_type": "code",
   "execution_count": null,
   "metadata": {},
   "outputs": [],
   "source": [
    "data_train"
   ]
  }
 ],
 "metadata": {
  "kernelspec": {
   "display_name": "transformers",
   "language": "python",
   "name": "python3"
  },
  "language_info": {
   "codemirror_mode": {
    "name": "ipython",
    "version": 3
   },
   "file_extension": ".py",
   "mimetype": "text/x-python",
   "name": "python",
   "nbconvert_exporter": "python",
   "pygments_lexer": "ipython3",
   "version": "3.11.5"
  }
 },
 "nbformat": 4,
 "nbformat_minor": 5
}

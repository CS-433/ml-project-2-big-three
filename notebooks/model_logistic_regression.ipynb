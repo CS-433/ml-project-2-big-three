{
 "cells": [
  {
   "cell_type": "markdown",
   "id": "d21dc15f-e474-4b63-8337-21cae7b84e51",
   "metadata": {},
   "source": [
    "# 1. Setup"
   ]
  },
  {
   "cell_type": "code",
   "execution_count": null,
   "outputs": [],
   "source": [
    "# add root path to system path\n",
    "import sys\n",
    "import os\n",
    "\n",
    "sys.path.append('../')\n",
    "\n",
    "os.chdir(\"../\")"
   ],
   "metadata": {
    "collapsed": false
   },
   "id": "987d27546675696c"
  },
  {
   "cell_type": "code",
   "execution_count": 1,
   "id": "2a164ea1-c512-422e-b840-e383ae8e0852",
   "metadata": {},
   "outputs": [],
   "source": [
    "import time\n",
    "import numpy as np\n",
    "import pandas as pd\n",
    "import matplotlib.pyplot as plt\n",
    "\n",
    "from sklearn.linear_model import LogisticRegression\n",
    "from sklearn.model_selection import train_test_split, GridSearchCV\n",
    "from sklearn.feature_extraction.text import CountVectorizer, TfidfVectorizer\n",
    "from sklearn.metrics import accuracy_score\n",
    "from sklearn.pipeline import Pipeline\n",
    "\n",
    "from utility.utils import export_submission, WordEmbeddingVectorizer, load_preprocessed_data, \\\n",
    "    load_preprocessed_full_data, load_preprocessed_test_data\n",
    "from utility.paths import DataPath\n",
    "\n",
    "import gensim"
   ]
  },
  {
   "cell_type": "markdown",
   "id": "e528b5a3-cb3b-4f18-aef7-d0176d894ec6",
   "metadata": {},
   "source": [
    "This notebook is similar to the one about [Stochastic Gradient Descent (SGD)](./model_SGD.ipynb). Therefore, we won't go over the concepts again, but will instead focus on the results and discuss them."
   ]
  },
  {
   "cell_type": "markdown",
   "id": "b7f559a6-228f-4063-a7b7-a504d350f7f8",
   "metadata": {
    "tags": []
   },
   "source": [
    "# 2. Data loading"
   ]
  },
  {
   "cell_type": "markdown",
   "id": "fef0f06d-439a-4477-9ddb-ca3bcaaeb713",
   "metadata": {},
   "source": [
    "First, we will load the pre-processed datasets."
   ]
  },
  {
   "cell_type": "code",
   "execution_count": 3,
   "id": "10d344d4-94fa-4e15-9297-9c73d20b1d94",
   "metadata": {},
   "outputs": [],
   "source": [
    "# Load the data\n",
    "data_train = load_preprocessed_data()"
   ]
  },
  {
   "cell_type": "code",
   "execution_count": 4,
   "id": "fba80a18-7fbc-44fc-b86c-f8b47c22f34a",
   "metadata": {},
   "outputs": [],
   "source": [
    "# Split the data into training and testing sets\n",
    "X_train, X_validation, y_train, y_validation = train_test_split(data_train[\"text\"], data_train['label'], test_size=0.2,\n",
    "                                                                random_state=42)"
   ]
  },
  {
   "cell_type": "markdown",
   "id": "00f31caf-e6b0-4d02-bfc9-5812dc2c7452",
   "metadata": {
    "tags": []
   },
   "source": [
    "# 3. Text Vectorizer"
   ]
  },
  {
   "cell_type": "markdown",
   "id": "73a3b502-3f03-4803-8a30-4034f380947b",
   "metadata": {},
   "source": [
    "Now, we will conduct a grid search to identify the optimal text vectorizer for **Logistic Regression** the followings :\n",
    "\n",
    "- `Count Vectorizer`\n",
    "- `TF-IDF Vectorizer`\n",
    "- `Word2Vec`\n",
    "\n",
    "This will include determining their best hyperparameters."
   ]
  },
  {
   "cell_type": "markdown",
   "id": "f0880803-0a15-4b66-b00a-8e1d12235d57",
   "metadata": {
    "tags": []
   },
   "source": [
    "#### Count Vectorizer"
   ]
  },
  {
   "cell_type": "code",
   "execution_count": 8,
   "id": "14d287eb-3c66-4682-97e8-b341ce6980d1",
   "metadata": {
    "tags": []
   },
   "outputs": [
    {
     "name": "stdout",
     "output_type": "stream",
     "text": [
      "Count Vectorizer - Best parameters: {'vect__ngram_range': (1, 3)}\n",
      "Count Vectorizer - Best score: 0.8155027999920159\n"
     ]
    }
   ],
   "source": [
    "# Define pipeline for Count Vectorizer\n",
    "pipeline_count = Pipeline([\n",
    "    ('vect', CountVectorizer()),\n",
    "    ('clf', LogisticRegression(max_iter=1000))\n",
    "])\n",
    "\n",
    "# Parameter grid for Count Vectorizer pipeline\n",
    "parameter_grid_count = {\n",
    "    'vect__ngram_range': [(1, 1), (1, 2), (1, 3)],\n",
    "}\n",
    "\n",
    "# Grid search for Count Vectorizer pipeline\n",
    "grid_search_count = GridSearchCV(pipeline_count, parameter_grid_count, cv=5)\n",
    "\n",
    "# Fit the grid search to the data\n",
    "grid_search_count.fit(X_train, y_train)\n",
    "\n",
    "# After fitting, we can access the best parameters, best score, etc.\n",
    "print(\"Count Vectorizer - Best parameters:\", grid_search_count.best_params_)\n",
    "print(\"Count Vectorizer - Best score:\", grid_search_count.best_score_)"
   ]
  },
  {
   "cell_type": "markdown",
   "id": "a7a14adb-df2f-4a73-942b-e41aa473e124",
   "metadata": {
    "tags": []
   },
   "source": [
    "#### TF-IDF Vectorizer"
   ]
  },
  {
   "cell_type": "code",
   "execution_count": 9,
   "id": "816306ec-d4e8-4a22-bd83-77e8633bcd57",
   "metadata": {},
   "outputs": [
    {
     "name": "stdout",
     "output_type": "stream",
     "text": [
      "TF-IDF - Best parameters: {'vect__ngram_range': (1, 2)}\n",
      "TF-IDF - Best score: 0.8068081700760263\n"
     ]
    }
   ],
   "source": [
    "# Define pipeline for TF-IDF\n",
    "pipeline_tfidf = Pipeline([\n",
    "    ('vect', TfidfVectorizer()),\n",
    "    ('clf', LogisticRegression(max_iter=1000))\n",
    "])\n",
    "\n",
    "# Parameter grid for TF-IDF pipeline\n",
    "parameter_grid_tfidf = {\n",
    "    'vect__ngram_range': [(1, 1), (1, 2), (1, 3)],\n",
    "}\n",
    "\n",
    "# Grid search for TF-IDF pipeline\n",
    "grid_search_tfidf = GridSearchCV(pipeline_tfidf, parameter_grid_tfidf, cv=5)\n",
    "\n",
    "# Fit the grid search to the data\n",
    "grid_search_tfidf.fit(X_train, y_train)\n",
    "\n",
    "# After fitting, you can access the best parameters, best score, etc.\n",
    "print(\"TF-IDF - Best parameters:\", grid_search_tfidf.best_params_)\n",
    "print(\"TF-IDF - Best score:\", grid_search_tfidf.best_score_)"
   ]
  },
  {
   "cell_type": "markdown",
   "id": "3efae94c-b835-438d-9c2a-ad0b0a3cdfcc",
   "metadata": {},
   "source": [
    "#### Word2Vec"
   ]
  },
  {
   "cell_type": "code",
   "execution_count": 10,
   "id": "6796bf75-c2d4-4606-b632-256a6ba69f55",
   "metadata": {},
   "outputs": [],
   "source": [
    "# Load Google's pre-trained Word2Vec model.\n",
    "model_path = 'GoogleNews-vectors-negative300.bin'\n",
    "word_vectors = gensim.models.KeyedVectors.load_word2vec_format(model_path, binary=True)"
   ]
  },
  {
   "cell_type": "code",
   "execution_count": 11,
   "id": "66e04609-48c4-404f-951c-28d3002e51c1",
   "metadata": {},
   "outputs": [
    {
     "name": "stdout",
     "output_type": "stream",
     "text": [
      "Accuracy: 0.6272822549506316\n"
     ]
    }
   ],
   "source": [
    "# Create an instance of the WordEmbeddingVectorizer with our Word2Vec model\n",
    "word_vectorizer = WordEmbeddingVectorizer(word_vectors)\n",
    "\n",
    "# Create a pipeline\n",
    "pipeline = Pipeline([\n",
    "    ('word2vec', word_vectorizer),\n",
    "    ('classifier', LogisticRegression(max_iter=1000))\n",
    "])\n",
    "\n",
    "# Train the model\n",
    "pipeline.fit(X_train, y_train)\n",
    "\n",
    "# Calculate and print the accuracy\n",
    "accuracy = pipeline.score(X_validation, y_validation)\n",
    "print(\"Accuracy:\", accuracy)"
   ]
  },
  {
   "cell_type": "markdown",
   "id": "ff3bafdd-2f49-4663-bba7-454283eb96c4",
   "metadata": {
    "tags": []
   },
   "source": [
    "# 4. Optimization of the Logistic Regression model"
   ]
  },
  {
   "cell_type": "markdown",
   "id": "ee552d20-1cd0-4ac5-9a17-ae6916672b86",
   "metadata": {},
   "source": [
    "As with the SGD model, the vectorizer that yields the best accuracy is `CountVectorizer` with the parameters `ngram_range=(1, 3)`. Now let's use it to find the best Logistic Regression hyperparameters with a grid search."
   ]
  },
  {
   "cell_type": "markdown",
   "id": "330a6c8c-2244-4fa8-be0e-38d2354deebd",
   "metadata": {},
   "source": [
    "### Definition of the model"
   ]
  },
  {
   "cell_type": "markdown",
   "id": "c2d9c8b1-4b28-4c9a-a020-40a735cc980e",
   "metadata": {},
   "source": [
    "First, let's vectorize the data with the best vectorizer"
   ]
  },
  {
   "cell_type": "code",
   "execution_count": 12,
   "id": "b2fb8b88-274b-409c-9591-9384d29faab4",
   "metadata": {},
   "outputs": [],
   "source": [
    "# CountVectorizer\n",
    "best_vectorizer = CountVectorizer(ngram_range=(1, 3))\n",
    "X_train_vectorized = best_vectorizer.fit_transform(X_train)\n",
    "X_validation_vectorized = best_vectorizer.transform(X_validation)"
   ]
  },
  {
   "cell_type": "markdown",
   "id": "6ae2fea3-63a9-4980-94eb-503413de4a08",
   "metadata": {},
   "source": [
    "Now let's train the Logisitic Regression model with the vectorized data"
   ]
  },
  {
   "cell_type": "code",
   "execution_count": 21,
   "id": "859c8e68-df99-45b0-b412-84490e5233fc",
   "metadata": {},
   "outputs": [
    {
     "name": "stdout",
     "output_type": "stream",
     "text": [
      "Training time: 141.27 sec\n"
     ]
    }
   ],
   "source": [
    "# Instanciate an Logistic Regression classifier\n",
    "clf = LogisticRegression(max_iter=1000)\n",
    "start_time = time.time()\n",
    "clf.fit(X_train_vectorized, y_train)\n",
    "end_time = time.time()\n",
    "elapsed_time = end_time - start_time\n",
    "\n",
    "# Get decision scores instead of binary predictions\n",
    "y_train_scores = clf.predict_proba(X_train_vectorized)\n",
    "y_validation_scores = clf.predict_proba(X_validation_vectorized)\n",
    "print(f\"Training time: {elapsed_time:.2f} sec\")"
   ]
  },
  {
   "cell_type": "markdown",
   "id": "8ca9c596-6516-4106-b48d-88fe234a44fe",
   "metadata": {},
   "source": [
    "### Grid search for optimal decision boundary threshold"
   ]
  },
  {
   "cell_type": "markdown",
   "id": "9b366c81-7b44-4124-a38a-54d353f501d5",
   "metadata": {},
   "source": [
    "Now let's find the best decision boundary threshold for the positive and negative labels. This time, the threshold is bounded to a range between 0 and 1 because the Logistic regression outputs the probability of a sample belonging to a specific class."
   ]
  },
  {
   "cell_type": "code",
   "execution_count": 26,
   "id": "5b76dd42-f19f-4025-af48-f2ae9476ac9b",
   "metadata": {},
   "outputs": [
    {
     "data": {
      "image/png": "[encoded data removed]",
      "text/plain": [
       "<Figure size 1000x600 with 1 Axes>"
      ]
     },
     "metadata": {},
     "output_type": "display_data"
    }
   ],
   "source": [
    "# Define the thresholds to test\n",
    "thresholds = np.arange(0, 1.01, 0.01)\n",
    "\n",
    "# Initialize empty lists to store accuracy and F1 scores\n",
    "train_accuracies = []\n",
    "validation_accuracies = []\n",
    "\n",
    "# Loop through each threshold\n",
    "for threshold in thresholds:\n",
    "    y_train_pred = np.where(y_train_scores[:, 1] >= threshold, 1, -1)\n",
    "    y_validation_pred = np.where(y_validation_scores[:, 1] >= threshold, 1, -1)\n",
    "\n",
    "    train_accuracy = accuracy_score(y_train, y_train_pred)\n",
    "    validation_accuracy = accuracy_score(y_validation, y_validation_pred)\n",
    "\n",
    "    train_accuracies.append(train_accuracy * 100)\n",
    "    validation_accuracies.append(validation_accuracy * 100)\n",
    "\n",
    "# Create a line plot for training set\n",
    "plt.figure(figsize=(10, 6))\n",
    "plt.plot(thresholds, train_accuracies, label='Trainning set Accuracy')\n",
    "\n",
    "# Create a line plot for validation set\n",
    "plt.plot(thresholds, validation_accuracies, label='Validation set Accuracy')\n",
    "\n",
    "plt.xlabel('Threshold')\n",
    "plt.ylabel('Percentage')\n",
    "plt.title('Performance Metrics vs. Threshold')\n",
    "plt.legend()\n",
    "plt.grid(True)\n",
    "plt.show()"
   ]
  },
  {
   "cell_type": "code",
   "execution_count": 27,
   "id": "83f4ef3a-2167-4f13-b783-5b757ae8be6e",
   "metadata": {},
   "outputs": [
    {
     "name": "stdout",
     "output_type": "stream",
     "text": [
      "The threshold for maximum validation accuracy 81.73% is: 0.53\n"
     ]
    }
   ],
   "source": [
    "# Find the index of the max validation accuracy\n",
    "max_accuracy_index = np.argmax(validation_accuracies)\n",
    "\n",
    "# Get the corresponding threshold\n",
    "optimal_threshold = thresholds[max_accuracy_index]\n",
    "\n",
    "print(\n",
    "    f\"The threshold for maximum validation accuracy {validation_accuracies[max_accuracy_index]:.2f}% is: {optimal_threshold:.2f}\")"
   ]
  },
  {
   "cell_type": "markdown",
   "id": "d5ee2347-c3be-427e-b65b-6d0019e337a0",
   "metadata": {},
   "source": [
    "Since the best threshold that we found is 0.53 (\t$\\approx$ 0.5), this is statistically coherent with the fact that the training data are balanced 50.2% negative and 49.8% positive. Therefore, we can keep the regular decision boundary of the Logistic Regression model which is 0.5."
   ]
  },
  {
   "cell_type": "markdown",
   "id": "91503512-1422-4869-b234-0c945a3f8941",
   "metadata": {},
   "source": [
    "### Grid search for optimal learning rate"
   ]
  },
  {
   "cell_type": "markdown",
   "id": "d67df6f6-23c0-4415-913b-637bb73c41a4",
   "metadata": {},
   "source": [
    "Logistic Regression involves two interconnected learning hyperparameters: `gamma` and `max_iter`. We will conduct a grid search to determine the best values for these parameters."
   ]
  },
  {
   "cell_type": "code",
   "execution_count": 29,
   "id": "7ce24987-3b22-41ee-900a-f5d82808292a",
   "metadata": {},
   "outputs": [
    {
     "name": "stdout",
     "output_type": "stream",
     "text": [
      "Best parameters: {'C': 1, 'max_iter': 500}\n",
      "Best score: 0.8155096953548681\n"
     ]
    }
   ],
   "source": [
    "# Define Logistic Regression classifier\n",
    "clf = LogisticRegression()\n",
    "\n",
    "# Define parameter grid for Logistic Regression\n",
    "param_grid = {\n",
    "    'C': [0.001, 0.01, 0.1, 1],\n",
    "    'max_iter': [500, 1000, 5000]\n",
    "}\n",
    "\n",
    "# Set up GridSearchCV\n",
    "grid_search = GridSearchCV(estimator=clf, param_grid=param_grid, n_jobs=-1, cv=5, scoring='accuracy')\n",
    "\n",
    "# Perform grid search\n",
    "grid_search.fit(X_train_vectorized, y_train)\n",
    "\n",
    "# After fitting, access the best parameters and score\n",
    "print(\"Best parameters:\", grid_search.best_params_)\n",
    "print(\"Best score:\", grid_search.best_score_)"
   ]
  },
  {
   "cell_type": "markdown",
   "id": "e1673719-ce27-465b-bb2b-fec8626f3ba0",
   "metadata": {},
   "source": [
    "### Grid search for optimal regularization"
   ]
  },
  {
   "cell_type": "markdown",
   "id": "f15cfcd0-b8a1-4459-8a0d-b790f1bcfcfa",
   "metadata": {},
   "source": [
    "A grid search was initially planned on three parameters :\n",
    "\n",
    "- `penalty`\n",
    "- `ratio`\n",
    "- `solver`\n",
    "\n",
    "However, it was discovered that the Logisitc Regression model does not support the combination of these parameters. Additionally, addressing solver incompatibilities led to issues with the gradient descent not converging. Given these challenges, the focus has been shifted to solely testing the l2 regularization, utilizing the model's default solver."
   ]
  },
  {
   "cell_type": "code",
   "execution_count": 44,
   "id": "855c5fb8-14d3-4e19-bfb9-c179d1f16aef",
   "metadata": {},
   "outputs": [
    {
     "data": {
      "text/html": [
       "<style>#sk-container-id-2 {color: black;}#sk-container-id-2 pre{padding: 0;}#sk-container-id-2 div.sk-toggleable {background-color: white;}#sk-container-id-2 label.sk-toggleable__label {cursor: pointer;display: block;width: 100%;margin-bottom: 0;padding: 0.3em;box-sizing: border-box;text-align: center;}#sk-container-id-2 label.sk-toggleable__label-arrow:before {content: \"▸\";float: left;margin-right: 0.25em;color: #696969;}#sk-container-id-2 label.sk-toggleable__label-arrow:hover:before {color: black;}#sk-container-id-2 div.sk-estimator:hover label.sk-toggleable__label-arrow:before {color: black;}#sk-container-id-2 div.sk-toggleable__content {max-height: 0;max-width: 0;overflow: hidden;text-align: left;background-color: #f0f8ff;}#sk-container-id-2 div.sk-toggleable__content pre {margin: 0.2em;color: black;border-radius: 0.25em;background-color: #f0f8ff;}#sk-container-id-2 input.sk-toggleable__control:checked~div.sk-toggleable__content {max-height: 200px;max-width: 100%;overflow: auto;}#sk-container-id-2 input.sk-toggleable__control:checked~label.sk-toggleable__label-arrow:before {content: \"▾\";}#sk-container-id-2 div.sk-estimator input.sk-toggleable__control:checked~label.sk-toggleable__label {background-color: #d4ebff;}#sk-container-id-2 div.sk-label input.sk-toggleable__control:checked~label.sk-toggleable__label {background-color: #d4ebff;}#sk-container-id-2 input.sk-hidden--visually {border: 0;clip: rect(1px 1px 1px 1px);clip: rect(1px, 1px, 1px, 1px);height: 1px;margin: -1px;overflow: hidden;padding: 0;position: absolute;width: 1px;}#sk-container-id-2 div.sk-estimator {font-family: monospace;background-color: #f0f8ff;border: 1px dotted black;border-radius: 0.25em;box-sizing: border-box;margin-bottom: 0.5em;}#sk-container-id-2 div.sk-estimator:hover {background-color: #d4ebff;}#sk-container-id-2 div.sk-parallel-item::after {content: \"\";width: 100%;border-bottom: 1px solid gray;flex-grow: 1;}#sk-container-id-2 div.sk-label:hover label.sk-toggleable__label {background-color: #d4ebff;}#sk-container-id-2 div.sk-serial::before {content: \"\";position: absolute;border-left: 1px solid gray;box-sizing: border-box;top: 0;bottom: 0;left: 50%;z-index: 0;}#sk-container-id-2 div.sk-serial {display: flex;flex-direction: column;align-items: center;background-color: white;padding-right: 0.2em;padding-left: 0.2em;position: relative;}#sk-container-id-2 div.sk-item {position: relative;z-index: 1;}#sk-container-id-2 div.sk-parallel {display: flex;align-items: stretch;justify-content: center;background-color: white;position: relative;}#sk-container-id-2 div.sk-item::before, #sk-container-id-2 div.sk-parallel-item::before {content: \"\";position: absolute;border-left: 1px solid gray;box-sizing: border-box;top: 0;bottom: 0;left: 50%;z-index: -1;}#sk-container-id-2 div.sk-parallel-item {display: flex;flex-direction: column;z-index: 1;position: relative;background-color: white;}#sk-container-id-2 div.sk-parallel-item:first-child::after {align-self: flex-end;width: 50%;}#sk-container-id-2 div.sk-parallel-item:last-child::after {align-self: flex-start;width: 50%;}#sk-container-id-2 div.sk-parallel-item:only-child::after {width: 0;}#sk-container-id-2 div.sk-dashed-wrapped {border: 1px dashed gray;margin: 0 0.4em 0.5em 0.4em;box-sizing: border-box;padding-bottom: 0.4em;background-color: white;}#sk-container-id-2 div.sk-label label {font-family: monospace;font-weight: bold;display: inline-block;line-height: 1.2em;}#sk-container-id-2 div.sk-label-container {text-align: center;}#sk-container-id-2 div.sk-container {/* jupyter's `normalize.less` sets `[hidden] { display: none; }` but bootstrap.min.css set `[hidden] { display: none !important; }` so we also need the `!important` here to be able to override the default hidden behavior on the sphinx rendered scikit-learn.org. See: https://github.com/scikit-learn/scikit-learn/issues/21755 */display: inline-block !important;position: relative;}#sk-container-id-2 div.sk-text-repr-fallback {display: none;}</style><div id=\"sk-container-id-2\" class=\"sk-top-container\"><div class=\"sk-text-repr-fallback\"><pre>GridSearchCV(cv=5, estimator=LogisticRegression(C=1, max_iter=500), n_jobs=-1,\n",
       "             param_grid={&#x27;penalty&#x27;: [&#x27;l2&#x27;]}, scoring=&#x27;accuracy&#x27;)</pre><b>In a Jupyter environment, please rerun this cell to show the HTML representation or trust the notebook. <br />On GitHub, the HTML representation is unable to render, please try loading this page with nbviewer.org.</b></div><div class=\"sk-container\" hidden><div class=\"sk-item sk-dashed-wrapped\"><div class=\"sk-label-container\"><div class=\"sk-label sk-toggleable\"><input class=\"sk-toggleable__control sk-hidden--visually\" id=\"sk-estimator-id-4\" type=\"checkbox\" ><label for=\"sk-estimator-id-4\" class=\"sk-toggleable__label sk-toggleable__label-arrow\">GridSearchCV</label><div class=\"sk-toggleable__content\"><pre>GridSearchCV(cv=5, estimator=LogisticRegression(C=1, max_iter=500), n_jobs=-1,\n",
       "             param_grid={&#x27;penalty&#x27;: [&#x27;l2&#x27;]}, scoring=&#x27;accuracy&#x27;)</pre></div></div></div><div class=\"sk-parallel\"><div class=\"sk-parallel-item\"><div class=\"sk-item\"><div class=\"sk-label-container\"><div class=\"sk-label sk-toggleable\"><input class=\"sk-toggleable__control sk-hidden--visually\" id=\"sk-estimator-id-5\" type=\"checkbox\" ><label for=\"sk-estimator-id-5\" class=\"sk-toggleable__label sk-toggleable__label-arrow\">estimator: LogisticRegression</label><div class=\"sk-toggleable__content\"><pre>LogisticRegression(C=1, max_iter=500)</pre></div></div></div><div class=\"sk-serial\"><div class=\"sk-item\"><div class=\"sk-estimator sk-toggleable\"><input class=\"sk-toggleable__control sk-hidden--visually\" id=\"sk-estimator-id-6\" type=\"checkbox\" ><label for=\"sk-estimator-id-6\" class=\"sk-toggleable__label sk-toggleable__label-arrow\">LogisticRegression</label><div class=\"sk-toggleable__content\"><pre>LogisticRegression(C=1, max_iter=500)</pre></div></div></div></div></div></div></div></div></div></div>"
      ],
      "text/plain": [
       "GridSearchCV(cv=5, estimator=LogisticRegression(C=1, max_iter=500), n_jobs=-1,\n",
       "             param_grid={'penalty': ['l2']}, scoring='accuracy')"
      ]
     },
     "execution_count": 44,
     "metadata": {},
     "output_type": "execute_result"
    }
   ],
   "source": [
    "# Define Logistic Regression classifier with optimal hyperparameters\n",
    "clf = LogisticRegression(C=1, max_iter=500)\n",
    "\n",
    "param_grid = {\n",
    "    'penalty': ['l2']\n",
    "}\n",
    "\n",
    "# param_grid = [\n",
    "#     {'penalty': ['l2'], 'solver': ['lbfgs', 'liblinear', 'saga']},\n",
    "#     {'penalty': ['l1'], 'solver': ['liblinear', 'saga']},\n",
    "#     {'penalty': ['elasticnet'], 'solver': ['saga'], 'l1_ratio': [0.001, 0.01, 0.1]}\n",
    "# ]\n",
    "\n",
    "# Set up GridSearchCV\n",
    "grid_search = GridSearchCV(estimator=clf, param_grid=param_grid, n_jobs=-1, cv=5, scoring='accuracy')\n",
    "\n",
    "# Perform grid search\n",
    "grid_search.fit(X_train_vectorized, y_train)"
   ]
  },
  {
   "cell_type": "code",
   "execution_count": 45,
   "id": "99a168fa-31aa-4e49-a61c-6fa3a5e490a3",
   "metadata": {},
   "outputs": [
    {
     "name": "stdout",
     "output_type": "stream",
     "text": [
      "Best parameters: {'penalty': 'l2'}\n",
      "Best accuracy: 81.55%\n"
     ]
    }
   ],
   "source": [
    "# Get the best parameters\n",
    "best_parameters = grid_search.best_params_\n",
    "best_score = grid_search.best_score_\n",
    "\n",
    "print(\"Best parameters:\", best_parameters)\n",
    "print(f\"Best accuracy: {best_score * 100:.2f}%\")\n",
    "\n",
    "# Predictions with the best model\n",
    "y_pred = grid_search.predict(X_validation_vectorized)"
   ]
  },
  {
   "cell_type": "markdown",
   "id": "3edb32eb-61bc-40d1-a849-fe5d0cdfe98f",
   "metadata": {},
   "source": [
    "We observe that the regularization doesn't affect the accuracy. From this, we can assume that our model is not overfitting the data."
   ]
  },
  {
   "cell_type": "markdown",
   "id": "679bc8ee-ecfc-4868-b18c-6f6eb9b2ff17",
   "metadata": {
    "tags": []
   },
   "source": [
    "# 5. Submission using the Full Dataset"
   ]
  },
  {
   "cell_type": "markdown",
   "id": "f991f95b-48f9-4b75-8012-035ed473bc44",
   "metadata": {},
   "source": [
    "Now, let's proceed to test our optimal vectorizer and model on the full dataset (2.5M entries), and then make a submission on AIcrowd."
   ]
  },
  {
   "cell_type": "markdown",
   "id": "c24717ae-1a3a-4165-af44-fcf55cca6cd8",
   "metadata": {},
   "source": [
    "First, we load the full training dataset and the test data."
   ]
  },
  {
   "cell_type": "code",
   "execution_count": 46,
   "id": "11253963-a178-45e6-8021-20329947620f",
   "metadata": {},
   "outputs": [],
   "source": [
    "# Load the full data\n",
    "full_data_train = load_preprocessed_full_data()\n",
    "full_data_test = load_preprocessed_test_data()"
   ]
  },
  {
   "cell_type": "code",
   "execution_count": 47,
   "id": "213084a1-5ea9-4039-97cb-f9e87e259dbf",
   "metadata": {},
   "outputs": [],
   "source": [
    "# Prepare the data feature and target\n",
    "X_train_full = full_data_train[\"text\"]\n",
    "y_train_full = full_data_train[\"label\"]\n",
    "X_test = full_data_test[\"text\"]"
   ]
  },
  {
   "cell_type": "markdown",
   "id": "c3c2b1db-e469-4dcb-b17e-e7739153ffdf",
   "metadata": {},
   "source": [
    "Then we setup the optimal vectorizer with the optimal model."
   ]
  },
  {
   "cell_type": "code",
   "execution_count": 48,
   "id": "0a7d8ace-e29b-455a-8a7d-2471eab5800e",
   "metadata": {},
   "outputs": [],
   "source": [
    "# Use the optimal vectorizer: CountVectorizer with ngram_range=(1, 3)\n",
    "full_vectorizer = CountVectorizer(ngram_range=(1, 3))\n",
    "X_train_full_vectorized = full_vectorizer.fit_transform(X_train_full)\n",
    "X_test_vectorized = full_vectorizer.transform(X_test)"
   ]
  },
  {
   "cell_type": "code",
   "execution_count": 49,
   "id": "9249f46d-e85f-4f20-b418-ba55f44b9403",
   "metadata": {},
   "outputs": [
    {
     "data": {
      "text/html": [
       "<style>#sk-container-id-3 {color: black;}#sk-container-id-3 pre{padding: 0;}#sk-container-id-3 div.sk-toggleable {background-color: white;}#sk-container-id-3 label.sk-toggleable__label {cursor: pointer;display: block;width: 100%;margin-bottom: 0;padding: 0.3em;box-sizing: border-box;text-align: center;}#sk-container-id-3 label.sk-toggleable__label-arrow:before {content: \"▸\";float: left;margin-right: 0.25em;color: #696969;}#sk-container-id-3 label.sk-toggleable__label-arrow:hover:before {color: black;}#sk-container-id-3 div.sk-estimator:hover label.sk-toggleable__label-arrow:before {color: black;}#sk-container-id-3 div.sk-toggleable__content {max-height: 0;max-width: 0;overflow: hidden;text-align: left;background-color: #f0f8ff;}#sk-container-id-3 div.sk-toggleable__content pre {margin: 0.2em;color: black;border-radius: 0.25em;background-color: #f0f8ff;}#sk-container-id-3 input.sk-toggleable__control:checked~div.sk-toggleable__content {max-height: 200px;max-width: 100%;overflow: auto;}#sk-container-id-3 input.sk-toggleable__control:checked~label.sk-toggleable__label-arrow:before {content: \"▾\";}#sk-container-id-3 div.sk-estimator input.sk-toggleable__control:checked~label.sk-toggleable__label {background-color: #d4ebff;}#sk-container-id-3 div.sk-label input.sk-toggleable__control:checked~label.sk-toggleable__label {background-color: #d4ebff;}#sk-container-id-3 input.sk-hidden--visually {border: 0;clip: rect(1px 1px 1px 1px);clip: rect(1px, 1px, 1px, 1px);height: 1px;margin: -1px;overflow: hidden;padding: 0;position: absolute;width: 1px;}#sk-container-id-3 div.sk-estimator {font-family: monospace;background-color: #f0f8ff;border: 1px dotted black;border-radius: 0.25em;box-sizing: border-box;margin-bottom: 0.5em;}#sk-container-id-3 div.sk-estimator:hover {background-color: #d4ebff;}#sk-container-id-3 div.sk-parallel-item::after {content: \"\";width: 100%;border-bottom: 1px solid gray;flex-grow: 1;}#sk-container-id-3 div.sk-label:hover label.sk-toggleable__label {background-color: #d4ebff;}#sk-container-id-3 div.sk-serial::before {content: \"\";position: absolute;border-left: 1px solid gray;box-sizing: border-box;top: 0;bottom: 0;left: 50%;z-index: 0;}#sk-container-id-3 div.sk-serial {display: flex;flex-direction: column;align-items: center;background-color: white;padding-right: 0.2em;padding-left: 0.2em;position: relative;}#sk-container-id-3 div.sk-item {position: relative;z-index: 1;}#sk-container-id-3 div.sk-parallel {display: flex;align-items: stretch;justify-content: center;background-color: white;position: relative;}#sk-container-id-3 div.sk-item::before, #sk-container-id-3 div.sk-parallel-item::before {content: \"\";position: absolute;border-left: 1px solid gray;box-sizing: border-box;top: 0;bottom: 0;left: 50%;z-index: -1;}#sk-container-id-3 div.sk-parallel-item {display: flex;flex-direction: column;z-index: 1;position: relative;background-color: white;}#sk-container-id-3 div.sk-parallel-item:first-child::after {align-self: flex-end;width: 50%;}#sk-container-id-3 div.sk-parallel-item:last-child::after {align-self: flex-start;width: 50%;}#sk-container-id-3 div.sk-parallel-item:only-child::after {width: 0;}#sk-container-id-3 div.sk-dashed-wrapped {border: 1px dashed gray;margin: 0 0.4em 0.5em 0.4em;box-sizing: border-box;padding-bottom: 0.4em;background-color: white;}#sk-container-id-3 div.sk-label label {font-family: monospace;font-weight: bold;display: inline-block;line-height: 1.2em;}#sk-container-id-3 div.sk-label-container {text-align: center;}#sk-container-id-3 div.sk-container {/* jupyter's `normalize.less` sets `[hidden] { display: none; }` but bootstrap.min.css set `[hidden] { display: none !important; }` so we also need the `!important` here to be able to override the default hidden behavior on the sphinx rendered scikit-learn.org. See: https://github.com/scikit-learn/scikit-learn/issues/21755 */display: inline-block !important;position: relative;}#sk-container-id-3 div.sk-text-repr-fallback {display: none;}</style><div id=\"sk-container-id-3\" class=\"sk-top-container\"><div class=\"sk-text-repr-fallback\"><pre>LogisticRegression(C=1, max_iter=500)</pre><b>In a Jupyter environment, please rerun this cell to show the HTML representation or trust the notebook. <br />On GitHub, the HTML representation is unable to render, please try loading this page with nbviewer.org.</b></div><div class=\"sk-container\" hidden><div class=\"sk-item\"><div class=\"sk-estimator sk-toggleable\"><input class=\"sk-toggleable__control sk-hidden--visually\" id=\"sk-estimator-id-7\" type=\"checkbox\" checked><label for=\"sk-estimator-id-7\" class=\"sk-toggleable__label sk-toggleable__label-arrow\">LogisticRegression</label><div class=\"sk-toggleable__content\"><pre>LogisticRegression(C=1, max_iter=500)</pre></div></div></div></div></div>"
      ],
      "text/plain": [
       "LogisticRegression(C=1, max_iter=500)"
      ]
     },
     "execution_count": 49,
     "metadata": {},
     "output_type": "execute_result"
    }
   ],
   "source": [
    "# Use the Logistic Regression classifier with optimal hyperparameters and without any regularization\n",
    "clf_submission = LogisticRegression(C=1, max_iter=500)\n",
    "clf.fit(X_train_full_vectorized, y_train_full)"
   ]
  },
  {
   "cell_type": "markdown",
   "id": "ff634d3f-2783-437b-ac17-9c1992bff2b4",
   "metadata": {},
   "source": [
    "Finally, we can make the prediciton and make a submission."
   ]
  },
  {
   "cell_type": "code",
   "execution_count": 50,
   "id": "baea216d-c26b-436c-a527-5f226d181fb4",
   "metadata": {},
   "outputs": [],
   "source": [
    "# Make the prediction\n",
    "y_test_pred = clf.predict(X_test_vectorized)"
   ]
  },
  {
   "cell_type": "code",
   "execution_count": 51,
   "id": "706f85ff-ced9-4860-b1f6-46e1a7982870",
   "metadata": {},
   "outputs": [],
   "source": [
    "# Export the prediction\n",
    "export_submission(y_test_pred, f\"{DataPath.ML_SUBMISSION}/test_predictions_logistic_regression.csv\")"
   ]
  },
  {
   "cell_type": "markdown",
   "id": "1f7d5356-c7fd-4d3b-97d1-7b43013da1bf",
   "metadata": {},
   "source": [
    "This submission to AIcrowd achieved the following accuracy scores:\n",
    "    \n",
    "- First Score =`0.856`\n",
    "- Secondary Score = `0.859`\n",
    "\n",
    "You can access the results here:\n",
    "\n",
    "- csv output file : [test_predictions_logistic_regression.csv](/submissions/ml/test_predictions_logistic_regression.csv)\n",
    "- AIcrowd submission id : **[#247219](https://www.aicrowd.com/challenges/epfl-ml-text-classification/submissions/247219)**\n",
    "\n",
    "Although Logistic Regression requires more time compared to SGD, it has achieved an accuracy that is 2% higher. Let's explore a new approach : [Gated Recurrent Unit (GRU)](./model_GRU.ipynb) neural network."
   ]
  },
  {
   "cell_type": "code",
   "execution_count": null,
   "outputs": [],
   "source": [],
   "metadata": {
    "collapsed": false
   },
   "id": "ed7898be0182edc1"
  }
 ],
 "metadata": {
  "kernelspec": {
   "display_name": "Python [conda env:ada]",
   "language": "python",
   "name": "conda-env-ada-py"
  },
  "language_info": {
   "codemirror_mode": {
    "name": "ipython",
    "version": 3
   },
   "file_extension": ".py",
   "mimetype": "text/x-python",
   "name": "python",
   "nbconvert_exporter": "python",
   "pygments_lexer": "ipython3",
   "version": "3.9.18"
  }
 },
 "nbformat": 4,
 "nbformat_minor": 5
}

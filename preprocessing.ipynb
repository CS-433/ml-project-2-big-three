{
 "cells": [
  {
   "cell_type": "code",
   "execution_count": 1,
   "metadata": {},
   "outputs": [],
   "source": [
    "from sklearn.feature_extraction.text import TfidfVectorizer\n",
    "from sklearn.linear_model import LogisticRegression\n",
    "from sklearn.model_selection import train_test_split\n",
    "from sklearn.metrics import accuracy_score\n",
    "import pandas as pd\n",
    "import re\n",
    "from os import listdir\n",
    "from os.path import isfile, join\n",
    "from random import shuffle\n",
    "from collections import Counter\n",
    "import string\n",
    "import matplotlib.pyplot as plt\n",
    "import seaborn as sns\n",
    "import numpy as np\n",
    "import pkg_resources\n",
    "import time\n",
    "import nltk\n",
    "\n",
    "from nltk.corpus import stopwords\n",
    "from nltk.corpus import wordnet\n",
    "from nltk.stem import WordNetLemmatizer\n",
    "from symspellpy import SymSpell "
   ]
  },
  {
   "cell_type": "code",
   "execution_count": 2,
   "metadata": {},
   "outputs": [],
   "source": [
    "import warnings\n",
    "warnings.filterwarnings('ignore')"
   ]
  },
  {
   "cell_type": "code",
   "execution_count": 3,
   "metadata": {},
   "outputs": [
    {
     "name": "stderr",
     "output_type": "stream",
     "text": [
      "[nltk_data] Downloading package averaged_perceptron_tagger to\n",
      "[nltk_data]     C:\\Users\\rayji\\AppData\\Roaming\\nltk_data...\n",
      "[nltk_data]   Package averaged_perceptron_tagger is already up-to-\n",
      "[nltk_data]       date!\n",
      "[nltk_data] Downloading package stopwords to\n",
      "[nltk_data]     C:\\Users\\rayji\\AppData\\Roaming\\nltk_data...\n",
      "[nltk_data]   Package stopwords is already up-to-date!\n",
      "[nltk_data] Downloading package wordnet to\n",
      "[nltk_data]     C:\\Users\\rayji\\AppData\\Roaming\\nltk_data...\n",
      "[nltk_data]   Package wordnet is already up-to-date!\n",
      "[nltk_data] Downloading package omw-1.4 to\n",
      "[nltk_data]     C:\\Users\\rayji\\AppData\\Roaming\\nltk_data...\n",
      "[nltk_data]   Package omw-1.4 is already up-to-date!\n",
      "[nltk_data] Downloading package averaged_perceptron_tagger to\n",
      "[nltk_data]     C:\\Users\\rayji\\AppData\\Roaming\\nltk_data...\n",
      "[nltk_data]   Package averaged_perceptron_tagger is already up-to-\n",
      "[nltk_data]       date!\n",
      "[nltk_data] Downloading package stopwords to\n",
      "[nltk_data]     C:\\Users\\rayji\\AppData\\Roaming\\nltk_data...\n",
      "[nltk_data]   Package stopwords is already up-to-date!\n",
      "[nltk_data] Downloading package wordnet to\n",
      "[nltk_data]     C:\\Users\\rayji\\AppData\\Roaming\\nltk_data...\n",
      "[nltk_data]   Package wordnet is already up-to-date!\n",
      "[nltk_data] Downloading package omw-1.4 to\n",
      "[nltk_data]     C:\\Users\\rayji\\AppData\\Roaming\\nltk_data...\n",
      "[nltk_data]   Package omw-1.4 is already up-to-date!\n"
     ]
    },
    {
     "data": {
      "text/plain": [
       "<module 'preprocessing' from 'c:\\\\Users\\\\rayji\\\\OneDrive\\\\Documents\\\\GitHub\\\\ml-project-2-big-three\\\\preprocessing.py'>"
      ]
     },
     "execution_count": 3,
     "metadata": {},
     "output_type": "execute_result"
    }
   ],
   "source": [
    "import importlib\n",
    "import utils \n",
    "from utils import *\n",
    "import preprocessing\n",
    "from preprocessing import *\n",
    "\n",
    "importlib.reload(utils)\n",
    "importlib.reload(preprocessing)"
   ]
  },
  {
   "cell_type": "code",
   "execution_count": 4,
   "metadata": {},
   "outputs": [
    {
     "name": "stderr",
     "output_type": "stream",
     "text": [
      "[nltk_data] Downloading package averaged_perceptron_tagger to\n",
      "[nltk_data]     C:\\Users\\rayji\\AppData\\Roaming\\nltk_data...\n",
      "[nltk_data]   Package averaged_perceptron_tagger is already up-to-\n",
      "[nltk_data]       date!\n",
      "[nltk_data] Downloading package stopwords to\n",
      "[nltk_data]     C:\\Users\\rayji\\AppData\\Roaming\\nltk_data...\n",
      "[nltk_data]   Package stopwords is already up-to-date!\n",
      "[nltk_data] Downloading package wordnet to\n",
      "[nltk_data]     C:\\Users\\rayji\\AppData\\Roaming\\nltk_data...\n",
      "[nltk_data]   Package wordnet is already up-to-date!\n"
     ]
    },
    {
     "data": {
      "text/plain": [
       "True"
      ]
     },
     "execution_count": 4,
     "metadata": {},
     "output_type": "execute_result"
    }
   ],
   "source": [
    "# nltk weights\n",
    "nltk.download(\"averaged_perceptron_tagger\")\n",
    "nltk.download(\"stopwords\")\n",
    "nltk.download(\"wordnet\")"
   ]
  },
  {
   "cell_type": "markdown",
   "metadata": {},
   "source": [
    "# Path"
   ]
  },
  {
   "cell_type": "code",
   "execution_count": 5,
   "metadata": {},
   "outputs": [],
   "source": [
    "# Global path\n",
    "GLOBAL_PATH = \"C:/Users/rayji/OneDrive/Documents/Projet 2 ML\"\n",
    "\n",
    "# GloVe\n",
    "GLOVE_PATH = f\"{GLOBAL_PATH}/data/glove.twitter.27B.100d.txt\"\n",
    "\n",
    "# Train full\n",
    "TRAIN_NEG_FULL_PATH = f\"{GLOBAL_PATH}/data/train_neg_full.txt\"\n",
    "TRAIN_POS_FULL_PATH = f\"{GLOBAL_PATH}/data/train_pos_full.txt\"\n",
    "\n",
    "# Train\n",
    "TRAIN_NEG_PATH = f\"{GLOBAL_PATH}/data/train_neg.txt\"\n",
    "TRAIN_POS_PATH = f\"{GLOBAL_PATH}/data/train_pos.txt\"\n",
    "\n",
    "# Test\n",
    "TEST_PATH = f\"{GLOBAL_PATH}/data/test_data.txt\"\n",
    "\n",
    "# Preprocessed data\n",
    "TRAIN_PREP_PATH = f\"{GLOBAL_PATH}/data/preprocessed/train_gru.csv\"\n",
    "TEST_PREP_PATH = f\"{GLOBAL_PATH}/data/preprocessed/test_gru.csv\"\n",
    "\n",
    "# Weight\n",
    "WEIGHT_PATH = f\"{GLOBAL_PATH}/weight\""
   ]
  },
  {
   "cell_type": "markdown",
   "metadata": {},
   "source": [
    "\\<user\\>\n",
    "\\<url\\>\n",
    "\n",
    "Positive Smileys : <3 :p :') :d [: >:d < ^ - ^\n",
    "Negative smileys : xd\n",
    "\n",
    "\"(\" or \")\" maybe come from \":((\" or \":))\" that became  \"(\" or \")\" after removing \":(\" or \":)\"\n",
    "Still need to check if \"(\" is followed by a \")\" or not\n",
    "\n",
    "Abbreviations : fr = for real\n",
    "\n",
    "Maybe can try to use a tokenizer specific to Twitter\n",
    "\n",
    "\n",
    "Some tweets are duplicated, x2, x3, x5 ...\n",
    "\n"
   ]
  },
  {
   "cell_type": "code",
   "execution_count": 6,
   "metadata": {},
   "outputs": [
    {
     "name": "stdout",
     "output_type": "stream",
     "text": [
      "Requirement already satisfied: symspellpy in c:\\users\\rayji\\anaconda3\\envs\\transformers\\lib\\site-packages (6.7.7)\n",
      "Requirement already satisfied: editdistpy>=0.1.3 in c:\\users\\rayji\\anaconda3\\envs\\transformers\\lib\\site-packages (from symspellpy) (0.1.3)\n"
     ]
    }
   ],
   "source": [
    "!pip install symspellpy"
   ]
  },
  {
   "cell_type": "markdown",
   "metadata": {},
   "source": [
    "# Loading DataSet"
   ]
  },
  {
   "cell_type": "code",
   "execution_count": 7,
   "metadata": {},
   "outputs": [],
   "source": [
    "data_train = load_data()"
   ]
  },
  {
   "cell_type": "code",
   "execution_count": 8,
   "metadata": {},
   "outputs": [
    {
     "data": {
      "text/html": [
       "<div>\n",
       "<style scoped>\n",
       "    .dataframe tbody tr th:only-of-type {\n",
       "        vertical-align: middle;\n",
       "    }\n",
       "\n",
       "    .dataframe tbody tr th {\n",
       "        vertical-align: top;\n",
       "    }\n",
       "\n",
       "    .dataframe thead th {\n",
       "        text-align: right;\n",
       "    }\n",
       "</style>\n",
       "<table border=\"1\" class=\"dataframe\">\n",
       "  <thead>\n",
       "    <tr style=\"text-align: right;\">\n",
       "      <th></th>\n",
       "      <th>text</th>\n",
       "      <th>label</th>\n",
       "    </tr>\n",
       "  </thead>\n",
       "  <tbody>\n",
       "    <tr>\n",
       "      <th>0</th>\n",
       "      <td>&lt;user&gt; i dunno justin read my mention or not ....</td>\n",
       "      <td>1</td>\n",
       "    </tr>\n",
       "    <tr>\n",
       "      <th>1</th>\n",
       "      <td>because your logic is so dumb , i won't even c...</td>\n",
       "      <td>1</td>\n",
       "    </tr>\n",
       "    <tr>\n",
       "      <th>2</th>\n",
       "      <td>\" &lt;user&gt; just put casper in a box ! \" looved t...</td>\n",
       "      <td>1</td>\n",
       "    </tr>\n",
       "    <tr>\n",
       "      <th>3</th>\n",
       "      <td>&lt;user&gt; &lt;user&gt; thanks sir &gt; &gt; don't trip lil ma...</td>\n",
       "      <td>1</td>\n",
       "    </tr>\n",
       "    <tr>\n",
       "      <th>4</th>\n",
       "      <td>visiting my brother tmr is the bestest birthda...</td>\n",
       "      <td>1</td>\n",
       "    </tr>\n",
       "    <tr>\n",
       "      <th>...</th>\n",
       "      <td>...</td>\n",
       "      <td>...</td>\n",
       "    </tr>\n",
       "    <tr>\n",
       "      <th>199995</th>\n",
       "      <td>can't wait to fake tan tonight ! hate being pale</td>\n",
       "      <td>0</td>\n",
       "    </tr>\n",
       "    <tr>\n",
       "      <th>199996</th>\n",
       "      <td>&lt;user&gt; darling i lost my internet connection ....</td>\n",
       "      <td>0</td>\n",
       "    </tr>\n",
       "    <tr>\n",
       "      <th>199997</th>\n",
       "      <td>kanguru defender basic 4 gb usb 2.0 flash driv...</td>\n",
       "      <td>0</td>\n",
       "    </tr>\n",
       "    <tr>\n",
       "      <th>199998</th>\n",
       "      <td>rizan is sad now</td>\n",
       "      <td>0</td>\n",
       "    </tr>\n",
       "    <tr>\n",
       "      <th>199999</th>\n",
       "      <td>no text back ? yea , he mad</td>\n",
       "      <td>0</td>\n",
       "    </tr>\n",
       "  </tbody>\n",
       "</table>\n",
       "<p>200000 rows × 2 columns</p>\n",
       "</div>"
      ],
      "text/plain": [
       "                                                     text  label\n",
       "0       <user> i dunno justin read my mention or not ....      1\n",
       "1       because your logic is so dumb , i won't even c...      1\n",
       "2       \" <user> just put casper in a box ! \" looved t...      1\n",
       "3       <user> <user> thanks sir > > don't trip lil ma...      1\n",
       "4       visiting my brother tmr is the bestest birthda...      1\n",
       "...                                                   ...    ...\n",
       "199995   can't wait to fake tan tonight ! hate being pale      0\n",
       "199996  <user> darling i lost my internet connection ....      0\n",
       "199997  kanguru defender basic 4 gb usb 2.0 flash driv...      0\n",
       "199998                                   rizan is sad now      0\n",
       "199999                        no text back ? yea , he mad      0\n",
       "\n",
       "[200000 rows x 2 columns]"
      ]
     },
     "execution_count": 8,
     "metadata": {},
     "output_type": "execute_result"
    }
   ],
   "source": [
    "data_train"
   ]
  },
  {
   "cell_type": "code",
   "execution_count": 9,
   "metadata": {},
   "outputs": [],
   "source": [
    "def run_preprocessing(method_list, full_data=True):\n",
    "    \"\"\"\n",
    "    Runs the preprocessing methods according to the chosen classifier\n",
    "      on the train and test data\n",
    "\n",
    "    :param csr: chosen classifier (child of AbstractModel)\n",
    "    :type csr: AbstractModel\n",
    "    :param train_preprocessed_path: path to load train data\n",
    "    :type train_preprocessed_path: str\n",
    "    :param test_preprocessed_path: path to load test data\n",
    "    :type test_preprocessed_path: str\n",
    "    :param full_data: if False, the small dataset (200K rows) is used\n",
    "    :type full_data: bool, optional\n",
    "    \"\"\"\n",
    "\n",
    "    # Read data\n",
    "    if full_data:\n",
    "        dataset_files = [TRAIN_NEG_FULL_PATH, TRAIN_POS_FULL_PATH]\n",
    "    else:\n",
    "        dataset_files = [TRAIN_NEG_PATH, TRAIN_POS_PATH]\n",
    "\n",
    "    train_preprocessing = Preprocessing(dataset_files, is_test=False)\n",
    "    test_preprocessing = Preprocessing([TEST_PATH], is_test=True)\n",
    "\n",
    "    # Preprocess it\n",
    "\n",
    "    methods = method_list\n",
    "    \n",
    "    for method in methods:\n",
    "        getattr(test_preprocessing, method)()\n",
    "\n",
    "    methods.append('drop_duplicates')\n",
    "\n",
    "\n",
    "    for method in methods:\n",
    "        getattr(train_preprocessing, method)()\n",
    "\n",
    "    train_df = train_preprocessing.__get__()\n",
    "    #train_df.to_csv(train_preprocessed_path, index=False)\n",
    "\n",
    "    test_df = test_preprocessing.__get__()\n",
    "    #test_df.to_csv(test_preprocessed_path, index=False)\n",
    "\n",
    "    return train_df, test_df"
   ]
  },
  {
   "cell_type": "markdown",
   "metadata": {},
   "source": [
    "# Model initialisation"
   ]
  },
  {
   "cell_type": "markdown",
   "metadata": {},
   "source": [
    "Initializing a model to test the accuracy of the different preprocessing steps"
   ]
  },
  {
   "cell_type": "code",
   "execution_count": 10,
   "metadata": {},
   "outputs": [],
   "source": [
    "def test_dataset(dataset):    \n",
    "# Split the data into training and testing sets\n",
    "    X_train, X_test, y_train, y_test = train_test_split(dataset['text'], dataset['label'], test_size=0.2, random_state=42)\n",
    "\n",
    "    # Create a TF-IDF vectorizer\n",
    "    vectorizer = TfidfVectorizer()\n",
    "\n",
    "    # Transform the text data into TF-IDF features\n",
    "    X_train_tfidf = vectorizer.fit_transform(X_train)\n",
    "    X_test_tfidf = vectorizer.transform(X_test)\n",
    "\n",
    "    # Train a logistic regression model\n",
    "    model = LogisticRegression(max_iter=100000)\n",
    "    model.fit(X_train_tfidf, y_train)\n",
    "\n",
    "    # Predict labels for the test set\n",
    "    y_pred = model.predict(X_test_tfidf)\n",
    "\n",
    "    # Calculate accuracy\n",
    "    accuracy = accuracy_score(y_test, y_pred)\n",
    "    print(\"Accuracy:\", accuracy)\n",
    "\n",
    "    return accuracy"
   ]
  },
  {
   "cell_type": "code",
   "execution_count": 11,
   "metadata": {},
   "outputs": [
    {
     "name": "stdout",
     "output_type": "stream",
     "text": [
      "Executing: `drop_duplicates`\n",
      "Accuracy: 0.796315702388175\n",
      "Computation Time: 6.653909683227539\n"
     ]
    }
   ],
   "source": [
    "methods = []\n",
    "\n",
    "dataset_train, dataset_test = run_preprocessing(methods, full_data=False)\n",
    "\n",
    "start_time = time.time()\n",
    "test_dataset(dataset_train)\n",
    "end_time = time.time()\n",
    "\n",
    "computation_time = end_time - start_time\n",
    "print(\"Computation Time:\", computation_time)"
   ]
  },
  {
   "cell_type": "markdown",
   "metadata": {},
   "source": [
    "# Characters"
   ]
  },
  {
   "cell_type": "code",
   "execution_count": 12,
   "metadata": {},
   "outputs": [],
   "source": [
    "# Create a Counter object for positive labels\n",
    "positive_counter = Counter(''.join(data_train[data_train['label'] == 1]['text']))\n",
    "\n",
    "# Create a Counter object for negative labels\n",
    "negative_counter = Counter(''.join(data_train[data_train['label'] == 0]['text']))\n",
    "\n",
    "# Create a DataFrame from the positive Counter\n",
    "positive_df = pd.DataFrame.from_dict(positive_counter, orient='index').reset_index()\n",
    "positive_df.columns = ['Character', 'Count']\n",
    "positive_df.sort_values('Character', ascending=False, inplace=True)\n",
    "\n",
    "# Create a DataFrame from the negative Counter\n",
    "negative_df = pd.DataFrame.from_dict(negative_counter, orient='index').reset_index()\n",
    "negative_df.columns = ['Character', 'Count']\n",
    "negative_df.sort_values('Character', ascending=False, inplace=True)\n",
    "\n",
    "# Remove spaces and letters\n",
    "positive_df = positive_df[~positive_df['Character'].isin(list(' '))]\n",
    "negative_df = negative_df[~negative_df['Character'].isin(list(' '))]\n"
   ]
  },
  {
   "cell_type": "code",
   "execution_count": 13,
   "metadata": {},
   "outputs": [],
   "source": [
    "# Merge the two dataframes on the 'Character' column\n",
    "merged_df = pd.merge(positive_df, negative_df, on='Character', how='outer', suffixes=('_positive', '_negative'))\n",
    "\n",
    "# Replace NaN with 0\n",
    "merged_df.fillna(0, inplace=True)\n",
    "\n",
    "# Split the merged dataframe back into positive_df and negative_df\n",
    "positive_df = merged_df[['Character', 'Count_positive']].rename(columns={'Count_positive': 'Count'})\n",
    "negative_df = merged_df[['Character', 'Count_negative']].rename(columns={'Count_negative': 'Count'})\n",
    "\n",
    "# Sort the dataframes\n",
    "positive_df.sort_values('Character', ascending=False, inplace=True)\n",
    "negative_df.sort_values('Character', ascending=False, inplace=True)"
   ]
  },
  {
   "cell_type": "code",
   "execution_count": 14,
   "metadata": {},
   "outputs": [
    {
     "data": {
      "text/html": [
       "<div>\n",
       "<style scoped>\n",
       "    .dataframe tbody tr th:only-of-type {\n",
       "        vertical-align: middle;\n",
       "    }\n",
       "\n",
       "    .dataframe tbody tr th {\n",
       "        vertical-align: top;\n",
       "    }\n",
       "\n",
       "    .dataframe thead th {\n",
       "        text-align: right;\n",
       "    }\n",
       "</style>\n",
       "<table border=\"1\" class=\"dataframe\">\n",
       "  <thead>\n",
       "    <tr style=\"text-align: right;\">\n",
       "      <th></th>\n",
       "      <th>Character</th>\n",
       "      <th>Count_positive</th>\n",
       "      <th>Count_negative</th>\n",
       "    </tr>\n",
       "  </thead>\n",
       "  <tbody>\n",
       "    <tr>\n",
       "      <th>0</th>\n",
       "      <td>~</td>\n",
       "      <td>454.0</td>\n",
       "      <td>401</td>\n",
       "    </tr>\n",
       "    <tr>\n",
       "      <th>1</th>\n",
       "      <td>}</td>\n",
       "      <td>46.0</td>\n",
       "      <td>46</td>\n",
       "    </tr>\n",
       "    <tr>\n",
       "      <th>2</th>\n",
       "      <td>|</td>\n",
       "      <td>168.0</td>\n",
       "      <td>1065</td>\n",
       "    </tr>\n",
       "    <tr>\n",
       "      <th>3</th>\n",
       "      <td>{</td>\n",
       "      <td>41.0</td>\n",
       "      <td>42</td>\n",
       "    </tr>\n",
       "    <tr>\n",
       "      <th>4</th>\n",
       "      <td>z</td>\n",
       "      <td>6118.0</td>\n",
       "      <td>9165</td>\n",
       "    </tr>\n",
       "    <tr>\n",
       "      <th>...</th>\n",
       "      <td>...</td>\n",
       "      <td>...</td>\n",
       "      <td>...</td>\n",
       "    </tr>\n",
       "    <tr>\n",
       "      <th>67</th>\n",
       "      <td>!</td>\n",
       "      <td>52891.0</td>\n",
       "      <td>30183</td>\n",
       "    </tr>\n",
       "    <tr>\n",
       "      <th>68</th>\n",
       "      <td>“</td>\n",
       "      <td>0.0</td>\n",
       "      <td>3</td>\n",
       "    </tr>\n",
       "    <tr>\n",
       "      <th>69</th>\n",
       "      <td>×</td>\n",
       "      <td>0.0</td>\n",
       "      <td>2</td>\n",
       "    </tr>\n",
       "    <tr>\n",
       "      <th>70</th>\n",
       "      <td>\u0013</td>\n",
       "      <td>0.0</td>\n",
       "      <td>1</td>\n",
       "    </tr>\n",
       "    <tr>\n",
       "      <th>71</th>\n",
       "      <td>\u000e</td>\n",
       "      <td>0.0</td>\n",
       "      <td>1</td>\n",
       "    </tr>\n",
       "  </tbody>\n",
       "</table>\n",
       "<p>72 rows × 3 columns</p>\n",
       "</div>"
      ],
      "text/plain": [
       "   Character  Count_positive  Count_negative\n",
       "0          ~           454.0             401\n",
       "1          }            46.0              46\n",
       "2          |           168.0            1065\n",
       "3          {            41.0              42\n",
       "4          z          6118.0            9165\n",
       "..       ...             ...             ...\n",
       "67         !         52891.0           30183\n",
       "68         “             0.0               3\n",
       "69         ×             0.0               2\n",
       "70         \u0013             0.0               1\n",
       "71         \u000e             0.0               1\n",
       "\n",
       "[72 rows x 3 columns]"
      ]
     },
     "execution_count": 14,
     "metadata": {},
     "output_type": "execute_result"
    }
   ],
   "source": [
    "merged_df"
   ]
  },
  {
   "cell_type": "code",
   "execution_count": 15,
   "metadata": {},
   "outputs": [
    {
     "data": {
      "image/png": "[encoded data removed]",
      "text/plain": [
       "<Figure size 2000x1000 with 2 Axes>"
      ]
     },
     "metadata": {},
     "output_type": "display_data"
    }
   ],
   "source": [
    "#Plot the characters for positive labels vs negative labels\n",
    "\n",
    "\n",
    "# Set up a grid of plots\n",
    "fig, axes = plt.subplots(nrows=2, figsize=(20, 10))\n",
    "\n",
    "# Plot positive labels\n",
    "sns.barplot(x='Character', y='Count_positive', data=merged_df, ax=axes[0]).set_title('Positive')\n",
    "\n",
    "# Plot negative labels\n",
    "sns.barplot(x='Character', y='Count_negative', data=merged_df, ax=axes[1]).set_title('Negative')\n",
    "\n",
    "# Get the maximum y value among both dataframes\n",
    "max_y = max(merged_df['Count_positive'].max(), merged_df['Count_negative'].max())\n",
    "\n",
    "# Set the same y limit for both subplots\n",
    "axes[0].set_ylim([0, max_y])\n",
    "axes[1].set_ylim([0, max_y])\n",
    "\n",
    "# Remove horizontal space between axes\n",
    "plt.subplots_adjust(wspace=0.5)\n",
    "\n",
    "# Show the plot\n",
    "plt.show()"
   ]
  },
  {
   "cell_type": "code",
   "execution_count": 16,
   "metadata": {},
   "outputs": [],
   "source": [
    "positive_processed_df = positive_df.copy()\n",
    "negative_processed_df = negative_df.copy()\n",
    "\n",
    "positive_processed_df = positive_processed_df[~positive_processed_df['Character'].isin(list(string.ascii_letters + ' '))]\n",
    "negative_processed_df = negative_processed_df[~negative_processed_df['Character'].isin(list(string.ascii_letters + ' '))]"
   ]
  },
  {
   "cell_type": "code",
   "execution_count": 17,
   "metadata": {},
   "outputs": [
    {
     "data": {
      "image/png": "[encoded data removed]",
      "text/plain": [
       "<Figure size 2000x1000 with 2 Axes>"
      ]
     },
     "metadata": {},
     "output_type": "display_data"
    }
   ],
   "source": [
    "# Set up a grid of plots\n",
    "fig, axes = plt.subplots(nrows=2, figsize=(20, 10))\n",
    "\n",
    "# Plot positive labels\n",
    "sns.barplot(x='Character', y='Count', data=positive_processed_df, ax=axes[0]).set_title('Positive')\n",
    "\n",
    "# Plot negative labels\n",
    "sns.barplot(x='Character', y='Count', data=negative_processed_df, ax=axes[1]).set_title('Negative')\n",
    "\n",
    "# Get the maximum y value among both dataframes\n",
    "max_y = max(positive_processed_df['Count'].max(), negative_processed_df['Count'].max())\n",
    "\n",
    "# Set the same y limit for both subplots\n",
    "axes[0].set_ylim([0, max_y])\n",
    "axes[1].set_ylim([0, max_y])\n",
    "\n",
    "# Remove horizontal space between axes\n",
    "plt.subplots_adjust(wspace=0.5)\n",
    "\n",
    "# Show the plot\n",
    "plt.show()"
   ]
  },
  {
   "cell_type": "markdown",
   "metadata": {},
   "source": [
    "# Removing Duplicates"
   ]
  },
  {
   "cell_type": "code",
   "execution_count": 18,
   "metadata": {},
   "outputs": [
    {
     "name": "stdout",
     "output_type": "stream",
     "text": [
      "Executing: `drop_duplicates`\n",
      "Executing: `drop_duplicates`\n",
      "Executing: `drop_duplicates`\n",
      "Number of duplicates: 18693\n"
     ]
    }
   ],
   "source": [
    "dataset_length = len(data_train)\n",
    "\n",
    "methods = [\n",
    "    'drop_duplicates',\n",
    "]\n",
    "dataset_train, dataset_test = run_preprocessing(methods, full_data=False)\n",
    "\n",
    "# number of duplicates\n",
    "print(\"Number of duplicates:\", dataset_length - len(dataset_train))\n"
   ]
  },
  {
   "cell_type": "code",
   "execution_count": 19,
   "metadata": {},
   "outputs": [
    {
     "name": "stdout",
     "output_type": "stream",
     "text": [
      "Accuracy: 0.796315702388175\n",
      "Computation Time: 10.32128381729126\n"
     ]
    }
   ],
   "source": [
    "start_time = time.time()\n",
    "test_dataset(dataset_train)\n",
    "end_time = time.time()\n",
    "\n",
    "computation_time = end_time - start_time\n",
    "print(\"Computation Time:\", computation_time)"
   ]
  },
  {
   "cell_type": "markdown",
   "metadata": {},
   "source": [
    "# Parenthesis Management\n"
   ]
  },
  {
   "cell_type": "code",
   "execution_count": 20,
   "metadata": {},
   "outputs": [
    {
     "data": {
      "image/png": "[encoded data removed]",
      "text/plain": [
       "<Figure size 1000x500 with 2 Axes>"
      ]
     },
     "metadata": {},
     "output_type": "display_data"
    }
   ],
   "source": [
    "# Count the number of '(' and ')' for each label\n",
    "labels = ['Positive - :)', 'Negative - :(']\n",
    "\n",
    "count_pos_open = data_train[data_train['label'] == 1]['text'].str.count('\\(').sum()\n",
    "count_neg_open = data_train[data_train['label'] == 0]['text'].str.count('\\(').sum()\n",
    "count_pos_close = data_train[data_train['label'] == 1]['text'].str.count('\\)').sum()\n",
    "count_neg_close = data_train[data_train['label'] == 0]['text'].str.count('\\)').sum()\n",
    "\n",
    "counts_open = [count_pos_open, count_neg_open]\n",
    "counts_close = [count_pos_close, count_neg_close]\n",
    "\n",
    "# Create subplots\n",
    "fig, (ax1, ax2) = plt.subplots(1, 2, figsize=(10, 5))\n",
    "\n",
    "# Plot counts of '('\n",
    "ax1.bar(labels, counts_open, label='(')\n",
    "ax1.set_xlabel('Label')\n",
    "ax1.set_ylabel('Count')\n",
    "ax1.set_title(\"Number of '(' by Label\")\n",
    "\n",
    "# Plot counts of ')'\n",
    "ax2.bar(labels, counts_close, label=')')\n",
    "\n",
    "ax2.set_xlabel('Label')\n",
    "ax2.set_ylabel('Count')\n",
    "ax2.set_title(\"Number of ')' by Label\")\n",
    "\n",
    "# Display the subplots\n",
    "plt.tight_layout()\n",
    "\n",
    "plt.show()"
   ]
  },
  {
   "cell_type": "code",
   "execution_count": 21,
   "metadata": {},
   "outputs": [],
   "source": [
    "# Apply remove_tags to the 'text' column. We apply it 3 times in case there are nested parentheses\n",
    "data_train_parenthesis_mng = data_train.copy()\n",
    "data_train_parenthesis_mng['text'] = data_train_parenthesis_mng['text'].apply(remove_parentheses)\n",
    "data_train_parenthesis_mng['text'] = data_train_parenthesis_mng['text'].apply(remove_parentheses)\n",
    "data_train_parenthesis_mng['text'] = data_train_parenthesis_mng['text'].apply(remove_parentheses)\n",
    "data_train_parenthesis_mng['text'] = data_train_parenthesis_mng['text'].apply(remove_parentheses)"
   ]
  },
  {
   "cell_type": "code",
   "execution_count": 22,
   "metadata": {},
   "outputs": [
    {
     "data": {
      "image/png": "[encoded data removed]",
      "text/plain": [
       "<Figure size 1000x500 with 2 Axes>"
      ]
     },
     "metadata": {},
     "output_type": "display_data"
    },
    {
     "data": {
      "text/plain": [
       "':((('"
      ]
     },
     "execution_count": 22,
     "metadata": {},
     "output_type": "execute_result"
    }
   ],
   "source": [
    "# Count the number of '(' and ')' for each label\n",
    "labels = ['Positive - :)', 'Negative - :(']\n",
    "\n",
    "count_pos_open = data_train_parenthesis_mng[data_train_parenthesis_mng['label'] == 1]['text'].str.count('\\(').sum()\n",
    "count_neg_open = data_train_parenthesis_mng[data_train_parenthesis_mng['label'] == 0]['text'].str.count('\\(').sum()\n",
    "count_pos_close = data_train_parenthesis_mng[data_train_parenthesis_mng['label'] == 1]['text'].str.count('\\)').sum()\n",
    "count_neg_close = data_train_parenthesis_mng[data_train_parenthesis_mng['label'] == 0]['text'].str.count('\\)').sum()\n",
    "\n",
    "counts_open = [count_pos_open, count_neg_open]\n",
    "counts_close = [count_pos_close, count_neg_close]\n",
    "\n",
    "# Create subplots\n",
    "fig, (ax1, ax2) = plt.subplots(1, 2, figsize=(10, 5))\n",
    "\n",
    "# Plot counts of '('\n",
    "ax1.bar(labels, counts_open, label='(')\n",
    "ax1.set_xlabel('Label')\n",
    "ax1.set_ylabel('Count')\n",
    "ax1.set_title(\"Number of '(' by Label\")\n",
    "\n",
    "# Plot counts of ')'\n",
    "ax2.bar(labels, counts_close, label=')')\n",
    "\n",
    "ax2.set_xlabel('Label')\n",
    "ax2.set_ylabel('Count')\n",
    "ax2.set_title(\"Number of ')' by Label\")\n",
    "\n",
    "# Display the subplots\n",
    "plt.tight_layout()\n",
    "\n",
    "plt.show()\n",
    "\n",
    "\":)\"\n",
    "\":(((\""
   ]
  },
  {
   "cell_type": "code",
   "execution_count": 23,
   "metadata": {},
   "outputs": [
    {
     "name": "stdout",
     "output_type": "stream",
     "text": [
      "0.9754548445051747\n",
      "0.8422653873157032\n"
     ]
    }
   ],
   "source": [
    "print(count_neg_open/(count_neg_close+count_neg_open))\n",
    "print(count_pos_close/(count_pos_close+count_pos_open))\n",
    "#expected : 0.9754548445051747\n",
    "#expected : 0.8422653873157032"
   ]
  },
  {
   "cell_type": "code",
   "execution_count": 24,
   "metadata": {},
   "outputs": [
    {
     "name": "stdout",
     "output_type": "stream",
     "text": [
      "Executing: `remove_parentheses`\n",
      "Executing: `remove_parentheses`\n",
      "Executing: `drop_duplicates`\n",
      "Accuracy: 0.796315702388175\n",
      "Computation Time: 10.372653484344482\n"
     ]
    }
   ],
   "source": [
    "methods = [\n",
    "    'remove_parentheses',\n",
    "]\n",
    "dataset_train, dataset_test = run_preprocessing(methods, full_data=False)\n",
    "\n",
    "start_time = time.time()\n",
    "test_dataset(dataset_train)\n",
    "end_time = time.time()\n",
    "\n",
    "computation_time = end_time - start_time\n",
    "print(\"Computation Time:\", computation_time)"
   ]
  },
  {
   "cell_type": "markdown",
   "metadata": {},
   "source": [
    "# Remove tags (\\<user\\> and \\<url\\>)"
   ]
  },
  {
   "cell_type": "code",
   "execution_count": 25,
   "metadata": {},
   "outputs": [],
   "source": [
    "#Remove all the words in < > and the < > themselves\n",
    "def remove_tags(text):\n",
    "    \"\"\"\n",
    "    :type text: str\n",
    "    :rtype: str\n",
    "    \"\"\"\n",
    "    return re.sub(\"<[\\w]*>\", \"\", text)"
   ]
  },
  {
   "cell_type": "code",
   "execution_count": 26,
   "metadata": {},
   "outputs": [
    {
     "data": {
      "text/plain": [
       "' i dunno justin read my mention or not . only justin and god knows about that , but i hope you will follow me #believe 15'"
      ]
     },
     "execution_count": 26,
     "metadata": {},
     "output_type": "execute_result"
    }
   ],
   "source": [
    "remove_tags(\"<user> i dunno justin read my mention or not . only justin and god knows about that , but i hope you will follow me #believe 15\")"
   ]
  },
  {
   "cell_type": "code",
   "execution_count": 27,
   "metadata": {},
   "outputs": [
    {
     "name": "stdout",
     "output_type": "stream",
     "text": [
      "Executing: `remove_tag`\n",
      "Executing: `strip`\n",
      "Executing: `remove_tag`\n",
      "Executing: `strip`\n",
      "Executing: `drop_duplicates`\n",
      "Accuracy: 0.79979035639413\n",
      "Computation Time: 14.777869462966919\n"
     ]
    }
   ],
   "source": [
    "methods = [\n",
    "    'remove_tag',\n",
    "]\n",
    "dataset_train, dataset_test = run_preprocessing(methods, full_data=False)\n",
    "\n",
    "start_time = time.time()\n",
    "test_dataset(dataset_train)\n",
    "end_time = time.time()\n",
    "\n",
    "computation_time = end_time - start_time\n",
    "print(\"Computation Time:\", computation_time)"
   ]
  },
  {
   "cell_type": "markdown",
   "metadata": {},
   "source": [
    "# Remove special characters \n",
    "except for `(,),-,!`"
   ]
  },
  {
   "cell_type": "code",
   "execution_count": 28,
   "metadata": {},
   "outputs": [],
   "source": [
    "# Remove all the special characters except for parentheses ()\n",
    "def remove_special_characters(text):\n",
    "    \"\"\"\n",
    "    :type text: str\n",
    "    :rtype: str\n",
    "    \"\"\"\n",
    "    return re.sub('[^a-zA-Z0-9.!\\-()]', ' ', text)"
   ]
  },
  {
   "cell_type": "code",
   "execution_count": 29,
   "metadata": {},
   "outputs": [
    {
     "data": {
      "text/plain": [
       "' user  i dunno justin read my mention or not . only justin and god knows about that   but i hope you will follow me  believe 15'"
      ]
     },
     "execution_count": 29,
     "metadata": {},
     "output_type": "execute_result"
    }
   ],
   "source": [
    "remove_special_characters(\"<user> i dunno justin read my mention or not . only justin and god knows about that , but i hope you will follow me #believe 15\")"
   ]
  },
  {
   "cell_type": "code",
   "execution_count": 30,
   "metadata": {},
   "outputs": [
    {
     "name": "stdout",
     "output_type": "stream",
     "text": [
      "Executing: `remove_selected_characters`\n",
      "Removing selected characters...\n",
      "Executing: `remove_selected_characters`\n",
      "Removing selected characters...\n",
      "Executing: `drop_duplicates`\n",
      "Accuracy: 0.7973300970873787\n",
      "Computation Time: 10.758922576904297\n"
     ]
    }
   ],
   "source": [
    "methods = [\n",
    "    'remove_selected_characters',\n",
    "]\n",
    "dataset_train, dataset_test = run_preprocessing(methods, full_data=False)\n",
    "\n",
    "start_time = time.time()\n",
    "test_dataset(dataset_train)\n",
    "end_time = time.time()\n",
    "\n",
    "computation_time = end_time - start_time\n",
    "print(\"Computation Time:\", computation_time)"
   ]
  },
  {
   "cell_type": "markdown",
   "metadata": {},
   "source": [
    "# Word Segmentation"
   ]
  },
  {
   "cell_type": "code",
   "execution_count": 31,
   "metadata": {},
   "outputs": [
    {
     "name": "stdout",
     "output_type": "stream",
     "text": [
      "Executing: `word_segmentation`\n"
     ]
    },
    {
     "name": "stderr",
     "output_type": "stream",
     "text": [
      "100%|██████████| 10000/10000 [00:10<00:00, 951.00it/s]\n"
     ]
    },
    {
     "name": "stdout",
     "output_type": "stream",
     "text": [
      "Executing: `word_segmentation`\n"
     ]
    },
    {
     "name": "stderr",
     "output_type": "stream",
     "text": [
      "100%|██████████| 200000/200000 [01:43<00:00, 1940.86it/s]\n"
     ]
    },
    {
     "name": "stdout",
     "output_type": "stream",
     "text": [
      "Executing: `drop_duplicates`\n",
      "Accuracy: 0.7945451035547834\n",
      "Computation Time: 10.42528772354126\n"
     ]
    }
   ],
   "source": [
    "methods = [\n",
    "    'word_segmentation',\n",
    "]\n",
    "dataset_train, dataset_test = run_preprocessing(methods, full_data=False)\n",
    "\n",
    "start_time = time.time()\n",
    "test_dataset(dataset_train)\n",
    "end_time = time.time()\n",
    "\n",
    "computation_time = end_time - start_time\n",
    "print(\"Computation Time:\", computation_time)"
   ]
  },
  {
   "cell_type": "markdown",
   "metadata": {},
   "source": [
    "# Hashtag to tag"
   ]
  },
  {
   "cell_type": "code",
   "execution_count": 33,
   "metadata": {},
   "outputs": [
    {
     "name": "stdout",
     "output_type": "stream",
     "text": [
      "Executing: `hashtag_to_tag`\n",
      "Executing: `hashtag_to_tag`\n",
      "Executing: `drop_duplicates`\n",
      "Accuracy: 0.7960399316088467\n",
      "Computation Time: 6.776350736618042\n"
     ]
    }
   ],
   "source": [
    "methods = [\n",
    "    'hashtag_to_tag',\n",
    "]\n",
    "dataset_train, dataset_test = run_preprocessing(methods, full_data=False)\n",
    "\n",
    "start_time = time.time()\n",
    "test_dataset(dataset_train)\n",
    "end_time = time.time()\n",
    "\n",
    "computation_time = end_time - start_time\n",
    "print(\"Computation Time:\", computation_time)"
   ]
  },
  {
   "cell_type": "markdown",
   "metadata": {},
   "source": [
    "# Slang to Word"
   ]
  },
  {
   "cell_type": "code",
   "execution_count": 34,
   "metadata": {},
   "outputs": [
    {
     "name": "stdout",
     "output_type": "stream",
     "text": [
      "Executing: `slang_to_word`\n"
     ]
    },
    {
     "name": "stderr",
     "output_type": "stream",
     "text": [
      "100%|██████████| 10000/10000 [00:00<00:00, 391529.97it/s]\n"
     ]
    },
    {
     "name": "stdout",
     "output_type": "stream",
     "text": [
      "Executing: `slang_to_word`\n"
     ]
    },
    {
     "name": "stderr",
     "output_type": "stream",
     "text": [
      "100%|██████████| 200000/200000 [00:00<00:00, 280401.84it/s]\n"
     ]
    },
    {
     "name": "stdout",
     "output_type": "stream",
     "text": [
      "Executing: `drop_duplicates`\n",
      "Accuracy: 0.7958080529509101\n",
      "Computation Time: 6.465338468551636\n"
     ]
    }
   ],
   "source": [
    "methods = [\n",
    "    'slang_to_word',\n",
    "]\n",
    "dataset_train, dataset_test = run_preprocessing(methods, full_data=False)\n",
    "\n",
    "start_time = time.time()\n",
    "test_dataset(dataset_train)\n",
    "end_time = time.time()\n",
    "\n",
    "computation_time = end_time - start_time\n",
    "print(\"Computation Time:\", computation_time)"
   ]
  },
  {
   "cell_type": "markdown",
   "metadata": {},
   "source": [
    "# Correct Spelling"
   ]
  },
  {
   "cell_type": "code",
   "execution_count": 35,
   "metadata": {},
   "outputs": [
    {
     "name": "stdout",
     "output_type": "stream",
     "text": [
      "Executing: `correct_spelling`\n"
     ]
    },
    {
     "name": "stderr",
     "output_type": "stream",
     "text": [
      "100%|██████████| 10000/10000 [00:09<00:00, 1068.71it/s]\n"
     ]
    },
    {
     "name": "stdout",
     "output_type": "stream",
     "text": [
      "Executing: `correct_spelling`\n"
     ]
    },
    {
     "name": "stderr",
     "output_type": "stream",
     "text": [
      "100%|██████████| 200000/200000 [02:25<00:00, 1376.74it/s]\n"
     ]
    },
    {
     "name": "stdout",
     "output_type": "stream",
     "text": [
      "Executing: `drop_duplicates`\n",
      "Accuracy: 0.7920083947753569\n",
      "Computation Time: 5.358251571655273\n"
     ]
    }
   ],
   "source": [
    "methods = [\n",
    "    'correct_spelling',\n",
    "]\n",
    "dataset_train, dataset_test = run_preprocessing(methods, full_data=False)\n",
    "\n",
    "start_time = time.time()\n",
    "test_dataset(dataset_train)\n",
    "end_time = time.time()\n",
    "\n",
    "computation_time = end_time - start_time\n",
    "print(\"Computation Time:\", computation_time)"
   ]
  },
  {
   "cell_type": "markdown",
   "metadata": {},
   "source": [
    "# Numbers to Tag"
   ]
  },
  {
   "cell_type": "code",
   "execution_count": 36,
   "metadata": {},
   "outputs": [
    {
     "name": "stdout",
     "output_type": "stream",
     "text": [
      "Executing: `num_to_tag`\n",
      "Executing: `num_to_tag`\n",
      "Executing: `drop_duplicates`\n",
      "Accuracy: 0.7958990360505934\n",
      "Computation Time: 9.546303272247314\n"
     ]
    }
   ],
   "source": [
    "methods = [\n",
    "    'num_to_tag',\n",
    "]\n",
    "dataset_train, dataset_test = run_preprocessing(methods, full_data=False)\n",
    "\n",
    "start_time = time.time()\n",
    "test_dataset(dataset_train)\n",
    "end_time = time.time()\n",
    "\n",
    "computation_time = end_time - start_time\n",
    "print(\"Computation Time:\", computation_time)"
   ]
  },
  {
   "cell_type": "markdown",
   "metadata": {},
   "source": [
    "# Lemmatize"
   ]
  },
  {
   "cell_type": "code",
   "execution_count": 37,
   "metadata": {},
   "outputs": [
    {
     "name": "stdout",
     "output_type": "stream",
     "text": [
      "Executing: `lemmatize`\n"
     ]
    },
    {
     "name": "stderr",
     "output_type": "stream",
     "text": [
      "100%|██████████| 10000/10000 [00:10<00:00, 971.20it/s]\n"
     ]
    },
    {
     "name": "stdout",
     "output_type": "stream",
     "text": [
      "Executing: `lemmatize`\n"
     ]
    },
    {
     "name": "stderr",
     "output_type": "stream",
     "text": [
      "100%|██████████| 200000/200000 [03:51<00:00, 862.75it/s] \n"
     ]
    },
    {
     "name": "stdout",
     "output_type": "stream",
     "text": [
      "Executing: `drop_duplicates`\n",
      "Accuracy: 0.795642581356867\n",
      "Computation Time: 12.867077350616455\n"
     ]
    }
   ],
   "source": [
    "methods = [\n",
    "    'lemmatize',\n",
    "]\n",
    "dataset_train, dataset_test = run_preprocessing(methods, full_data=False)\n",
    "\n",
    "start_time = time.time()\n",
    "test_dataset(dataset_train)\n",
    "end_time = time.time()\n",
    "\n",
    "computation_time = end_time - start_time\n",
    "print(\"Computation Time:\", computation_time)"
   ]
  },
  {
   "cell_type": "markdown",
   "metadata": {},
   "source": [
    "# Remove Stop Words"
   ]
  },
  {
   "cell_type": "code",
   "execution_count": 38,
   "metadata": {},
   "outputs": [
    {
     "name": "stdout",
     "output_type": "stream",
     "text": [
      "Executing: `remove_stopwords`\n"
     ]
    },
    {
     "name": "stderr",
     "output_type": "stream",
     "text": [
      "100%|██████████| 10000/10000 [00:00<00:00, 110914.94it/s]\n"
     ]
    },
    {
     "name": "stdout",
     "output_type": "stream",
     "text": [
      "Executing: `remove_stopwords`\n"
     ]
    },
    {
     "name": "stderr",
     "output_type": "stream",
     "text": [
      "100%|██████████| 200000/200000 [00:01<00:00, 120102.89it/s]\n"
     ]
    },
    {
     "name": "stdout",
     "output_type": "stream",
     "text": [
      "Executing: `drop_duplicates`\n",
      "Accuracy: 0.7858902327641084\n",
      "Computation Time: 12.164908647537231\n"
     ]
    }
   ],
   "source": [
    "methods = [\n",
    "    'remove_stopwords',\n",
    "]\n",
    "dataset_train, dataset_test = run_preprocessing(methods, full_data=False)\n",
    "\n",
    "start_time = time.time()\n",
    "test_dataset(dataset_train)\n",
    "end_time = time.time()\n",
    "\n",
    "computation_time = end_time - start_time\n",
    "print(\"Computation Time:\", computation_time)"
   ]
  },
  {
   "cell_type": "markdown",
   "metadata": {},
   "source": [
    "# Combination of best methods\n"
   ]
  },
  {
   "cell_type": "code",
   "execution_count": 39,
   "metadata": {},
   "outputs": [
    {
     "name": "stdout",
     "output_type": "stream",
     "text": [
      "Executing: `drop_duplicates`\n",
      "Executing: `correct_spacing_indexing`\n",
      "Correcting spacing...\n",
      "Executing: `remove_parentheses`\n",
      "Executing: `correct_spacing_indexing`\n",
      "Correcting spacing...\n",
      "Executing: `word_segmentation`\n"
     ]
    },
    {
     "name": "stderr",
     "output_type": "stream",
     "text": [
      "100%|██████████| 9215/9215 [00:11<00:00, 831.57it/s] \n"
     ]
    },
    {
     "name": "stdout",
     "output_type": "stream",
     "text": [
      "Executing: `correct_spacing_indexing`\n",
      "Correcting spacing...\n",
      "Executing: `remove_selected_characters`\n",
      "Removing selected characters...\n",
      "Executing: `correct_spacing_indexing`\n",
      "Correcting spacing...\n",
      "Executing: `hashtag_to_tag`\n",
      "Executing: `drop_duplicates`\n",
      "Executing: `correct_spacing_indexing`\n",
      "Correcting spacing...\n",
      "Executing: `remove_parentheses`\n",
      "Executing: `correct_spacing_indexing`\n",
      "Correcting spacing...\n",
      "Executing: `word_segmentation`\n"
     ]
    },
    {
     "name": "stderr",
     "output_type": "stream",
     "text": [
      "100%|██████████| 181307/181307 [01:36<00:00, 1876.71it/s]\n"
     ]
    },
    {
     "name": "stdout",
     "output_type": "stream",
     "text": [
      "Executing: `correct_spacing_indexing`\n",
      "Correcting spacing...\n",
      "Executing: `remove_selected_characters`\n",
      "Removing selected characters...\n",
      "Executing: `correct_spacing_indexing`\n",
      "Correcting spacing...\n",
      "Executing: `hashtag_to_tag`\n",
      "Executing: `drop_duplicates`\n",
      "Accuracy: 0.7974620689655172\n",
      "Computation Time: 11.514796733856201\n"
     ]
    }
   ],
   "source": [
    "methods = [\n",
    "    'drop_duplicates',\n",
    "    'correct_spacing_indexing', \n",
    "    'remove_parentheses',\n",
    "    'correct_spacing_indexing', \n",
    "    'word_segmentation',\n",
    "    'correct_spacing_indexing',\n",
    "    'remove_selected_characters',\n",
    "    'correct_spacing_indexing',\n",
    "    'hashtag_to_tag',\n",
    "]\n",
    "\n",
    "dataset_train, dataset_test = run_preprocessing(methods, full_data=False)\n",
    "\n",
    "start_time = time.time()\n",
    "test_dataset(dataset_train)\n",
    "end_time = time.time()\n",
    "\n",
    "computation_time = end_time - start_time\n",
    "print(\"Computation Time:\", computation_time)"
   ]
  },
  {
   "cell_type": "markdown",
   "metadata": {},
   "source": [
    "# Google Flan-t5-Large"
   ]
  },
  {
   "cell_type": "code",
   "execution_count": 40,
   "metadata": {},
   "outputs": [
    {
     "name": "stderr",
     "output_type": "stream",
     "text": [
      "You are using the default legacy behaviour of the <class 'transformers.models.t5.tokenization_t5.T5Tokenizer'>. If you see this, DO NOT PANIC! This is expected, and simply means that the `legacy` (previous) behavior will be used so nothing changes for you. If you want to use the new behaviour, set `legacy=False`. This should only be set if you understand what it means, and thouroughly read the reason why this was added as explained in https://github.com/huggingface/transformers/pull/24565\n"
     ]
    },
    {
     "name": "stdout",
     "output_type": "stream",
     "text": [
      "<pad>glad i dot have taks tomorrow!! #thankful #\n"
     ]
    }
   ],
   "source": [
    "# pip install accelerate\n",
    "from transformers import T5Tokenizer, T5ForConditionalGeneration\n",
    "\n",
    "tokenizer = T5Tokenizer.from_pretrained(\"C:/Users/rayji/flan-t5-large\")\n",
    "model = T5ForConditionalGeneration.from_pretrained(\"C:/Users/rayji/flan-t5-large\", device_map=\"auto\")\n",
    "\n",
    "input_text = \"Rewrite this sentence by replacing slang words by normal words, removing spelling mistakes etc. : 'glad i dot have taks tomorrow ! ! #thankful #startho'\"\n",
    "input_ids = tokenizer(input_text, return_tensors=\"pt\").input_ids.to(\"cuda\")\n",
    "\n",
    "outputs = model.generate(input_ids)\n",
    "print(tokenizer.decode(outputs[0]))"
   ]
  }
 ],
 "metadata": {
  "kernelspec": {
   "display_name": "transformers",
   "language": "python",
   "name": "python3"
  },
  "language_info": {
   "codemirror_mode": {
    "name": "ipython",
    "version": 3
   },
   "file_extension": ".py",
   "mimetype": "text/x-python",
   "name": "python",
   "nbconvert_exporter": "python",
   "pygments_lexer": "ipython3",
   "version": "3.11.5"
  }
 },
 "nbformat": 4,
 "nbformat_minor": 2
}

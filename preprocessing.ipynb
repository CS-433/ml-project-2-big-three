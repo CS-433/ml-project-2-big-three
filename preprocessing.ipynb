{
 "cells": [
  {
   "cell_type": "markdown",
   "metadata": {},
   "source": [
    "<user>\n",
    "<url>\n",
    "\n",
    "Positive Smileys : <3 :p :') :d [: >:d < ^ - ^\n",
    "Negative smileys : xd\n",
    "\n",
    "\"(\" or \")\" maybe come from \":((\" or \":))\" that became  \"(\" or \")\" after removing \":(\" or \":)\"\n",
    "Still need to check if \"(\" is followed by a \")\" or not\n",
    "\n",
    "Abbreviations : fr = for real\n",
    "\n",
    "Maybe can try to use a tokenizer specific to Twitter\n",
    "\n",
    "\n",
    "Some tweets are duplicated, x2, x3, x5 ...\n",
    "\n"
   ]
  }
 ],
 "metadata": {
  "language_info": {
   "name": "python"
  }
 },
 "nbformat": 4,
 "nbformat_minor": 2
}

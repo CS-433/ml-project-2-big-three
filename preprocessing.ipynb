{
 "cells": [
  {
   "cell_type": "code",
   "execution_count": 1,
   "metadata": {},
   "outputs": [],
   "source": [
    "from sklearn.feature_extraction.text import TfidfVectorizer\n",
    "from sklearn.linear_model import LogisticRegression\n",
    "from sklearn.model_selection import train_test_split\n",
    "from sklearn.metrics import accuracy_score"
   ]
  },
  {
   "cell_type": "markdown",
   "metadata": {},
   "source": [
    "\\<user\\>\n",
    "\\<url\\>\n",
    "\n",
    "Positive Smileys : <3 :p :') :d [: >:d < ^ - ^\n",
    "Negative smileys : xd\n",
    "\n",
    "\"(\" or \")\" maybe come from \":((\" or \":))\" that became  \"(\" or \")\" after removing \":(\" or \":)\"\n",
    "Still need to check if \"(\" is followed by a \")\" or not\n",
    "\n",
    "Abbreviations : fr = for real\n",
    "\n",
    "Maybe can try to use a tokenizer specific to Twitter\n",
    "\n",
    "\n",
    "Some tweets are duplicated, x2, x3, x5 ...\n",
    "\n"
   ]
  },
  {
   "cell_type": "markdown",
   "metadata": {},
   "source": [
    "# Loading DataSet"
   ]
  },
  {
   "cell_type": "code",
   "execution_count": 3,
   "metadata": {},
   "outputs": [],
   "source": [
    "# Initialize empty lists to store the lines from the files\n",
    "train_neg = []\n",
    "train_pos = []\n",
    "\n",
    "# File paths for the datasets\n",
    "train_neg_file = 'twitter-datasets/train_neg.txt'\n",
    "train_pos_file = 'twitter-datasets/train_pos.txt'\n",
    "\n",
    "# Read lines from 'train_neg' dataset and store them in train_neg_lines\n",
    "with open(train_neg_file, 'r', encoding='utf-8') as file:\n",
    "    for line in file:\n",
    "        train_neg.append(line.strip())  # Remove newline characters\n",
    "\n",
    "# Read lines from 'train_pos' dataset and store them in train_pos_lines\n",
    "with open(train_pos_file, 'r', encoding='utf-8') as file:\n",
    "    for line in file:\n",
    "        train_pos.append(line.strip())  # Remove newline characters"
   ]
  },
  {
   "cell_type": "code",
   "execution_count": 5,
   "metadata": {},
   "outputs": [],
   "source": [
    "# Initialize empty lists to store the lines from the files\n",
    "test = []\n",
    "\n",
    "# File paths for the datasets\n",
    "test_file = 'test_data.txt'\n",
    "\n",
    "# Read lines from 'train_neg' dataset and store them in train_neg_lines\n",
    "with open(test_file, 'r', encoding='utf-8') as file:\n",
    "    for line in file:\n",
    "        test.append(line.strip())  # Remove newline characters"
   ]
  },
  {
   "cell_type": "code",
   "execution_count": 6,
   "metadata": {},
   "outputs": [],
   "source": [
    "import pandas as pd\n",
    "import re\n",
    "from os import listdir\n",
    "from os.path import isfile, join\n",
    "from random import shuffle"
   ]
  },
  {
   "cell_type": "code",
   "execution_count": 7,
   "metadata": {},
   "outputs": [],
   "source": [
    "def create_dataframe(arr_pos, arr_neg):\n",
    "    # Create a DataFrame from arr_pos with \"value\" column set to 1\n",
    "    df_pos = pd.DataFrame({'text': arr_pos, 'label': 1})\n",
    "    \n",
    "    # Create a DataFrame from arr_neg with \"value\" column set to -1\n",
    "    df_neg = pd.DataFrame({'text': arr_neg, 'label': 0})\n",
    "    \n",
    "    # Concatenate the two DataFrames\n",
    "    result_df = pd.concat([df_pos, df_neg], ignore_index=True)\n",
    "    \n",
    "    return result_df"
   ]
  },
  {
   "cell_type": "code",
   "execution_count": 8,
   "metadata": {},
   "outputs": [],
   "source": [
    "data_train = create_dataframe(train_pos, train_neg)"
   ]
  },
  {
   "cell_type": "code",
   "execution_count": 9,
   "metadata": {},
   "outputs": [
    {
     "data": {
      "text/html": [
       "<div>\n",
       "<style scoped>\n",
       "    .dataframe tbody tr th:only-of-type {\n",
       "        vertical-align: middle;\n",
       "    }\n",
       "\n",
       "    .dataframe tbody tr th {\n",
       "        vertical-align: top;\n",
       "    }\n",
       "\n",
       "    .dataframe thead th {\n",
       "        text-align: right;\n",
       "    }\n",
       "</style>\n",
       "<table border=\"1\" class=\"dataframe\">\n",
       "  <thead>\n",
       "    <tr style=\"text-align: right;\">\n",
       "      <th></th>\n",
       "      <th>text</th>\n",
       "      <th>label</th>\n",
       "    </tr>\n",
       "  </thead>\n",
       "  <tbody>\n",
       "    <tr>\n",
       "      <th>0</th>\n",
       "      <td>&lt;user&gt; i dunno justin read my mention or not ....</td>\n",
       "      <td>1</td>\n",
       "    </tr>\n",
       "    <tr>\n",
       "      <th>1</th>\n",
       "      <td>because your logic is so dumb , i won't even c...</td>\n",
       "      <td>1</td>\n",
       "    </tr>\n",
       "    <tr>\n",
       "      <th>2</th>\n",
       "      <td>\" &lt;user&gt; just put casper in a box ! \" looved t...</td>\n",
       "      <td>1</td>\n",
       "    </tr>\n",
       "    <tr>\n",
       "      <th>3</th>\n",
       "      <td>&lt;user&gt; &lt;user&gt; thanks sir &gt; &gt; don't trip lil ma...</td>\n",
       "      <td>1</td>\n",
       "    </tr>\n",
       "    <tr>\n",
       "      <th>4</th>\n",
       "      <td>visiting my brother tmr is the bestest birthda...</td>\n",
       "      <td>1</td>\n",
       "    </tr>\n",
       "    <tr>\n",
       "      <th>...</th>\n",
       "      <td>...</td>\n",
       "      <td>...</td>\n",
       "    </tr>\n",
       "    <tr>\n",
       "      <th>199995</th>\n",
       "      <td>can't wait to fake tan tonight ! hate being pale</td>\n",
       "      <td>0</td>\n",
       "    </tr>\n",
       "    <tr>\n",
       "      <th>199996</th>\n",
       "      <td>&lt;user&gt; darling i lost my internet connection ....</td>\n",
       "      <td>0</td>\n",
       "    </tr>\n",
       "    <tr>\n",
       "      <th>199997</th>\n",
       "      <td>kanguru defender basic 4 gb usb 2.0 flash driv...</td>\n",
       "      <td>0</td>\n",
       "    </tr>\n",
       "    <tr>\n",
       "      <th>199998</th>\n",
       "      <td>rizan is sad now</td>\n",
       "      <td>0</td>\n",
       "    </tr>\n",
       "    <tr>\n",
       "      <th>199999</th>\n",
       "      <td>no text back ? yea , he mad</td>\n",
       "      <td>0</td>\n",
       "    </tr>\n",
       "  </tbody>\n",
       "</table>\n",
       "<p>200000 rows × 2 columns</p>\n",
       "</div>"
      ],
      "text/plain": [
       "                                                     text  label\n",
       "0       <user> i dunno justin read my mention or not ....      1\n",
       "1       because your logic is so dumb , i won't even c...      1\n",
       "2       \" <user> just put casper in a box ! \" looved t...      1\n",
       "3       <user> <user> thanks sir > > don't trip lil ma...      1\n",
       "4       visiting my brother tmr is the bestest birthda...      1\n",
       "...                                                   ...    ...\n",
       "199995   can't wait to fake tan tonight ! hate being pale      0\n",
       "199996  <user> darling i lost my internet connection ....      0\n",
       "199997  kanguru defender basic 4 gb usb 2.0 flash driv...      0\n",
       "199998                                   rizan is sad now      0\n",
       "199999                        no text back ? yea , he mad      0\n",
       "\n",
       "[200000 rows x 2 columns]"
      ]
     },
     "execution_count": 9,
     "metadata": {},
     "output_type": "execute_result"
    }
   ],
   "source": [
    "data_train"
   ]
  },
  {
   "cell_type": "code",
   "execution_count": 10,
   "metadata": {},
   "outputs": [
    {
     "name": "stdout",
     "output_type": "stream",
     "text": [
      "INITIAL ACCURACY: 0.80635\n"
     ]
    }
   ],
   "source": [
    "# Split the data into training and testing sets\n",
    "X_train, X_test, y_train, y_test = train_test_split(data_train['text'], data_train['label'], test_size=0.2, random_state=42)\n",
    "\n",
    "# Create a TF-IDF vectorizer\n",
    "vectorizer = TfidfVectorizer()\n",
    "\n",
    "# Transform the text data into TF-IDF features\n",
    "X_train_tfidf = vectorizer.fit_transform(X_train)\n",
    "X_test_tfidf = vectorizer.transform(X_test)\n",
    "\n",
    "# Train a logistic regression model\n",
    "model = LogisticRegression(max_iter=5000)\n",
    "model.fit(X_train_tfidf, y_train)\n",
    "\n",
    "# Predict labels for the test set\n",
    "y_pred = model.predict(X_test_tfidf)\n",
    "\n",
    "# Calculate accuracy\n",
    "accuracy = accuracy_score(y_test, y_pred)\n",
    "print(\"INITIAL ACCURACY:\", accuracy)"
   ]
  },
  {
   "cell_type": "markdown",
   "metadata": {},
   "source": [
    "# Parenthesis Management\n"
   ]
  },
  {
   "cell_type": "code",
   "execution_count": 11,
   "metadata": {},
   "outputs": [],
   "source": [
    "def check_parentheses(s):\n",
    "    \"\"\"\n",
    "    :type s: str\n",
    "    :rtype: bool\n",
    "    \"\"\"\n",
    "    count = 0\n",
    "    for char in s:\n",
    "        if char == '(':\n",
    "            count += 1\n",
    "        elif char == ')':\n",
    "            if count == 0:\n",
    "                return False\n",
    "            count -= 1\n",
    "    return count == 0"
   ]
  },
  {
   "cell_type": "code",
   "execution_count": 12,
   "metadata": {},
   "outputs": [
    {
     "name": "stdout",
     "output_type": "stream",
     "text": [
      "True\n",
      "True\n",
      "False\n",
      "False\n"
     ]
    }
   ],
   "source": [
    "print(check_parentheses(\"This() is a (test)\"))  # Expected output: True\n",
    "print(check_parentheses(\"This is a test\"))  # Expected output: True\n",
    "print(check_parentheses(\"This is a (test\"))  # Expected output: False\n",
    "print(check_parentheses(\"This is a) test\"))  # Expected output: False"
   ]
  },
  {
   "cell_type": "code",
   "execution_count": 14,
   "metadata": {},
   "outputs": [],
   "source": [
    "def remove_parentheses(s):\n",
    "    \"\"\"\n",
    "    :type s: str\n",
    "    :rtype: str\n",
    "    \"\"\"\n",
    "    result = \"\"\n",
    "    i = 0\n",
    "    while i < len(s):\n",
    "        if s[i] == \"(\":\n",
    "            j = i\n",
    "            while j < len(s) and s[j] != \")\":\n",
    "                if s[j] == \"(\":\n",
    "                    result += s[i:j]\n",
    "                    i = j\n",
    "                j += 1\n",
    "            if j < len(s) and s[j] == \")\":\n",
    "                result += s[i+1:j]\n",
    "                i = j + 1\n",
    "            else:\n",
    "                result += s[i]\n",
    "                i += 1\n",
    "        else:\n",
    "            result += s[i]\n",
    "            i += 1\n",
    "    return result"
   ]
  },
  {
   "cell_type": "code",
   "execution_count": 15,
   "metadata": {},
   "outputs": [
    {
     "name": "stdout",
     "output_type": "stream",
     "text": [
      "This is a test\n",
      "This is a)) test\n",
      "This is a (test\n",
      "((This is a test\n"
     ]
    }
   ],
   "source": [
    "print(remove_parentheses(\"This() is a (test)\"))  # Expected output: \"This is a test\"\n",
    "print(remove_parentheses(\"This is (a))) test\"))  # Expected output: \"This is a) test\"\n",
    "print(remove_parentheses(\"This is a (test\"))  # Expected output: \"This is a (test\"\n",
    "print(remove_parentheses(\"((This( is a) test\"))  # Expected output: \"(This is a test\"\n"
   ]
  },
  {
   "cell_type": "code",
   "execution_count": 16,
   "metadata": {},
   "outputs": [
    {
     "data": {
      "image/png": "[encoded data removed]",
      "text/plain": [
       "<Figure size 1000x500 with 2 Axes>"
      ]
     },
     "metadata": {},
     "output_type": "display_data"
    }
   ],
   "source": [
    "import matplotlib.pyplot as plt\n",
    "\n",
    "# Count the number of '(' and ')' for each label\n",
    "labels = ['Positive - :)', 'Negative - :(']\n",
    "\n",
    "count_pos_open = data_train[data_train['label'] == 1]['text'].str.count('\\(').sum()\n",
    "count_neg_open = data_train[data_train['label'] == 0]['text'].str.count('\\(').sum()\n",
    "count_pos_close = data_train[data_train['label'] == 1]['text'].str.count('\\)').sum()\n",
    "count_neg_close = data_train[data_train['label'] == 0]['text'].str.count('\\)').sum()\n",
    "\n",
    "counts_open = [count_pos_open, count_neg_open]\n",
    "counts_close = [count_pos_close, count_neg_close]\n",
    "\n",
    "# Create subplots\n",
    "fig, (ax1, ax2) = plt.subplots(1, 2, figsize=(10, 5))\n",
    "\n",
    "# Plot counts of '('\n",
    "ax1.bar(labels, counts_open, label='(')\n",
    "ax1.set_xlabel('Label')\n",
    "ax1.set_ylabel('Count')\n",
    "ax1.set_title(\"Number of '(' by Label\")\n",
    "\n",
    "# Plot counts of ')'\n",
    "ax2.bar(labels, counts_close, label=')')\n",
    "\n",
    "ax2.set_xlabel('Label')\n",
    "ax2.set_ylabel('Count')\n",
    "ax2.set_title(\"Number of ')' by Label\")\n",
    "\n",
    "# Display the subplots\n",
    "plt.tight_layout()\n",
    "\n",
    "plt.show()\n"
   ]
  },
  {
   "cell_type": "code",
   "execution_count": 24,
   "metadata": {},
   "outputs": [],
   "source": [
    "# Apply remove_tags to the 'text' column. We apply it 3 times in case there are nested parentheses\n",
    "data_train_parenthesis_mng = data_train.copy()\n",
    "data_train_parenthesis_mng['text'] = data_train_parenthesis_mng['text'].apply(remove_parentheses)\n",
    "data_train_parenthesis_mng['text'] = data_train_parenthesis_mng['text'].apply(remove_parentheses)\n",
    "data_train_parenthesis_mng['text'] = data_train_parenthesis_mng['text'].apply(remove_parentheses)\n",
    "data_train_parenthesis_mng['text'] = data_train_parenthesis_mng['text'].apply(remove_parentheses)"
   ]
  },
  {
   "cell_type": "code",
   "execution_count": 25,
   "metadata": {},
   "outputs": [
    {
     "data": {
      "image/png": "[encoded data removed]",
      "text/plain": [
       "<Figure size 1000x500 with 2 Axes>"
      ]
     },
     "metadata": {},
     "output_type": "display_data"
    },
    {
     "data": {
      "text/plain": [
       "':((('"
      ]
     },
     "execution_count": 25,
     "metadata": {},
     "output_type": "execute_result"
    }
   ],
   "source": [
    "import matplotlib.pyplot as plt\n",
    "\n",
    "# Count the number of '(' and ')' for each label\n",
    "labels = ['Positive - :)', 'Negative - :(']\n",
    "\n",
    "count_pos_open = data_train_parenthesis_mng[data_train_parenthesis_mng['label'] == 1]['text'].str.count('\\(').sum()\n",
    "count_neg_open = data_train_parenthesis_mng[data_train_parenthesis_mng['label'] == 0]['text'].str.count('\\(').sum()\n",
    "count_pos_close = data_train_parenthesis_mng[data_train_parenthesis_mng['label'] == 1]['text'].str.count('\\)').sum()\n",
    "count_neg_close = data_train_parenthesis_mng[data_train_parenthesis_mng['label'] == 0]['text'].str.count('\\)').sum()\n",
    "\n",
    "counts_open = [count_pos_open, count_neg_open]\n",
    "counts_close = [count_pos_close, count_neg_close]\n",
    "\n",
    "# Create subplots\n",
    "fig, (ax1, ax2) = plt.subplots(1, 2, figsize=(10, 5))\n",
    "\n",
    "# Plot counts of '('\n",
    "ax1.bar(labels, counts_open, label='(')\n",
    "ax1.set_xlabel('Label')\n",
    "ax1.set_ylabel('Count')\n",
    "ax1.set_title(\"Number of '(' by Label\")\n",
    "\n",
    "# Plot counts of ')'\n",
    "ax2.bar(labels, counts_close, label=')')\n",
    "\n",
    "ax2.set_xlabel('Label')\n",
    "ax2.set_ylabel('Count')\n",
    "ax2.set_title(\"Number of ')' by Label\")\n",
    "\n",
    "# Display the subplots\n",
    "plt.tight_layout()\n",
    "\n",
    "plt.show()\n",
    "\n",
    "\":)\"\n",
    "\":(((\""
   ]
  },
  {
   "cell_type": "code",
   "execution_count": 26,
   "metadata": {},
   "outputs": [
    {
     "name": "stdout",
     "output_type": "stream",
     "text": [
      "0.9754548445051747\n",
      "0.8422653873157032\n"
     ]
    }
   ],
   "source": [
    "print(count_neg_open/(count_neg_close+count_neg_open))\n",
    "print(count_pos_close/(count_pos_close+count_pos_open))\n",
    "#expected : 0.9754548445051747\n",
    "#expected : 0.8422653873157032"
   ]
  },
  {
   "cell_type": "code",
   "execution_count": 154,
   "metadata": {},
   "outputs": [
    {
     "name": "stdout",
     "output_type": "stream",
     "text": [
      "Accuracy: 0.80635\n"
     ]
    }
   ],
   "source": [
    "# Split the data into training and testing sets\n",
    "X_train, X_test, y_train, y_test = train_test_split(data_train_parenthesis_mng['text'], data_train_parenthesis_mng['label'], test_size=0.2, random_state=42)\n",
    "\n",
    "# Create a TF-IDF vectorizer\n",
    "vectorizer = TfidfVectorizer()\n",
    "\n",
    "# Transform the text data into TF-IDF features\n",
    "X_train_tfidf = vectorizer.fit_transform(X_train)\n",
    "X_test_tfidf = vectorizer.transform(X_test)\n",
    "\n",
    "# Train a logistic regression model\n",
    "model = LogisticRegression(max_iter=5000)\n",
    "model.fit(X_train_tfidf, y_train)\n",
    "\n",
    "# Predict labels for the test set\n",
    "y_pred = model.predict(X_test_tfidf)\n",
    "\n",
    "# Calculate accuracy\n",
    "accuracy = accuracy_score(y_test, y_pred)\n",
    "print(\"Accuracy:\", accuracy)"
   ]
  },
  {
   "cell_type": "code",
   "execution_count": 71,
   "metadata": {},
   "outputs": [
    {
     "name": "stdout",
     "output_type": "stream",
     "text": [
      "NaNs in y_pred_parenthesis: 0.778375\n",
      "Accuracy y_pred_parenthesis: 0.8088\n",
      "Accuracy y_pred: 0.80635\n",
      "Accuracy y_pred: 0.9232938522278624\n"
     ]
    }
   ],
   "source": [
    "import numpy as np\n",
    "\n",
    "y_pred_parenthesis = X_test.apply(lambda x: 0 if '(' in x else 1 if ')' in x else None)\n",
    "#y_pred_parenthesis = X_test.apply(lambda x: 0 if '(' in x else None)\n",
    "\n",
    "\n",
    "num_nans = y_pred_parenthesis.isna().sum()\n",
    "print(\"NaNs in y_pred_parenthesis:\", num_nans/len(y_pred_parenthesis))\n",
    "\n",
    "\n",
    "# Create a boolean mask for NaN values in y_pred_parenthesis\n",
    "nan_mask = y_pred_parenthesis.isna()\n",
    "\n",
    "# Create a boolean mask for non-NaN values in y_pred_parenthesis\n",
    "not_nan_mask = ~nan_mask\n",
    "\n",
    "# Ensure that the length of y_pred is sufficient to replace NaNs\n",
    "y_pred_parenthesis[~not_nan_mask] = y_pred[~not_nan_mask]\n",
    "\n",
    "# Calculate accuracy\n",
    "accuracy = accuracy_score(y_test,y_pred_parenthesis)\n",
    "print(\"Accuracy y_pred_parenthesis:\", accuracy)\n",
    "accuracy = accuracy_score(y_test,y_pred)\n",
    "print(\"Accuracy y_pred:\", accuracy)\n",
    "accuracy = accuracy_score(y_test[~nan_mask],y_pred_parenthesis[~nan_mask])\n",
    "print(\"Accuracy y_pred:\", accuracy)"
   ]
  },
  {
   "cell_type": "markdown",
   "metadata": {},
   "source": [
    "# Removing Duplicates"
   ]
  },
  {
   "cell_type": "code",
   "execution_count": 51,
   "metadata": {},
   "outputs": [
    {
     "name": "stdout",
     "output_type": "stream",
     "text": [
      "Number of duplicates: 229518\n"
     ]
    }
   ],
   "source": [
    "data_train_no_duplicates = data_train.drop_duplicates()\n",
    "\n",
    "# number of duplicates\n",
    "print(\"Number of duplicates:\", len(data_train) - len(data_train_no_duplicates))\n"
   ]
  },
  {
   "cell_type": "code",
   "execution_count": 52,
   "metadata": {},
   "outputs": [
    {
     "data": {
      "text/html": [
       "<div>\n",
       "<style scoped>\n",
       "    .dataframe tbody tr th:only-of-type {\n",
       "        vertical-align: middle;\n",
       "    }\n",
       "\n",
       "    .dataframe tbody tr th {\n",
       "        vertical-align: top;\n",
       "    }\n",
       "\n",
       "    .dataframe thead th {\n",
       "        text-align: right;\n",
       "    }\n",
       "</style>\n",
       "<table border=\"1\" class=\"dataframe\">\n",
       "  <thead>\n",
       "    <tr style=\"text-align: right;\">\n",
       "      <th></th>\n",
       "      <th>text</th>\n",
       "      <th>label</th>\n",
       "    </tr>\n",
       "  </thead>\n",
       "  <tbody>\n",
       "    <tr>\n",
       "      <th>0</th>\n",
       "      <td>&lt;user&gt; i dunno justin read my mention or not ....</td>\n",
       "      <td>1</td>\n",
       "    </tr>\n",
       "    <tr>\n",
       "      <th>1</th>\n",
       "      <td>because your logic is so dumb , i won't even c...</td>\n",
       "      <td>1</td>\n",
       "    </tr>\n",
       "    <tr>\n",
       "      <th>2</th>\n",
       "      <td>\" &lt;user&gt; just put casper in a box ! \" looved t...</td>\n",
       "      <td>1</td>\n",
       "    </tr>\n",
       "    <tr>\n",
       "      <th>3</th>\n",
       "      <td>&lt;user&gt; &lt;user&gt; thanks sir &gt; &gt; don't trip lil ma...</td>\n",
       "      <td>1</td>\n",
       "    </tr>\n",
       "    <tr>\n",
       "      <th>4</th>\n",
       "      <td>visiting my brother tmr is the bestest birthda...</td>\n",
       "      <td>1</td>\n",
       "    </tr>\n",
       "    <tr>\n",
       "      <th>...</th>\n",
       "      <td>...</td>\n",
       "      <td>...</td>\n",
       "    </tr>\n",
       "    <tr>\n",
       "      <th>2499995</th>\n",
       "      <td>im so sorry ! &lt;user&gt; &amp; to &lt;user&gt; &amp; &lt;user&gt; u gu...</td>\n",
       "      <td>0</td>\n",
       "    </tr>\n",
       "    <tr>\n",
       "      <th>2499996</th>\n",
       "      <td>i can't find food coloring anywhere</td>\n",
       "      <td>0</td>\n",
       "    </tr>\n",
       "    <tr>\n",
       "      <th>2499997</th>\n",
       "      <td>&lt;user&gt; same here ! ! but tort ! ! wonder why y...</td>\n",
       "      <td>0</td>\n",
       "    </tr>\n",
       "    <tr>\n",
       "      <th>2499998</th>\n",
       "      <td>keyless entry remote fob clicker for 2005 buic...</td>\n",
       "      <td>0</td>\n",
       "    </tr>\n",
       "    <tr>\n",
       "      <th>2499999</th>\n",
       "      <td>&lt;user&gt; yeap . doctor don't know what's wrong w...</td>\n",
       "      <td>0</td>\n",
       "    </tr>\n",
       "  </tbody>\n",
       "</table>\n",
       "<p>2270482 rows × 2 columns</p>\n",
       "</div>"
      ],
      "text/plain": [
       "                                                      text  label\n",
       "0        <user> i dunno justin read my mention or not ....      1\n",
       "1        because your logic is so dumb , i won't even c...      1\n",
       "2        \" <user> just put casper in a box ! \" looved t...      1\n",
       "3        <user> <user> thanks sir > > don't trip lil ma...      1\n",
       "4        visiting my brother tmr is the bestest birthda...      1\n",
       "...                                                    ...    ...\n",
       "2499995  im so sorry ! <user> & to <user> & <user> u gu...      0\n",
       "2499996                i can't find food coloring anywhere      0\n",
       "2499997  <user> same here ! ! but tort ! ! wonder why y...      0\n",
       "2499998  keyless entry remote fob clicker for 2005 buic...      0\n",
       "2499999  <user> yeap . doctor don't know what's wrong w...      0\n",
       "\n",
       "[2270482 rows x 2 columns]"
      ]
     },
     "execution_count": 52,
     "metadata": {},
     "output_type": "execute_result"
    }
   ],
   "source": [
    "data_train_no_duplicates"
   ]
  },
  {
   "cell_type": "code",
   "execution_count": 53,
   "metadata": {},
   "outputs": [
    {
     "name": "stdout",
     "output_type": "stream",
     "text": [
      "ACCURACY WITHOUT DUPLICATES: 0.8126844307421273\n"
     ]
    }
   ],
   "source": [
    "# Split the data into training and testing sets\n",
    "X_train, X_test, y_train, y_test = train_test_split(data_train_no_duplicates['text'], data_train_no_duplicates['label'], test_size=0.01, random_state=42)\n",
    "\n",
    "# Create a TF-IDF vectorizer\n",
    "vectorizer = TfidfVectorizer()\n",
    "\n",
    "# Transform the text data into TF-IDF features\n",
    "X_train_tfidf = vectorizer.fit_transform(X_train)\n",
    "X_test_tfidf = vectorizer.transform(X_test)\n",
    "\n",
    "# Train a logistic regression model\n",
    "model = LogisticRegression(max_iter=5000)\n",
    "model.fit(X_train_tfidf, y_train)\n",
    "\n",
    "# Predict labels for the test set\n",
    "y_pred = model.predict(X_test_tfidf)\n",
    "\n",
    "# Calculate accuracy\n",
    "accuracy = accuracy_score(y_test, y_pred)\n",
    "print(\"ACCURACY WITHOUT DUPLICATES:\", accuracy)"
   ]
  },
  {
   "cell_type": "code",
   "execution_count": 54,
   "metadata": {},
   "outputs": [],
   "source": [
    "test_data = []\n",
    "with open(\"test_data.txt\", 'r', encoding='utf-8') as file:\n",
    "    for line in file:\n",
    "        test_data.append(line.strip())  # Remove newline characters\n",
    "\n",
    "test_data = pd.DataFrame({'text': test_data})\n",
    "\n",
    "y_test_pred = model.predict(vectorizer.transform(test_data['text']))"
   ]
  },
  {
   "cell_type": "code",
   "execution_count": 55,
   "metadata": {},
   "outputs": [],
   "source": [
    "import numpy as np\n",
    "indexes = np.arange(1, len(y_test_pred)+1)  \n",
    "\n",
    "y_test_pred_2 = np.where(y_test_pred == 0, -1, y_test_pred)\n",
    "\n",
    "submission = pd.DataFrame({'Id':indexes,'Prediction': y_test_pred_2})\n",
    "\n",
    "submission.to_csv('test_predictions.csv', index=False)"
   ]
  },
  {
   "cell_type": "markdown",
   "metadata": {},
   "source": [
    "# Remove \\<user\\> and \\<url\\>"
   ]
  },
  {
   "cell_type": "code",
   "execution_count": 56,
   "metadata": {},
   "outputs": [],
   "source": [
    "#Remove all the words in < > and the < > themselves\n",
    "def remove_tags(text):\n",
    "    \"\"\"\n",
    "    :type text: str\n",
    "    :rtype: str\n",
    "    \"\"\"\n",
    "    return re.sub('<[^>]*>', '', text)"
   ]
  },
  {
   "cell_type": "code",
   "execution_count": 69,
   "metadata": {},
   "outputs": [],
   "source": [
    "# Apply remove_tags to the 'text' column\n",
    "data_train_no_symbols = data_train.copy()\n",
    "data_train_no_symbols['text'] = data_train_no_symbols['text'].apply(remove_tags)"
   ]
  },
  {
   "cell_type": "code",
   "execution_count": 65,
   "metadata": {},
   "outputs": [],
   "source": [
    "# Remove all the special characters except for parentheses ()\n",
    "def remove_special_characters(text):\n",
    "    \"\"\"\n",
    "    :type text: str\n",
    "    :rtype: str\n",
    "    \"\"\"\n",
    "    return re.sub('[^a-zA-Z\\s()]', '', text)\n"
   ]
  },
  {
   "cell_type": "code",
   "execution_count": 67,
   "metadata": {},
   "outputs": [],
   "source": [
    "data_train_no_symbols['text'] = data_train_no_symbols['text'].apply(remove_special_characters)"
   ]
  },
  {
   "cell_type": "code",
   "execution_count": 70,
   "metadata": {},
   "outputs": [
    {
     "data": {
      "text/html": [
       "<div>\n",
       "<style scoped>\n",
       "    .dataframe tbody tr th:only-of-type {\n",
       "        vertical-align: middle;\n",
       "    }\n",
       "\n",
       "    .dataframe tbody tr th {\n",
       "        vertical-align: top;\n",
       "    }\n",
       "\n",
       "    .dataframe thead th {\n",
       "        text-align: right;\n",
       "    }\n",
       "</style>\n",
       "<table border=\"1\" class=\"dataframe\">\n",
       "  <thead>\n",
       "    <tr style=\"text-align: right;\">\n",
       "      <th></th>\n",
       "      <th>text</th>\n",
       "      <th>label</th>\n",
       "    </tr>\n",
       "  </thead>\n",
       "  <tbody>\n",
       "    <tr>\n",
       "      <th>0</th>\n",
       "      <td>i dunno justin read my mention or not . only ...</td>\n",
       "      <td>1</td>\n",
       "    </tr>\n",
       "    <tr>\n",
       "      <th>1</th>\n",
       "      <td>because your logic is so dumb , i won't even c...</td>\n",
       "      <td>1</td>\n",
       "    </tr>\n",
       "    <tr>\n",
       "      <th>2</th>\n",
       "      <td>\"  just put casper in a box ! \" looved the bat...</td>\n",
       "      <td>1</td>\n",
       "    </tr>\n",
       "    <tr>\n",
       "      <th>3</th>\n",
       "      <td>thanks sir &gt; &gt; don't trip lil mama ... just ...</td>\n",
       "      <td>1</td>\n",
       "    </tr>\n",
       "    <tr>\n",
       "      <th>4</th>\n",
       "      <td>visiting my brother tmr is the bestest birthda...</td>\n",
       "      <td>1</td>\n",
       "    </tr>\n",
       "    <tr>\n",
       "      <th>...</th>\n",
       "      <td>...</td>\n",
       "      <td>...</td>\n",
       "    </tr>\n",
       "    <tr>\n",
       "      <th>2499995</th>\n",
       "      <td>im so sorry !  &amp; to  &amp;  u guys are ridiculous ...</td>\n",
       "      <td>0</td>\n",
       "    </tr>\n",
       "    <tr>\n",
       "      <th>2499996</th>\n",
       "      <td>i can't find food coloring anywhere</td>\n",
       "      <td>0</td>\n",
       "    </tr>\n",
       "    <tr>\n",
       "      <th>2499997</th>\n",
       "      <td>same here ! ! but tort ! ! wonder why you cho...</td>\n",
       "      <td>0</td>\n",
       "    </tr>\n",
       "    <tr>\n",
       "      <th>2499998</th>\n",
       "      <td>keyless entry remote fob clicker for 2005 buic...</td>\n",
       "      <td>0</td>\n",
       "    </tr>\n",
       "    <tr>\n",
       "      <th>2499999</th>\n",
       "      <td>yeap . doctor don't know what's wrong with me...</td>\n",
       "      <td>0</td>\n",
       "    </tr>\n",
       "  </tbody>\n",
       "</table>\n",
       "<p>2500000 rows × 2 columns</p>\n",
       "</div>"
      ],
      "text/plain": [
       "                                                      text  label\n",
       "0         i dunno justin read my mention or not . only ...      1\n",
       "1        because your logic is so dumb , i won't even c...      1\n",
       "2        \"  just put casper in a box ! \" looved the bat...      1\n",
       "3          thanks sir > > don't trip lil mama ... just ...      1\n",
       "4        visiting my brother tmr is the bestest birthda...      1\n",
       "...                                                    ...    ...\n",
       "2499995  im so sorry !  & to  &  u guys are ridiculous ...      0\n",
       "2499996                i can't find food coloring anywhere      0\n",
       "2499997   same here ! ! but tort ! ! wonder why you cho...      0\n",
       "2499998  keyless entry remote fob clicker for 2005 buic...      0\n",
       "2499999   yeap . doctor don't know what's wrong with me...      0\n",
       "\n",
       "[2500000 rows x 2 columns]"
      ]
     },
     "execution_count": 70,
     "metadata": {},
     "output_type": "execute_result"
    }
   ],
   "source": [
    "data_train_no_symbols"
   ]
  },
  {
   "cell_type": "code",
   "execution_count": 68,
   "metadata": {},
   "outputs": [],
   "source": [
    "data_train_no_symbols.to_csv('data_train_no_symbols.csv', index=False)\n"
   ]
  },
  {
   "cell_type": "markdown",
   "metadata": {},
   "source": [
    "# Results\n"
   ]
  },
  {
   "cell_type": "markdown",
   "metadata": {},
   "source": [
    "Training Set : Initial Accuracy : 0.81912 | Accuracy without duplicates : 0.81268\n",
    "\n",
    "Test Set : Initial Accuracy : 0.818 | Accuracy without duplicates : 0.820\n",
    "\n",
    "Increase by 0.2% on Test Set\n",
    "\n",
    "Overfitting is happening on the Training set as expected"
   ]
  }
 ],
 "metadata": {
  "kernelspec": {
   "display_name": "transformers",
   "language": "python",
   "name": "python3"
  },
  "language_info": {
   "codemirror_mode": {
    "name": "ipython",
    "version": 3
   },
   "file_extension": ".py",
   "mimetype": "text/x-python",
   "name": "python",
   "nbconvert_exporter": "python",
   "pygments_lexer": "ipython3",
   "version": "3.11.5"
  }
 },
 "nbformat": 4,
 "nbformat_minor": 2
}

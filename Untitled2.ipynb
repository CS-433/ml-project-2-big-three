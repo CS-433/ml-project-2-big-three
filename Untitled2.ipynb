{
 "cells": [
  {
   "cell_type": "code",
   "execution_count": 2,
   "id": "63b7c523-b6a8-4f2f-9aa2-74fab818655a",
   "metadata": {},
   "outputs": [],
   "source": [
    "import pandas as pd\n",
    "import numpy as np\n",
    "import matplotlib.pyplot as plt"
   ]
  },
  {
   "cell_type": "code",
   "execution_count": 3,
   "id": "c0bfbc8e-f749-4d99-87c9-457736e1e684",
   "metadata": {},
   "outputs": [],
   "source": [
    "# Initialize empty lists to store the lines from the files\n",
    "train_neg = []\n",
    "train_pos = []\n",
    "\n",
    "# File paths for the datasets\n",
    "train_neg_file = 'twitter-datasets/train_neg.txt'\n",
    "train_pos_file = 'twitter-datasets/train_pos.txt'\n",
    "\n",
    "# Read lines from 'train_neg' dataset and store them in train_neg_lines\n",
    "with open(train_neg_file, 'r', encoding='utf-8') as file:\n",
    "    for line in file:\n",
    "        train_neg.append(line.strip())  # Remove newline characters\n",
    "\n",
    "# Read lines from 'train_pos' dataset and store them in train_pos_lines\n",
    "with open(train_pos_file, 'r', encoding='utf-8') as file:\n",
    "    for line in file:\n",
    "        train_pos.append(line.strip())  # Remove newline characters"
   ]
  },
  {
   "cell_type": "code",
   "execution_count": 4,
   "id": "ffb1f431-49bc-442e-9fd1-f8d02fc648f4",
   "metadata": {},
   "outputs": [],
   "source": [
    "# Initialize empty lists to store the lines from the files\n",
    "test = []\n",
    "\n",
    "# File paths for the datasets\n",
    "test_file = 'test_data.txt'\n",
    "\n",
    "# Read lines from 'train_neg' dataset and store them in train_neg_lines\n",
    "with open(test_file, 'r', encoding='utf-8') as file:\n",
    "    for line in file:\n",
    "        test.append(line.strip())  # Remove newline characters"
   ]
  },
  {
   "cell_type": "code",
   "execution_count": 5,
   "id": "8c9eabd9-bd62-4a99-ac59-42c9fad28ffb",
   "metadata": {},
   "outputs": [
    {
     "name": "stdout",
     "output_type": "stream",
     "text": [
      "Number of lines in train_neg: 100000\n",
      "Number of lines in train_pos: 100000\n",
      "Number of lines in test: 10000\n"
     ]
    }
   ],
   "source": [
    "# Print the number of lines in each dataset\n",
    "print(\"Number of lines in train_neg:\", len(train_neg))\n",
    "print(\"Number of lines in train_pos:\", len(train_pos))\n",
    "print(\"Number of lines in test:\", len(test))"
   ]
  },
  {
   "cell_type": "code",
   "execution_count": 6,
   "id": "a46e515b-be6e-49b7-8725-5c0c622af4b2",
   "metadata": {},
   "outputs": [],
   "source": [
    "import pandas as pd\n",
    "import re\n",
    "from os import listdir\n",
    "from os.path import isfile, join\n",
    "from random import shuffle"
   ]
  },
  {
   "cell_type": "code",
   "execution_count": 7,
   "id": "e96c0664-bbfa-4461-ac75-8c0336f70cc0",
   "metadata": {},
   "outputs": [],
   "source": [
    "def create_dataframe(arr_pos, arr_neg):\n",
    "    # Create a DataFrame from arr_pos with \"value\" column set to 1\n",
    "    df_pos = pd.DataFrame({'text': arr_pos, 'label': 1})\n",
    "    \n",
    "    # Create a DataFrame from arr_neg with \"value\" column set to -1\n",
    "    df_neg = pd.DataFrame({'text': arr_neg, 'label': 0})\n",
    "    \n",
    "    # Concatenate the two DataFrames\n",
    "    result_df = pd.concat([df_pos, df_neg], ignore_index=True)\n",
    "    \n",
    "    return result_df"
   ]
  },
  {
   "cell_type": "code",
   "execution_count": 8,
   "id": "823c9523-207b-44d5-b5f4-2025509f2b44",
   "metadata": {},
   "outputs": [],
   "source": [
    "data_train = create_dataframe(train_pos, train_neg)"
   ]
  },
  {
   "cell_type": "code",
   "execution_count": 9,
   "id": "8967c6c5-ba02-4212-9a8b-a82cddaea67b",
   "metadata": {},
   "outputs": [
    {
     "data": {
      "text/html": [
       "<div>\n",
       "<style scoped>\n",
       "    .dataframe tbody tr th:only-of-type {\n",
       "        vertical-align: middle;\n",
       "    }\n",
       "\n",
       "    .dataframe tbody tr th {\n",
       "        vertical-align: top;\n",
       "    }\n",
       "\n",
       "    .dataframe thead th {\n",
       "        text-align: right;\n",
       "    }\n",
       "</style>\n",
       "<table border=\"1\" class=\"dataframe\">\n",
       "  <thead>\n",
       "    <tr style=\"text-align: right;\">\n",
       "      <th></th>\n",
       "      <th>text</th>\n",
       "      <th>label</th>\n",
       "    </tr>\n",
       "  </thead>\n",
       "  <tbody>\n",
       "    <tr>\n",
       "      <th>0</th>\n",
       "      <td>&lt;user&gt; i dunno justin read my mention or not ....</td>\n",
       "      <td>1</td>\n",
       "    </tr>\n",
       "    <tr>\n",
       "      <th>1</th>\n",
       "      <td>because your logic is so dumb , i won't even c...</td>\n",
       "      <td>1</td>\n",
       "    </tr>\n",
       "    <tr>\n",
       "      <th>2</th>\n",
       "      <td>\" &lt;user&gt; just put casper in a box ! \" looved t...</td>\n",
       "      <td>1</td>\n",
       "    </tr>\n",
       "    <tr>\n",
       "      <th>3</th>\n",
       "      <td>&lt;user&gt; &lt;user&gt; thanks sir &gt; &gt; don't trip lil ma...</td>\n",
       "      <td>1</td>\n",
       "    </tr>\n",
       "    <tr>\n",
       "      <th>4</th>\n",
       "      <td>visiting my brother tmr is the bestest birthda...</td>\n",
       "      <td>1</td>\n",
       "    </tr>\n",
       "    <tr>\n",
       "      <th>...</th>\n",
       "      <td>...</td>\n",
       "      <td>...</td>\n",
       "    </tr>\n",
       "    <tr>\n",
       "      <th>199995</th>\n",
       "      <td>can't wait to fake tan tonight ! hate being pale</td>\n",
       "      <td>0</td>\n",
       "    </tr>\n",
       "    <tr>\n",
       "      <th>199996</th>\n",
       "      <td>&lt;user&gt; darling i lost my internet connection ....</td>\n",
       "      <td>0</td>\n",
       "    </tr>\n",
       "    <tr>\n",
       "      <th>199997</th>\n",
       "      <td>kanguru defender basic 4 gb usb 2.0 flash driv...</td>\n",
       "      <td>0</td>\n",
       "    </tr>\n",
       "    <tr>\n",
       "      <th>199998</th>\n",
       "      <td>rizan is sad now</td>\n",
       "      <td>0</td>\n",
       "    </tr>\n",
       "    <tr>\n",
       "      <th>199999</th>\n",
       "      <td>no text back ? yea , he mad</td>\n",
       "      <td>0</td>\n",
       "    </tr>\n",
       "  </tbody>\n",
       "</table>\n",
       "<p>200000 rows × 2 columns</p>\n",
       "</div>"
      ],
      "text/plain": [
       "                                                     text  label\n",
       "0       <user> i dunno justin read my mention or not ....      1\n",
       "1       because your logic is so dumb , i won't even c...      1\n",
       "2       \" <user> just put casper in a box ! \" looved t...      1\n",
       "3       <user> <user> thanks sir > > don't trip lil ma...      1\n",
       "4       visiting my brother tmr is the bestest birthda...      1\n",
       "...                                                   ...    ...\n",
       "199995   can't wait to fake tan tonight ! hate being pale      0\n",
       "199996  <user> darling i lost my internet connection ....      0\n",
       "199997  kanguru defender basic 4 gb usb 2.0 flash driv...      0\n",
       "199998                                   rizan is sad now      0\n",
       "199999                        no text back ? yea , he mad      0\n",
       "\n",
       "[200000 rows x 2 columns]"
      ]
     },
     "execution_count": 9,
     "metadata": {},
     "output_type": "execute_result"
    }
   ],
   "source": [
    "data_train"
   ]
  },
  {
   "cell_type": "code",
   "execution_count": 12,
   "id": "24f257b2-c426-4d99-9d55-bf6a3ca60463",
   "metadata": {},
   "outputs": [],
   "source": [
    "from sklearn.feature_extraction.text import TfidfVectorizer\n",
    "from sklearn.linear_model import LogisticRegression\n",
    "from sklearn.model_selection import train_test_split\n",
    "from sklearn.metrics import accuracy_score\n",
    "\n",
    "# Split the data into training and testing sets\n",
    "X_train, X_test, y_train, y_test = train_test_split(data_train['text'], data_train['label'], test_size=0.2, random_state=42)"
   ]
  },
  {
   "cell_type": "code",
   "execution_count": 15,
   "id": "0706b7e2-cc2f-43be-ba04-8e847dc5d42e",
   "metadata": {},
   "outputs": [],
   "source": [
    "# Create a TF-IDF vectorizer\n",
    "vectorizer = TfidfVectorizer()\n",
    "\n",
    "# Transform the text data into TF-IDF features\n",
    "X_train_tfidf = vectorizer.fit_transform(X_train)\n",
    "X_test_tfidf = vectorizer.transform(X_test)\n",
    "\n",
    "# Train a Naive Bayes classifier\n",
    "from sklearn.naive_bayes import MultinomialNB\n",
    "model = MultinomialNB()\n",
    "\n",
    "# Fit the model on the training data\n",
    "model.fit(X_train_tfidf, y_train)\n",
    "\n",
    "# Predict classes for the test set\n",
    "y_pred_proba = model.predict(X_test_tfidf)"
   ]
  },
  {
   "cell_type": "code",
   "execution_count": 17,
   "id": "dfce30e2-d7b9-4786-906f-7781f5c11523",
   "metadata": {},
   "outputs": [],
   "source": [
    "# Range of thresholds from 0.0 to 1.0\n",
    "thresholds = np.arange(0.1, 0.9, 0.05)\n",
    "\n",
    "# Calculate accuracy for each threshold\n",
    "accuracies = []\n",
    "for threshold in thresholds:\n",
    "    # Apply the threshold\n",
    "    predictions = (y_pred_proba >= threshold).astype(int)\n",
    "    # Calculate accuracy\n",
    "    accuracy = accuracy_score(y_test, predictions)\n",
    "    accuracies.append(accuracy)"
   ]
  },
  {
   "cell_type": "code",
   "execution_count": 18,
   "id": "2842550d-26e4-4b53-bff4-cde43f1e2281",
   "metadata": {},
   "outputs": [
    {
     "data": {
      "image/png": "[encoded data removed]",
      "text/plain": [
       "<Figure size 720x432 with 1 Axes>"
      ]
     },
     "metadata": {
      "needs_background": "light"
     },
     "output_type": "display_data"
    }
   ],
   "source": [
    "# Plotting the accuracies\n",
    "plt.figure(figsize=(10, 6))\n",
    "plt.plot(thresholds, accuracies, marker='o')\n",
    "plt.title('Accuracy vs. Decision Threshold')\n",
    "plt.xlabel('Threshold')\n",
    "plt.ylabel('Accuracy')\n",
    "plt.grid(True)\n",
    "plt.xticks(thresholds)\n",
    "plt.show()"
   ]
  },
  {
   "cell_type": "code",
   "execution_count": 20,
   "id": "105cf191-8d4e-4b2d-b8ee-92cf832fb3c9",
   "metadata": {},
   "outputs": [
    {
     "name": "stdout",
     "output_type": "stream",
     "text": [
      "Accuracy with custom threshold: 0.764125\n"
     ]
    }
   ],
   "source": [
    "# Apply the 0.6 threshold\n",
    "# Assuming the positive class is the second one (index 1)\n",
    "y_pred_custom_threshold = (y_pred_proba >= 0.5).astype(int)\n",
    "\n",
    "# Calculate accuracy with the custom threshold\n",
    "accuracy_custom = accuracy_score(y_test, y_pred_custom_threshold)\n",
    "print(\"Accuracy with custom threshold:\", accuracy_custom)"
   ]
  },
  {
   "cell_type": "code",
   "execution_count": null,
   "id": "d797ccf6-4d50-4aa4-9193-b4c74aa4d6e1",
   "metadata": {},
   "outputs": [],
   "source": [
    "# Create a TF-IDF vectorizer\n",
    "from sklearn.feature_extraction.text import TfidfVectorizer\n",
    "vectorizer = TfidfVectorizer()\n",
    "\n",
    "# Transform the text data into TF-IDF features\n",
    "X_train_tfidf = vectorizer.fit_transform(X_train)\n",
    "X_test_tfidf = vectorizer.transform(X_test)\n",
    "\n",
    "# Train a Random Forest Classifier\n",
    "from sklearn.ensemble import RandomForestClassifier\n",
    "model = RandomForestClassifier()\n",
    "\n",
    "# Fit the model on the training data\n",
    "model.fit(X_train_tfidf, y_train)\n",
    "\n",
    "# Predict classes for the test set\n",
    "y_pred = model.predict(X_test_tfidf)"
   ]
  },
  {
   "cell_type": "code",
   "execution_count": null,
   "id": "717211d9-a42b-433b-a570-3de5d835baa5",
   "metadata": {},
   "outputs": [],
   "source": []
  }
 ],
 "metadata": {
  "kernelspec": {
   "display_name": "Python 3 (ipykernel)",
   "language": "python",
   "name": "python3"
  },
  "language_info": {
   "codemirror_mode": {
    "name": "ipython",
    "version": 3
   },
   "file_extension": ".py",
   "mimetype": "text/x-python",
   "name": "python",
   "nbconvert_exporter": "python",
   "pygments_lexer": "ipython3",
   "version": "3.9.5"
  }
 },
 "nbformat": 4,
 "nbformat_minor": 5
}

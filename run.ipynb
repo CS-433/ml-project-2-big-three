{
 "cells": [
  {
   "cell_type": "markdown",
   "id": "9822cf1b6724b03a",
   "metadata": {
    "collapsed": false,
    "jupyter": {
     "outputs_hidden": false
    }
   },
   "source": [
    "# Script to run BERT"
   ]
  },
  {
   "cell_type": "code",
   "execution_count": 34,
   "id": "b7fbf20859842f7d",
   "metadata": {
    "ExecuteTime": {
     "end_time": "2023-12-17T10:06:35.658836Z",
     "start_time": "2023-12-17T10:06:35.490258Z"
    },
    "collapsed": false,
    "jupyter": {
     "outputs_hidden": false
    }
   },
   "outputs": [],
   "source": [
    "from models import *\n",
    "from preprocessing import Preprocessing\n",
    "from tqdm.auto import tqdm"
   ]
  },
  {
   "cell_type": "code",
   "execution_count": 18,
   "id": "c084a55c317b0f45",
   "metadata": {
    "ExecuteTime": {
     "end_time": "2023-12-17T10:06:35.659131Z",
     "start_time": "2023-12-17T10:06:35.632032Z"
    },
    "collapsed": false,
    "jupyter": {
     "outputs_hidden": false
    }
   },
   "outputs": [],
   "source": [
    "TRAIN_NEG_FULL = \"./data/train_neg_full.txt\"\n",
    "TRAIN_POS_FULL = \"./data/train_pos_full.txt\"\n",
    "\n",
    "TRAIN_NEG = \"./data/train_neg.txt\"\n",
    "TRAIN_POS = \"./data/train_pos.txt\"\n",
    "\n",
    "TEST_DATA = \"./data/test_data.txt\"\n",
    "\n",
    "BERT_TRAIN_PREP = \"./data/preprocessed/bert/train.csv\"\n",
    "BERT_TEST_PREP = \"./data/preprocessed/bert/test.csv\""
   ]
  },
  {
   "cell_type": "markdown",
   "id": "a4783630119f906d",
   "metadata": {
    "collapsed": false,
    "jupyter": {
     "outputs_hidden": false
    }
   },
   "source": [
    "## Preprocessing"
   ]
  },
  {
   "cell_type": "code",
   "execution_count": 35,
   "id": "c382cdd9087e51ac",
   "metadata": {
    "ExecuteTime": {
     "end_time": "2023-12-17T10:14:32.355946Z",
     "start_time": "2023-12-17T10:14:32.085752Z"
    },
    "collapsed": false,
    "jupyter": {
     "outputs_hidden": false
    }
   },
   "outputs": [],
   "source": [
    "train_prep = Preprocessing([TRAIN_NEG, TRAIN_POS])\n",
    "test_prep = Preprocessing([TEST_DATA], is_test=True)"
   ]
  },
  {
   "cell_type": "code",
   "execution_count": 36,
   "id": "7c92d9b1241bad06",
   "metadata": {
    "ExecuteTime": {
     "end_time": "2023-12-17T10:14:39.239412Z",
     "start_time": "2023-12-17T10:14:33.040692Z"
    },
    "collapsed": false,
    "jupyter": {
     "outputs_hidden": false
    }
   },
   "outputs": [
    {
     "name": "stderr",
     "output_type": "stream",
     "text": [
      "All PyTorch model weights were used when initializing TFBertForSequenceClassification.\n",
      "\n",
      "Some weights or buffers of the TF 2.0 model TFBertForSequenceClassification were not initialized from the PyTorch model and are newly initialized: ['classifier.weight', 'classifier.bias']\n",
      "You should probably TRAIN this model on a down-stream task to be able to use it for predictions and inference.\n"
     ]
    }
   ],
   "source": [
    "BERT_WEIGHT = \"./weights/bert\"\n",
    "BERT_SUBMISSION = \"./submissions/bert\"\n",
    "MAX_LEN = 128\n",
    "\n",
    "bert = Bert(weight_path=BERT_WEIGHT,\n",
    "            submission_path=BERT_SUBMISSION,\n",
    "            max_length=128)"
   ]
  },
  {
   "cell_type": "code",
   "execution_count": 37,
   "id": "ee2645c43c1c61a",
   "metadata": {
    "ExecuteTime": {
     "end_time": "2023-12-17T10:16:25.413501Z",
     "start_time": "2023-12-17T10:16:22.676492Z"
    },
    "collapsed": false,
    "jupyter": {
     "outputs_hidden": false
    }
   },
   "outputs": [
    {
     "data": {
      "application/vnd.jupyter.widget-view+json": {
       "model_id": "04f1f27bfb4d4f08a33f6de7a4c228f9",
       "version_major": 2,
       "version_minor": 0
      },
      "text/plain": [
       "Preprocessing train data:   0%|          | 0/7 [00:00<?, ?it/s]"
      ]
     },
     "metadata": {},
     "output_type": "display_data"
    },
    {
     "name": "stdout",
     "output_type": "stream",
     "text": [
      "Executing: `drop_duplicates`\n",
      "Executing: `remove_tag`\n",
      "Executing: `strip`\n",
      "Executing: `remove_ellipsis`\n",
      "Executing: `reconstruct_emoji`\n",
      "Executing: `remove_extra_space`\n"
     ]
    },
    {
     "name": "stderr",
     "output_type": "stream",
     "text": [
      "\n",
      "  0%|                                                                                        | 0/181307 [00:00<?, ?it/s]\u001b[A\n",
      " 24%|████████████████▉                                                       | 42779/181307 [00:00<00:00, 427785.31it/s]\u001b[A\n",
      " 52%|█████████████████████████████████████▎                                  | 93956/181307 [00:00<00:00, 477182.76it/s]\u001b[A\n",
      "100%|███████████████████████████████████████████████████████████████████████| 181307/181307 [00:00<00:00, 508442.21it/s]\u001b[A\n"
     ]
    },
    {
     "name": "stdout",
     "output_type": "stream",
     "text": [
      "Executing: `remove_space_before_symbol`\n"
     ]
    },
    {
     "name": "stderr",
     "output_type": "stream",
     "text": [
      "\n",
      "  0%|                                                                                        | 0/181307 [00:00<?, ?it/s]\u001b[A\n",
      " 12%|████████▌                                                               | 21664/181307 [00:00<00:00, 216637.62it/s]\u001b[A\n",
      " 25%|██████████████████                                                      | 45410/181307 [00:00<00:00, 228883.26it/s]\u001b[A\n",
      " 40%|████████████████████████████▌                                           | 71870/181307 [00:00<00:00, 245189.83it/s]\u001b[A\n",
      " 55%|███████████████████████████████████████▎                                | 99095/181307 [00:00<00:00, 255869.97it/s]\u001b[A\n",
      " 70%|█████████████████████████████████████████████████▌                     | 126605/181307 [00:00<00:00, 262800.39it/s]\u001b[A\n",
      "100%|███████████████████████████████████████████████████████████████████████| 181307/181307 [00:00<00:00, 259298.16it/s]\u001b[A\n"
     ]
    },
    {
     "name": "stdout",
     "output_type": "stream",
     "text": [
      "Executing: `remove_extra_space`\n"
     ]
    },
    {
     "name": "stderr",
     "output_type": "stream",
     "text": [
      "\n",
      "  0%|                                                                                        | 0/181307 [00:00<?, ?it/s]\u001b[A\n",
      " 25%|██████████████████                                                      | 45630/181307 [00:00<00:00, 456296.08it/s]\u001b[A\n",
      " 55%|███████████████████████████████████████▍                                | 99447/181307 [00:00<00:00, 504453.79it/s]\u001b[A\n",
      "100%|███████████████████████████████████████████████████████████████████████| 181307/181307 [00:00<00:00, 532609.15it/s]\u001b[A\n"
     ]
    }
   ],
   "source": [
    "for step in tqdm(bert.preprocessing(), desc=\"Preprocessing train data\"):\n",
    "    getattr(train_prep, step)()"
   ]
  },
  {
   "cell_type": "code",
   "execution_count": 38,
   "id": "1b698333c3031917",
   "metadata": {
    "ExecuteTime": {
     "end_time": "2023-12-17T10:06:44.388929Z",
     "start_time": "2023-12-17T10:06:44.352565Z"
    },
    "collapsed": false,
    "jupyter": {
     "outputs_hidden": false
    }
   },
   "outputs": [],
   "source": [
    "train_df = train_prep.__get__()"
   ]
  },
  {
   "cell_type": "code",
   "execution_count": 33,
   "id": "78d17fbf-8441-4590-bf62-1bb4fae14127",
   "metadata": {},
   "outputs": [
    {
     "data": {
      "text/plain": [
       "0         vinco tresorpack 6 ( difficulty 10 of 10 objec...\n",
       "1         glad i dot have taks tomorrow ! ! #thankful #s...\n",
       "2         1-3 vs celtics in the regular season = were fu...\n",
       "3         i could actually kill that girl i'm so sorry !...\n",
       "4                i find that very hard to believe im afraid\n",
       "                                ...                        \n",
       "181242                                 hey gina what's up ?\n",
       "181243    sas 9.1 . 3 and 9.2 , east 5 , s-plus 8 , stat...\n",
       "181244    um gord ... i just read your profile . i'm not...\n",
       "181245    i'm so excited for tomorrow ! look out for two...\n",
       "181246    i always wondered what the job application is ...\n",
       "Name: text, Length: 181247, dtype: object"
      ]
     },
     "execution_count": 33,
     "metadata": {},
     "output_type": "execute_result"
    }
   ],
   "source": [
    "train_df[\"text\"]"
   ]
  },
  {
   "cell_type": "code",
   "execution_count": 28,
   "id": "ec2281c2-4a81-4899-957b-7ffebc2eeeb1",
   "metadata": {},
   "outputs": [
    {
     "data": {
      "text/plain": [
       "'vinco tresorpack 6 :( difficulty 10 of 10 object : disassemble and reassemble the wooden pieces this beautiful wo .'"
      ]
     },
     "execution_count": 28,
     "metadata": {},
     "output_type": "execute_result"
    }
   ],
   "source": [
    "text = \"vinco tresorpack 6 ( difficulty 10 of 10 object : disassemble and reassemble the wooden pieces this beautiful wo .\"\n",
    "\n",
    "\n",
    "def _find_unmatched_parentheses(text):\n",
    "    open_stack = []  # Stack to keep track of indices of '('\n",
    "    unmatched_indices = []  # List to store indices of unmatched parentheses\n",
    "\n",
    "    for i, char in enumerate(text):\n",
    "        if char == '(':\n",
    "            open_stack.append(i)  # Push the index of '(' onto the stack\n",
    "        elif char == ')':\n",
    "            if open_stack:\n",
    "                open_stack.pop()  # Pop the last '(' as it's a matched pair\n",
    "            else:\n",
    "                unmatched_indices.append(i)  # Unmatched ')'\n",
    "\n",
    "    # Add remaining indices from the stack to unmatched_indices\n",
    "    unmatched_indices.extend(open_stack)\n",
    "\n",
    "    return sorted(unmatched_indices)\n",
    "\n",
    "\n",
    "def _add_colon(text) -> str:\n",
    "    unmatched_indices = _find_unmatched_parentheses(text)\n",
    "    if not unmatched_indices:\n",
    "        return text\n",
    "\n",
    "    char_t = list(text)\n",
    "\n",
    "    for i, index in enumerate(unmatched_indices):\n",
    "        char_t.insert(index + i, ':')\n",
    "\n",
    "    return \"\".join(char_t)\n",
    "\n",
    "\n",
    "_add_colon(text)"
   ]
  },
  {
   "cell_type": "code",
   "execution_count": 30,
   "id": "65b777dd-b223-4f10-a810-08d9012a0f57",
   "metadata": {},
   "outputs": [
    {
     "data": {
      "text/plain": [
       "0         vinco tresorpack 6 :( difficulty 10 of 10 obje...\n",
       "1         glad i dot have taks tomorrow ! ! #thankful #s...\n",
       "2         1-3 vs celtics in the regular season = were fu...\n",
       "3         i could actually kill that girl i'm so sorry !...\n",
       "4                i find that very hard to believe im afraid\n",
       "                                ...                        \n",
       "181302                                 hey gina what's up ?\n",
       "181303    sas 9.1 . 3 and 9.2 , east 5 , s-plus 8 , stat...\n",
       "181304    um gord ... i just read your profile . i'm not...\n",
       "181305    i'm so excited for tomorrow ! look out for two...\n",
       "181306    i always wondered what the job application is ...\n",
       "Name: text, Length: 181307, dtype: object"
      ]
     },
     "execution_count": 30,
     "metadata": {},
     "output_type": "execute_result"
    }
   ],
   "source": [
    "train_df[\"text\"].apply(_add_colon)"
   ]
  },
  {
   "cell_type": "markdown",
   "id": "38d1e9be79d9b2ed",
   "metadata": {
    "collapsed": false,
    "jupyter": {
     "outputs_hidden": false
    }
   },
   "source": [
    "# Training"
   ]
  }
 ],
 "metadata": {
  "kernelspec": {
   "display_name": "Python 3 (ipykernel)",
   "language": "python",
   "name": "python3"
  },
  "language_info": {
   "codemirror_mode": {
    "name": "ipython",
    "version": 3
   },
   "file_extension": ".py",
   "mimetype": "text/x-python",
   "name": "python",
   "nbconvert_exporter": "python",
   "pygments_lexer": "ipython3",
   "version": "3.10.12"
  }
 },
 "nbformat": 4,
 "nbformat_minor": 5
}
